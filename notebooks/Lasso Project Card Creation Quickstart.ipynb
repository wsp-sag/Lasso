{
 "cells": [
  {
   "cell_type": "markdown",
   "metadata": {},
   "source": [
    "# Project Card Creation Quickstart\n",
    "\n",
    "In this notebook we will run through:\n",
    "\n",
    "1. creating a highway project card from a cube log file\n",
    "2. creating a transit project card from two cube line files"
   ]
  },
  {
   "cell_type": "code",
   "execution_count": 9,
   "metadata": {},
   "outputs": [],
   "source": [
    "import os\n",
    "import sys\n",
    "\n",
    "from lasso import Project\n",
    "from lasso import CubeTransit\n",
    "from network_wrangler import RoadwayNetwork\n",
    "from network_wrangler import WranglerLogger"
   ]
  },
  {
   "cell_type": "code",
   "execution_count": 10,
   "metadata": {},
   "outputs": [
    {
     "name": "stdout",
     "output_type": "stream",
     "text": [
      "The autoreload extension is already loaded. To reload it, use:\n",
      "  %reload_ext autoreload\n"
     ]
    }
   ],
   "source": [
    "%load_ext autoreload\n",
    "%autoreload 2"
   ]
  },
  {
   "cell_type": "code",
   "execution_count": 11,
   "metadata": {},
   "outputs": [],
   "source": [
    "import logging\n",
    "logger = logging.getLogger(\"WranglerLogger\")\n",
    "logger.handlers[0].stream = sys.stdout\n",
    "# if you don't want to see so much detail, set to logging.INFO or DEBUG\n",
    "logger.setLevel(logging.INFO)"
   ]
  },
  {
   "cell_type": "code",
   "execution_count": 12,
   "metadata": {},
   "outputs": [
    {
     "data": {
      "text/plain": [
       "'/Users/wsp/Documents/GitHub/Lasso/examples'"
      ]
     },
     "execution_count": 12,
     "metadata": {},
     "output_type": "execute_result"
    }
   ],
   "source": [
    "#set examples directory\n",
    "EX_DIR = os.path.join(os.path.dirname(os.getcwd()), \"examples\")\n",
    "SCRATCH_DIR = os.path.join(os.path.dirname(os.getcwd()), \"tests\",\"scratch\")\n",
    "EX_DIR"
   ]
  },
  {
   "cell_type": "markdown",
   "metadata": {},
   "source": [
    "## Roadway Project Card\n",
    "\n",
    "Roadway project cards are built by reading in a base network in the standard network format and a then processing cube log files.  \n",
    "\n",
    "The log file information is stored in a dataframe called `roadway_changes`\n",
    "\n",
    "The project card data is created when comparing log file to the base network and is  stored in the variable `card_data`"
   ]
  },
  {
   "cell_type": "code",
   "execution_count": 13,
   "metadata": {},
   "outputs": [
    {
     "name": "stdout",
     "output_type": "stream",
     "text": [
      "2020-06-11 09:30:19, INFO: No base transit network.\n",
      "2020-06-11 09:30:19, INFO: No transit changes given or processed.\n",
      "2020-06-11 09:30:19, INFO: Reading logfile: /Users/wsp/Documents/GitHub/Lasso/examples/cube/st_paul_test.log\n",
      "2020-06-11 09:30:19, INFO: Processed 1 Node lines and 7 Link lines\n",
      "2020-06-11 09:30:19, INFO: Reading from following files:\n",
      "-/Users/wsp/Documents/GitHub/Lasso/examples/stpaul/link.json\n",
      "-/Users/wsp/Documents/GitHub/Lasso/examples/stpaul/node.geojson\n",
      "-/Users/wsp/Documents/GitHub/Lasso/examples/stpaul/shape.geojson.\n",
      "2020-06-11 09:30:24, INFO: Read 66253 links from /Users/wsp/Documents/GitHub/Lasso/examples/stpaul/link.json\n",
      "2020-06-11 09:30:24, INFO: Read 17159 nodes from /Users/wsp/Documents/GitHub/Lasso/examples/stpaul/node.geojson\n",
      "2020-06-11 09:30:24, INFO: Read 66253 shapes from /Users/wsp/Documents/GitHub/Lasso/examples/stpaul/shape.geojson\n",
      "2020-06-11 09:30:45, INFO: Lasso base directory set as: /Users/wsp/Documents/GitHub/Lasso\n",
      "2020-06-11 09:30:45, INFO: Filling nan for network from network wrangler\n",
      "2020-06-11 09:30:45, INFO: Converting variable type to MetCouncil standard\n",
      "2020-06-11 09:30:46, WARNING: Specified variable to split: ML_lanes not in network variables: Index(['model_link_id', 'osm_link_id', 'shstReferenceId', 'shstGeometryId',\n",
      "       'u', 'v', 'A', 'B', 'locationReferences', 'distance', 'roadway', 'name',\n",
      "       'ref', 'bridge', 'tunnel', 'width', 'max_speed', 'bike_facility',\n",
      "       'drive_access', 'walk_access', 'bike_access', 'truck_access',\n",
      "       'bus_only', 'rail_only', 'lanes', 'access', 'price', 'trn_priority',\n",
      "       'ttime_assert', 'geometry', 'trn_priority_AM', 'trn_priority_MD',\n",
      "       'trn_priority_PM', 'trn_priority_NT', 'ttime_assert_AM',\n",
      "       'ttime_assert_MD', 'ttime_assert_PM', 'ttime_assert_NT', 'lanes_AM',\n",
      "       'lanes_MD', 'lanes_PM', 'lanes_NT'],\n",
      "      dtype='object'). Returning 0.\n",
      "2020-06-11 09:30:46, INFO: Lasso base directory set as: /Users/wsp/Documents/GitHub/Lasso\n",
      "2020-06-11 09:30:46, INFO: Evaluating compatibility between roadway network changes and base network. Not evaluating deletions.\n",
      "2020-06-11 09:30:47, INFO: Evaluating project changes.\n",
      "2020-06-11 09:30:47, WARNING: The following attributes are specified in the changes but do not exist in the base network: ['OPERATION_final']\n",
      "2020-06-11 09:30:47, INFO: Lasso base directory set as: /Users/wsp/Documents/GitHub/Lasso\n",
      "2020-06-11 09:30:47, INFO: Lasso base directory set as: /Users/wsp/Documents/GitHub/Lasso\n",
      "2020-06-11 09:30:47, INFO: Lasso base directory set as: /Users/wsp/Documents/GitHub/Lasso\n",
      "2020-06-11 09:30:47, INFO: Lasso base directory set as: /Users/wsp/Documents/GitHub/Lasso\n",
      "2020-06-11 09:30:47, INFO: Lasso base directory set as: /Users/wsp/Documents/GitHub/Lasso\n",
      "2020-06-11 09:30:47, INFO: Lasso base directory set as: /Users/wsp/Documents/GitHub/Lasso\n",
      "2020-06-11 09:30:47, INFO: Lasso base directory set as: /Users/wsp/Documents/GitHub/Lasso\n",
      "2020-06-11 09:30:47, INFO: Lasso base directory set as: /Users/wsp/Documents/GitHub/Lasso\n"
     ]
    }
   ],
   "source": [
    "test_roadway_project = Project.create_project(\n",
    "        base_roadway_dir=os.path.join(EX_DIR,\"stpaul\"),\n",
    "        roadway_log_file=os.path.join(EX_DIR,\"cube\",\"st_paul_test.log\"),\n",
    "    )"
   ]
  },
  {
   "cell_type": "code",
   "execution_count": 14,
   "metadata": {},
   "outputs": [
    {
     "data": {
      "text/html": [
       "<div>\n",
       "<style scoped>\n",
       "    .dataframe tbody tr th:only-of-type {\n",
       "        vertical-align: middle;\n",
       "    }\n",
       "\n",
       "    .dataframe tbody tr th {\n",
       "        vertical-align: top;\n",
       "    }\n",
       "\n",
       "    .dataframe thead th {\n",
       "        text-align: right;\n",
       "    }\n",
       "</style>\n",
       "<table border=\"1\" class=\"dataframe\">\n",
       "  <thead>\n",
       "    <tr style=\"text-align: right;\">\n",
       "      <th></th>\n",
       "      <th>OBJECT</th>\n",
       "      <th>OPERATION</th>\n",
       "      <th>GROUP</th>\n",
       "      <th>A</th>\n",
       "      <th>B</th>\n",
       "      <th>model_link_id</th>\n",
       "      <th>county</th>\n",
       "      <th>trn_priority</th>\n",
       "      <th>area_type</th>\n",
       "      <th>HOV_access</th>\n",
       "      <th>...</th>\n",
       "      <th>distance</th>\n",
       "      <th>ttime_assert</th>\n",
       "      <th>model_node_id</th>\n",
       "      <th>X</th>\n",
       "      <th>Y</th>\n",
       "      <th>osm_node_id</th>\n",
       "      <th>drive_node</th>\n",
       "      <th>walk_node</th>\n",
       "      <th>bike_node</th>\n",
       "      <th>transit_node</th>\n",
       "    </tr>\n",
       "  </thead>\n",
       "  <tbody>\n",
       "    <tr>\n",
       "      <th>0</th>\n",
       "      <td>L</td>\n",
       "      <td>C</td>\n",
       "      <td>0</td>\n",
       "      <td>3230</td>\n",
       "      <td>52771</td>\n",
       "      <td>224</td>\n",
       "      <td>5</td>\n",
       "      <td>0</td>\n",
       "      <td>4</td>\n",
       "      <td>0</td>\n",
       "      <td>...</td>\n",
       "      <td>0.10462</td>\n",
       "      <td>0</td>\n",
       "      <td>NaN</td>\n",
       "      <td>NaN</td>\n",
       "      <td>NaN</td>\n",
       "      <td>NaN</td>\n",
       "      <td>NaN</td>\n",
       "      <td>NaN</td>\n",
       "      <td>NaN</td>\n",
       "      <td>NaN</td>\n",
       "    </tr>\n",
       "    <tr>\n",
       "      <th>1</th>\n",
       "      <td>L</td>\n",
       "      <td>C</td>\n",
       "      <td>0</td>\n",
       "      <td>3261</td>\n",
       "      <td>3262</td>\n",
       "      <td>280</td>\n",
       "      <td>5</td>\n",
       "      <td>0</td>\n",
       "      <td>4</td>\n",
       "      <td>0</td>\n",
       "      <td>...</td>\n",
       "      <td>0.0700962307</td>\n",
       "      <td>0</td>\n",
       "      <td>NaN</td>\n",
       "      <td>NaN</td>\n",
       "      <td>NaN</td>\n",
       "      <td>NaN</td>\n",
       "      <td>NaN</td>\n",
       "      <td>NaN</td>\n",
       "      <td>NaN</td>\n",
       "      <td>NaN</td>\n",
       "    </tr>\n",
       "    <tr>\n",
       "      <th>2</th>\n",
       "      <td>L</td>\n",
       "      <td>C</td>\n",
       "      <td>0</td>\n",
       "      <td>3261</td>\n",
       "      <td>68075</td>\n",
       "      <td>282</td>\n",
       "      <td>5</td>\n",
       "      <td>0</td>\n",
       "      <td>4</td>\n",
       "      <td>0</td>\n",
       "      <td>...</td>\n",
       "      <td>0.0773286313</td>\n",
       "      <td>0</td>\n",
       "      <td>NaN</td>\n",
       "      <td>NaN</td>\n",
       "      <td>NaN</td>\n",
       "      <td>NaN</td>\n",
       "      <td>NaN</td>\n",
       "      <td>NaN</td>\n",
       "      <td>NaN</td>\n",
       "      <td>NaN</td>\n",
       "    </tr>\n",
       "    <tr>\n",
       "      <th>3</th>\n",
       "      <td>L</td>\n",
       "      <td>A</td>\n",
       "      <td>0</td>\n",
       "      <td>3230</td>\n",
       "      <td>3262</td>\n",
       "      <td>999998</td>\n",
       "      <td>5</td>\n",
       "      <td>0</td>\n",
       "      <td>4</td>\n",
       "      <td>0</td>\n",
       "      <td>...</td>\n",
       "      <td>0.10462</td>\n",
       "      <td>0</td>\n",
       "      <td>NaN</td>\n",
       "      <td>NaN</td>\n",
       "      <td>NaN</td>\n",
       "      <td>NaN</td>\n",
       "      <td>NaN</td>\n",
       "      <td>NaN</td>\n",
       "      <td>NaN</td>\n",
       "      <td>NaN</td>\n",
       "    </tr>\n",
       "    <tr>\n",
       "      <th>4</th>\n",
       "      <td>L</td>\n",
       "      <td>A</td>\n",
       "      <td>0</td>\n",
       "      <td>3262</td>\n",
       "      <td>3230</td>\n",
       "      <td>999997</td>\n",
       "      <td>5</td>\n",
       "      <td>0</td>\n",
       "      <td>4</td>\n",
       "      <td>0</td>\n",
       "      <td>...</td>\n",
       "      <td>0.10462</td>\n",
       "      <td>0</td>\n",
       "      <td>NaN</td>\n",
       "      <td>NaN</td>\n",
       "      <td>NaN</td>\n",
       "      <td>NaN</td>\n",
       "      <td>NaN</td>\n",
       "      <td>NaN</td>\n",
       "      <td>NaN</td>\n",
       "      <td>NaN</td>\n",
       "    </tr>\n",
       "    <tr>\n",
       "      <th>5</th>\n",
       "      <td>L</td>\n",
       "      <td>D</td>\n",
       "      <td>0</td>\n",
       "      <td>3261</td>\n",
       "      <td>131209</td>\n",
       "      <td>281</td>\n",
       "      <td>5</td>\n",
       "      <td>0</td>\n",
       "      <td>4</td>\n",
       "      <td>0</td>\n",
       "      <td>...</td>\n",
       "      <td>0.10462</td>\n",
       "      <td>0</td>\n",
       "      <td>NaN</td>\n",
       "      <td>NaN</td>\n",
       "      <td>NaN</td>\n",
       "      <td>NaN</td>\n",
       "      <td>NaN</td>\n",
       "      <td>NaN</td>\n",
       "      <td>NaN</td>\n",
       "      <td>NaN</td>\n",
       "    </tr>\n",
       "    <tr>\n",
       "      <th>6</th>\n",
       "      <td>L</td>\n",
       "      <td>D</td>\n",
       "      <td>0</td>\n",
       "      <td>178775</td>\n",
       "      <td>42542</td>\n",
       "      <td>477533</td>\n",
       "      <td>5</td>\n",
       "      <td>0</td>\n",
       "      <td>4</td>\n",
       "      <td>0</td>\n",
       "      <td>...</td>\n",
       "      <td>0.10462</td>\n",
       "      <td>0</td>\n",
       "      <td>NaN</td>\n",
       "      <td>NaN</td>\n",
       "      <td>NaN</td>\n",
       "      <td>NaN</td>\n",
       "      <td>NaN</td>\n",
       "      <td>NaN</td>\n",
       "      <td>NaN</td>\n",
       "      <td>NaN</td>\n",
       "    </tr>\n",
       "    <tr>\n",
       "      <th>7</th>\n",
       "      <td>N</td>\n",
       "      <td>A</td>\n",
       "      <td>0</td>\n",
       "      <td>NaN</td>\n",
       "      <td>NaN</td>\n",
       "      <td>NaN</td>\n",
       "      <td>NaN</td>\n",
       "      <td>NaN</td>\n",
       "      <td>NaN</td>\n",
       "      <td>NaN</td>\n",
       "      <td>...</td>\n",
       "      <td>NaN</td>\n",
       "      <td>NaN</td>\n",
       "      <td>354388</td>\n",
       "      <td>-93.18389</td>\n",
       "      <td>44.96898</td>\n",
       "      <td></td>\n",
       "      <td>1</td>\n",
       "      <td>0</td>\n",
       "      <td>0</td>\n",
       "      <td>0</td>\n",
       "    </tr>\n",
       "  </tbody>\n",
       "</table>\n",
       "<p>8 rows × 35 columns</p>\n",
       "</div>"
      ],
      "text/plain": [
       "  OBJECT OPERATION GROUP       A       B model_link_id county trn_priority  \\\n",
       "0      L         C     0    3230   52771           224      5            0   \n",
       "1      L         C     0    3261    3262           280      5            0   \n",
       "2      L         C     0    3261   68075           282      5            0   \n",
       "3      L         A     0    3230    3262        999998      5            0   \n",
       "4      L         A     0    3262    3230        999997      5            0   \n",
       "5      L         D     0    3261  131209           281      5            0   \n",
       "6      L         D     0  178775   42542        477533      5            0   \n",
       "7      N         A     0     NaN     NaN           NaN    NaN          NaN   \n",
       "\n",
       "  area_type HOV_access  ...      distance ttime_assert model_node_id  \\\n",
       "0         4          0  ...       0.10462            0           NaN   \n",
       "1         4          0  ...  0.0700962307            0           NaN   \n",
       "2         4          0  ...  0.0773286313            0           NaN   \n",
       "3         4          0  ...       0.10462            0           NaN   \n",
       "4         4          0  ...       0.10462            0           NaN   \n",
       "5         4          0  ...       0.10462            0           NaN   \n",
       "6         4          0  ...       0.10462            0           NaN   \n",
       "7       NaN        NaN  ...           NaN          NaN        354388   \n",
       "\n",
       "           X         Y osm_node_id drive_node walk_node bike_node transit_node  \n",
       "0        NaN       NaN         NaN        NaN       NaN       NaN          NaN  \n",
       "1        NaN       NaN         NaN        NaN       NaN       NaN          NaN  \n",
       "2        NaN       NaN         NaN        NaN       NaN       NaN          NaN  \n",
       "3        NaN       NaN         NaN        NaN       NaN       NaN          NaN  \n",
       "4        NaN       NaN         NaN        NaN       NaN       NaN          NaN  \n",
       "5        NaN       NaN         NaN        NaN       NaN       NaN          NaN  \n",
       "6        NaN       NaN         NaN        NaN       NaN       NaN          NaN  \n",
       "7  -93.18389  44.96898                      1         0         0            0  \n",
       "\n",
       "[8 rows x 35 columns]"
      ]
     },
     "execution_count": 14,
     "metadata": {},
     "output_type": "execute_result"
    }
   ],
   "source": [
    "test_roadway_project.roadway_changes[0:10]"
   ]
  },
  {
   "cell_type": "code",
   "execution_count": 15,
   "metadata": {},
   "outputs": [
    {
     "data": {
      "text/plain": [
       "Index(['OBJECT', 'OPERATION', 'GROUP', 'A', 'B', 'model_link_id', 'county',\n",
       "       'trn_priority', 'area_type', 'HOV_access', 'aadt', 'count_AM',\n",
       "       'count_MD', 'count_PM', 'count_NT', 'count_daily', 'assign_group',\n",
       "       'lanes', 'centroidconnect', 'roadway_class', 'bike_facility',\n",
       "       'drive_access', 'walk_access', 'bike_access', 'transit_access',\n",
       "       'distance', 'ttime_assert', 'model_node_id', 'X', 'Y', 'osm_node_id',\n",
       "       'drive_node', 'walk_node', 'bike_node', 'transit_node'],\n",
       "      dtype='object')"
      ]
     },
     "execution_count": 15,
     "metadata": {},
     "output_type": "execute_result"
    }
   ],
   "source": [
    "test_roadway_project.roadway_changes.columns"
   ]
  },
  {
   "cell_type": "code",
   "execution_count": 16,
   "metadata": {},
   "outputs": [
    {
     "data": {
      "text/plain": [
       "{'project': 'USER TO define',\n",
       " 'changes': [{'category': 'Roadway Deletion',\n",
       "   'links': {'model_link_id': [281, 477533]}},\n",
       "  {'category': 'Add New Roadway',\n",
       "   'links': [{'A': 3230,\n",
       "     'B': 3262,\n",
       "     'model_link_id': 999998,\n",
       "     'trn_priority': 0,\n",
       "     'lanes': 1,\n",
       "     'bike_facility': 3,\n",
       "     'drive_access': 1,\n",
       "     'walk_access': 1,\n",
       "     'bike_access': 1,\n",
       "     'distance': 0.10462,\n",
       "     'ttime_assert': 0.0,\n",
       "     'OPERATION_final': 'A'},\n",
       "    {'A': 3262,\n",
       "     'B': 3230,\n",
       "     'model_link_id': 999997,\n",
       "     'trn_priority': 0,\n",
       "     'lanes': 1,\n",
       "     'bike_facility': 3,\n",
       "     'drive_access': 1,\n",
       "     'walk_access': 1,\n",
       "     'bike_access': 1,\n",
       "     'distance': 0.10462,\n",
       "     'ttime_assert': 0.0,\n",
       "     'OPERATION_final': 'A'}],\n",
       "   'nodes': [{'model_node_id': 354388,\n",
       "     'osm_node_id': '',\n",
       "     'drive_node': 1,\n",
       "     'walk_node': 0,\n",
       "     'bike_node': 0}]},\n",
       "  {'facility': {'link': [{'model_link_id': [280, 282]}]},\n",
       "   'properties': {'existing': 0, 'set': 1, 'property': 'bike_access'},\n",
       "   'category': 'Roadway Property Change'},\n",
       "  {'facility': {'link': [{'model_link_id': [224]}]},\n",
       "   'properties': {'existing': 0, 'set': 1, 'property': 'drive_access'},\n",
       "   'category': 'Roadway Property Change'},\n",
       "  {'facility': {'link': [{'model_link_id': [280, 282]}]},\n",
       "   'properties': {'existing': 0, 'set': 1, 'property': 'walk_access'},\n",
       "   'category': 'Roadway Property Change'},\n",
       "  {'facility': {'link': [{'model_link_id': [280, 282]}]},\n",
       "   'properties': {'existing': 0, 'set': 3, 'property': 'bike_facility'},\n",
       "   'category': 'Roadway Property Change'},\n",
       "  {'facility': {'link': [{'model_link_id': [224]}]},\n",
       "   'properties': {'existing': 0.0503218951,\n",
       "    'set': 0.10462,\n",
       "    'property': 'distance'},\n",
       "   'category': 'Roadway Property Change'}]}"
      ]
     },
     "execution_count": 16,
     "metadata": {},
     "output_type": "execute_result"
    }
   ],
   "source": [
    "test_roadway_project.card_data"
   ]
  },
  {
   "cell_type": "code",
   "execution_count": 17,
   "metadata": {},
   "outputs": [
    {
     "name": "stdout",
     "output_type": "stream",
     "text": [
      "2020-06-11 09:30:47, INFO: Wrote project card to: roadway_test.yml\n"
     ]
    }
   ],
   "source": [
    "test_roadway_project.write_project_card(\n",
    "        \"roadway_test.yml\"\n",
    "    )"
   ]
  },
  {
   "cell_type": "markdown",
   "metadata": {},
   "source": [
    "In the above example, the `create_project` method read in the roadway network and created the project card in one step. This can be done in two steps, by first reading in the roadway network and then passing it to `create_project`. This is shown in the steps below."
   ]
  },
  {
   "cell_type": "code",
   "execution_count": 18,
   "metadata": {},
   "outputs": [
    {
     "name": "stdout",
     "output_type": "stream",
     "text": [
      "2020-06-11 09:30:47, INFO: Reading from following files:\n",
      "-/Users/wsp/Documents/GitHub/Lasso/examples/stpaul/link.json\n",
      "-/Users/wsp/Documents/GitHub/Lasso/examples/stpaul/node.geojson\n",
      "-/Users/wsp/Documents/GitHub/Lasso/examples/stpaul/shape.geojson.\n",
      "2020-06-11 09:30:52, INFO: Read 66253 links from /Users/wsp/Documents/GitHub/Lasso/examples/stpaul/link.json\n",
      "2020-06-11 09:30:52, INFO: Read 17159 nodes from /Users/wsp/Documents/GitHub/Lasso/examples/stpaul/node.geojson\n",
      "2020-06-11 09:30:52, INFO: Read 66253 shapes from /Users/wsp/Documents/GitHub/Lasso/examples/stpaul/shape.geojson\n"
     ]
    }
   ],
   "source": [
    "roadway_network = RoadwayNetwork.read(\n",
    "    link_file = os.path.join(EX_DIR, \"stpaul\", \"link.json\"), \n",
    "    node_file = os.path.join(EX_DIR, \"stpaul\", \"node.geojson\"), \n",
    "    shape_file = os.path.join(EX_DIR, \"stpaul\", \"shape.geojson\"), \n",
    "    fast = True        \n",
    ")"
   ]
  },
  {
   "cell_type": "code",
   "execution_count": 19,
   "metadata": {},
   "outputs": [
    {
     "name": "stdout",
     "output_type": "stream",
     "text": [
      "2020-06-11 09:31:03, INFO: No base transit network.\n",
      "2020-06-11 09:31:03, INFO: No transit changes given or processed.\n",
      "2020-06-11 09:31:03, INFO: Reading logfile: /Users/wsp/Documents/GitHub/Lasso/examples/cube/st_paul_test.log\n",
      "2020-06-11 09:31:03, INFO: Processed 1 Node lines and 7 Link lines\n",
      "2020-06-11 09:31:03, INFO: Lasso base directory set as: /Users/wsp/Documents/GitHub/Lasso\n",
      "2020-06-11 09:31:03, INFO: Evaluating compatibility between roadway network changes and base network. Not evaluating deletions.\n",
      "2020-06-11 09:31:03, INFO: Evaluating project changes.\n",
      "2020-06-11 09:31:03, WARNING: The following attributes are specified in the changes but do not exist in the base network: ['OPERATION_final']\n",
      "2020-06-11 09:31:03, INFO: Lasso base directory set as: /Users/wsp/Documents/GitHub/Lasso\n",
      "2020-06-11 09:31:03, INFO: Lasso base directory set as: /Users/wsp/Documents/GitHub/Lasso\n",
      "2020-06-11 09:31:03, INFO: Lasso base directory set as: /Users/wsp/Documents/GitHub/Lasso\n",
      "2020-06-11 09:31:03, INFO: Lasso base directory set as: /Users/wsp/Documents/GitHub/Lasso\n",
      "2020-06-11 09:31:03, INFO: Lasso base directory set as: /Users/wsp/Documents/GitHub/Lasso\n",
      "2020-06-11 09:31:03, INFO: Lasso base directory set as: /Users/wsp/Documents/GitHub/Lasso\n",
      "2020-06-11 09:31:03, INFO: Lasso base directory set as: /Users/wsp/Documents/GitHub/Lasso\n",
      "2020-06-11 09:31:03, INFO: Lasso base directory set as: /Users/wsp/Documents/GitHub/Lasso\n"
     ]
    }
   ],
   "source": [
    "test_roadway_project = Project.create_project(\n",
    "        base_roadway_network = roadway_network,\n",
    "        roadway_log_file=os.path.join(EX_DIR,\"cube\",\"st_paul_test.log\"),\n",
    "    )"
   ]
  },
  {
   "cell_type": "markdown",
   "metadata": {},
   "source": [
    "## Transit Project Card\n",
    "\n",
    "Transit project cards are built by taking the differences between two cube transit line files."
   ]
  },
  {
   "cell_type": "code",
   "execution_count": 20,
   "metadata": {},
   "outputs": [
    {
     "name": "stdout",
     "output_type": "stream",
     "text": [
      "Creating a new Cube Transit instance\n",
      "2020-06-11 09:31:04, INFO: Lasso base directory set as: /Users/wsp/Documents/GitHub/Lasso\n",
      "reading: /Users/wsp/Documents/GitHub/Lasso/examples/cube/transit.LIN\n",
      "Creating a new Cube Transit instance\n",
      "2020-06-11 09:31:05, INFO: Lasso base directory set as: /Users/wsp/Documents/GitHub/Lasso\n",
      "reading: /Users/wsp/Documents/GitHub/Lasso/examples/cube/single_transit_route_attribute_change/transit.LIN\n",
      "2020-06-11 09:31:07, INFO: No roadway changes given or processed.\n",
      "2020-06-11 09:31:07, INFO: No base roadway network.\n",
      "2020-06-11 09:31:07, INFO: Lasso base directory set as: /Users/wsp/Documents/GitHub/Lasso\n",
      "2020-06-11 09:31:07, INFO: Evaluating project changes.\n",
      "2020-06-11 09:31:08, INFO: Wrote project card to: transit_test.yml\n"
     ]
    }
   ],
   "source": [
    "test_transit_project = Project.create_project(\n",
    "        base_transit_source=os.path.join(EX_DIR,\"cube\",\"transit.LIN\"),\n",
    "        build_transit_source=os.path.join(EX_DIR,\"cube\",\"single_transit_route_attribute_change\",\"transit.LIN\"),\n",
    "    )\n",
    "\n",
    "test_transit_project.write_project_card(\n",
    "        \"transit_test.yml\"\n",
    "    )"
   ]
  },
  {
   "cell_type": "markdown",
   "metadata": {},
   "source": [
    "# Roadway Project Card - difference from csv files or shapefiles"
   ]
  },
  {
   "cell_type": "markdown",
   "metadata": {},
   "source": [
    "For functionality of taking difference from csv files, or shapefiles"
   ]
  },
  {
   "cell_type": "code",
   "execution_count": 21,
   "metadata": {},
   "outputs": [
    {
     "name": "stdout",
     "output_type": "stream",
     "text": [
      "2020-06-11 09:31:08, INFO: No base transit network.\n",
      "2020-06-11 09:31:08, INFO: No transit changes given or processed.\n",
      "2020-06-11 09:31:08, INFO: Reading from following files:\n",
      "-/Users/wsp/Documents/GitHub/Lasso/examples/stpaul/link.json\n",
      "-/Users/wsp/Documents/GitHub/Lasso/examples/stpaul/node.geojson\n",
      "-/Users/wsp/Documents/GitHub/Lasso/examples/stpaul/shape.geojson.\n",
      "2020-06-11 09:31:13, INFO: Read 66253 links from /Users/wsp/Documents/GitHub/Lasso/examples/stpaul/link.json\n",
      "2020-06-11 09:31:13, INFO: Read 17159 nodes from /Users/wsp/Documents/GitHub/Lasso/examples/stpaul/node.geojson\n",
      "2020-06-11 09:31:13, INFO: Read 66253 shapes from /Users/wsp/Documents/GitHub/Lasso/examples/stpaul/shape.geojson\n",
      "2020-06-11 09:31:35, INFO: Lasso base directory set as: /Users/wsp/Documents/GitHub/Lasso\n",
      "2020-06-11 09:31:35, INFO: Filling nan for network from network wrangler\n",
      "2020-06-11 09:31:35, INFO: Converting variable type to MetCouncil standard\n",
      "2020-06-11 09:31:36, WARNING: Specified variable to split: ML_lanes not in network variables: Index(['model_link_id', 'osm_link_id', 'shstReferenceId', 'shstGeometryId',\n",
      "       'u', 'v', 'A', 'B', 'locationReferences', 'distance', 'roadway', 'name',\n",
      "       'ref', 'bridge', 'tunnel', 'width', 'max_speed', 'bike_facility',\n",
      "       'drive_access', 'walk_access', 'bike_access', 'truck_access',\n",
      "       'bus_only', 'rail_only', 'lanes', 'access', 'price', 'trn_priority',\n",
      "       'ttime_assert', 'geometry', 'trn_priority_AM', 'trn_priority_MD',\n",
      "       'trn_priority_PM', 'trn_priority_NT', 'ttime_assert_AM',\n",
      "       'ttime_assert_MD', 'ttime_assert_PM', 'ttime_assert_NT', 'lanes_AM',\n",
      "       'lanes_MD', 'lanes_PM', 'lanes_NT'],\n",
      "      dtype='object'). Returning 0.\n",
      "2020-06-11 09:31:36, INFO: Lasso base directory set as: /Users/wsp/Documents/GitHub/Lasso\n",
      "2020-06-11 09:31:36, INFO: Evaluating compatibility between roadway network changes and base network. Not evaluating deletions.\n",
      "2020-06-11 09:31:36, INFO: Evaluating project changes.\n",
      "2020-06-11 09:31:36, WARNING: The following attributes are specified in the changes but do not exist in the base network: ['OPERATION_final']\n",
      "2020-06-11 09:31:36, INFO: No link changes processed\n",
      "2020-06-11 09:31:36, INFO: Wrote project card to: /Users/wsp/Documents/GitHub/Lasso/tests/scratch/t_example_csv_roadway_change.yml\n"
     ]
    }
   ],
   "source": [
    "test_roadway_project = Project.create_project(\n",
    "        roadway_csv_file=os.path.join(EX_DIR,\"cube\",\"example_csv_roadway_change.csv\"),\n",
    "        base_roadway_dir=os.path.join(EX_DIR,\"stpaul\")\n",
    "    )\n",
    "\n",
    "\n",
    "test_roadway_project.write_project_card(\n",
    "           os.path.join(\n",
    "            SCRATCH_DIR,\n",
    "            \"t_\" + \"example_csv_roadway_change\" + \".yml\",\n",
    "        )\n",
    "    )"
   ]
  },
  {
   "cell_type": "code",
   "execution_count": 22,
   "metadata": {},
   "outputs": [
    {
     "name": "stdout",
     "output_type": "stream",
     "text": [
      "2020-06-11 09:31:36, INFO: No base transit network.\n",
      "2020-06-11 09:31:36, INFO: No transit changes given or processed.\n",
      "2020-06-11 09:31:37, INFO: Reading from following files:\n",
      "-/Users/wsp/Documents/GitHub/Lasso/examples/stpaul/link.json\n",
      "-/Users/wsp/Documents/GitHub/Lasso/examples/stpaul/node.geojson\n",
      "-/Users/wsp/Documents/GitHub/Lasso/examples/stpaul/shape.geojson.\n",
      "2020-06-11 09:31:42, INFO: Read 66253 links from /Users/wsp/Documents/GitHub/Lasso/examples/stpaul/link.json\n",
      "2020-06-11 09:31:42, INFO: Read 17159 nodes from /Users/wsp/Documents/GitHub/Lasso/examples/stpaul/node.geojson\n",
      "2020-06-11 09:31:42, INFO: Read 66253 shapes from /Users/wsp/Documents/GitHub/Lasso/examples/stpaul/shape.geojson\n",
      "2020-06-11 09:32:04, INFO: Lasso base directory set as: /Users/wsp/Documents/GitHub/Lasso\n",
      "2020-06-11 09:32:04, INFO: Filling nan for network from network wrangler\n",
      "2020-06-11 09:32:05, INFO: Converting variable type to MetCouncil standard\n",
      "2020-06-11 09:32:05, WARNING: Specified variable to split: ML_lanes not in network variables: Index(['model_link_id', 'osm_link_id', 'shstReferenceId', 'shstGeometryId',\n",
      "       'u', 'v', 'A', 'B', 'locationReferences', 'distance', 'roadway', 'name',\n",
      "       'ref', 'bridge', 'tunnel', 'width', 'max_speed', 'bike_facility',\n",
      "       'drive_access', 'walk_access', 'bike_access', 'truck_access',\n",
      "       'bus_only', 'rail_only', 'lanes', 'access', 'price', 'trn_priority',\n",
      "       'ttime_assert', 'geometry', 'trn_priority_AM', 'trn_priority_MD',\n",
      "       'trn_priority_PM', 'trn_priority_NT', 'ttime_assert_AM',\n",
      "       'ttime_assert_MD', 'ttime_assert_PM', 'ttime_assert_NT', 'lanes_AM',\n",
      "       'lanes_MD', 'lanes_PM', 'lanes_NT'],\n",
      "      dtype='object'). Returning 0.\n",
      "2020-06-11 09:32:06, INFO: Lasso base directory set as: /Users/wsp/Documents/GitHub/Lasso\n",
      "2020-06-11 09:32:06, INFO: Evaluating compatibility between roadway network changes and base network. Not evaluating deletions.\n",
      "2020-06-11 09:32:06, INFO: Evaluating project changes.\n",
      "2020-06-11 09:32:06, WARNING: The following attributes are specified in the changes but do not exist in the base network: ['OPERATION_final']\n",
      "2020-06-11 09:32:06, INFO: No link changes processed\n",
      "2020-06-11 09:32:06, INFO: Wrote project card to: /Users/wsp/Documents/GitHub/Lasso/tests/scratch/t_example_shapefile_roadway_change.yml\n"
     ]
    }
   ],
   "source": [
    "test_roadway_project = Project.create_project(\n",
    "        roadway_shp_file=os.path.join(EX_DIR,\"cube\",\"example_shapefile_roadway_change.shp\"),\n",
    "        base_roadway_dir=os.path.join(EX_DIR,\"stpaul\")\n",
    "    )\n",
    "\n",
    "\n",
    "test_roadway_project.write_project_card(\n",
    "           os.path.join(\n",
    "            SCRATCH_DIR,\n",
    "            \"t_\" + \"example_shapefile_roadway_change\" + \".yml\",\n",
    "        )\n",
    "    )"
   ]
  },
  {
   "cell_type": "code",
   "execution_count": null,
   "metadata": {},
   "outputs": [],
   "source": []
  }
 ],
 "metadata": {
  "kernelspec": {
   "display_name": "Python 3",
   "language": "python",
   "name": "python3"
  },
  "language_info": {
   "codemirror_mode": {
    "name": "ipython",
    "version": 3
   },
   "file_extension": ".py",
   "mimetype": "text/x-python",
   "name": "python",
   "nbconvert_exporter": "python",
   "pygments_lexer": "ipython3",
   "version": "3.7.7"
  }
 },
 "nbformat": 4,
 "nbformat_minor": 2
}
