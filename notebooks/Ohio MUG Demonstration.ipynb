{
 "cells": [
  {
   "cell_type": "markdown",
   "metadata": {},
   "source": [
    "# Demonstration for Ohio Model User's Group"
   ]
  },
  {
   "cell_type": "code",
   "execution_count": 1,
   "metadata": {},
   "outputs": [],
   "source": [
    "import os\n",
    "import sys\n",
    "import yaml\n",
    "\n",
    "import pandas as pd\n",
    "\n",
    "from network_wrangler import RoadwayNetwork\n",
    "from network_wrangler import TransitNetwork\n",
    "from network_wrangler import ProjectCard\n",
    "from network_wrangler import Scenario\n",
    "from network_wrangler import WranglerLogger\n",
    "\n",
    "from lasso import ModelRoadwayNetwork\n",
    "from lasso import StandardTransit\n",
    "from lasso import Parameters\n",
    "from lasso import Project\n",
    "from lasso import metcouncil"
   ]
  },
  {
   "cell_type": "markdown",
   "metadata": {},
   "source": [
    "### Set up the Logger & Parameters"
   ]
  },
  {
   "cell_type": "code",
   "execution_count": 2,
   "metadata": {},
   "outputs": [],
   "source": [
    "import logging\n",
    "logger = logging.getLogger(\"WranglerLogger\")\n",
    "# logger.handlers[0].stream = sys.stdout\n",
    "logger.setLevel(logging.INFO)"
   ]
  },
  {
   "cell_type": "markdown",
   "metadata": {},
   "source": [
    "### Input/Output Locations & Parameters"
   ]
  },
  {
   "cell_type": "code",
   "execution_count": 3,
   "metadata": {},
   "outputs": [],
   "source": [
    "input_dir = os.path.join(\"/Users\", \"wsp\", \"documents\", \"GitHub\", \"Lasso\", \"examples\", \"stpaul\")\n",
    "lasso_dir = os.path.join(\"/Users\", \"wsp\", \"documents\", \"GitHub\", \"Lasso\")\n",
    "output_dir = input_dir\n",
    "\n",
    "stpaul_shape_file = os.path.join(input_dir, \"shape.geojson\")\n",
    "stpaul_link_file = os.path.join(input_dir, \"link.json\")\n",
    "stpaul_node_file = os.path.join(input_dir, \"node.geojson\")"
   ]
  },
  {
   "cell_type": "code",
   "execution_count": 4,
   "metadata": {},
   "outputs": [
    {
     "name": "stdout",
     "output_type": "stream",
     "text": [
      "2021-02-03 12:43:29, INFO: Lasso base directory set as: /Users/wsp/documents/GitHub/Lasso\n"
     ]
    }
   ],
   "source": [
    "parameters = Parameters(lasso_base_dir = lasso_dir)"
   ]
  },
  {
   "cell_type": "markdown",
   "metadata": {},
   "source": [
    "### Data Reads"
   ]
  },
  {
   "cell_type": "code",
   "execution_count": 5,
   "metadata": {},
   "outputs": [
    {
     "name": "stdout",
     "output_type": "stream",
     "text": [
      "2021-02-03 12:43:29, INFO: Reading from following files:\n",
      "-/Users/wsp/documents/GitHub/Lasso/examples/stpaul/link.json\n",
      "-/Users/wsp/documents/GitHub/Lasso/examples/stpaul/node.geojson\n",
      "-/Users/wsp/documents/GitHub/Lasso/examples/stpaul/shape.geojson.\n",
      "2021-02-03 12:43:34, INFO: Read 66253 links from /Users/wsp/documents/GitHub/Lasso/examples/stpaul/link.json\n",
      "2021-02-03 12:43:34, INFO: Read 17159 nodes from /Users/wsp/documents/GitHub/Lasso/examples/stpaul/node.geojson\n",
      "2021-02-03 12:43:34, INFO: Read 66253 shapes from /Users/wsp/documents/GitHub/Lasso/examples/stpaul/shape.geojson\n",
      "2021-02-03 12:43:43, INFO: Read in transit feed from: /Users/wsp/documents/GitHub/Lasso/examples/stpaul\n",
      "2021-02-03 12:43:43, INFO: Removing calendar.txt from transit network config because file not found\n",
      "2021-02-03 12:43:43, INFO: Removing calendar_dates.txt from transit network config because file not found\n",
      "2021-02-03 12:43:43, INFO: Removing fare_attributes.txt from transit network config because file not found\n",
      "2021-02-03 12:43:43, INFO: Removing fare_rules.txt from transit network config because file not found\n",
      "2021-02-03 12:43:44, INFO: Removing transfers.txt from transit network config because file not found\n",
      "2021-02-03 12:43:44, INFO: Removing feed_info.txt from transit network config because file not found\n"
     ]
    }
   ],
   "source": [
    "roadway_net = RoadwayNetwork.read(\n",
    "    link_file = stpaul_link_file, \n",
    "    node_file = stpaul_node_file, \n",
    "    shape_file = stpaul_shape_file, \n",
    "    fast = True        \n",
    ")\n",
    "\n",
    "transit_net = TransitNetwork.read(feed_path = input_dir)"
   ]
  },
  {
   "cell_type": "markdown",
   "metadata": {},
   "source": [
    "### Make a Cube Network"
   ]
  },
  {
   "cell_type": "code",
   "execution_count": 6,
   "metadata": {},
   "outputs": [
    {
     "name": "stdout",
     "output_type": "stream",
     "text": [
      "2021-02-03 12:43:53, INFO: Lasso base directory set as: /Users/wsp/Documents/GitHub/Lasso\n",
      "2021-02-03 12:43:53, INFO: Calculating Centroid Connector and adding as roadway network variable: centroidconnect\n",
      "2021-02-03 12:43:53, INFO: Finished calculating centroid connector variable: centroidconnect\n",
      "2021-02-03 12:43:53, INFO: Renaming roadway attributes to be consistent with what metcouncil's model is expecting\n",
      "2021-02-03 12:43:53, INFO: Didn't detect managed lanes in network.\n",
      "2021-02-03 12:43:53, INFO: Creating calculated roadway variables.\n",
      "2021-02-03 12:43:53, INFO: Calculating Area Type from Spatial Data and adding as roadway network variable: area_type\n"
     ]
    },
    {
     "name": "stderr",
     "output_type": "stream",
     "text": [
      "/Users/wsp/Documents/GitHub/Lasso/lasso/roadway.py:423: UserWarning: Geometry is in a geographic CRS. Results from 'centroid' are likely incorrect. Use 'GeoSeries.to_crs()' to re-project geometries to a projected CRS before this operation.\n",
      "\n",
      "  centroids_gdf[\"geometry\"] = centroids_gdf[\"geometry\"].centroid\n"
     ]
    },
    {
     "name": "stdout",
     "output_type": "stream",
     "text": [
      "2021-02-03 12:44:05, INFO: Finished Calculating Area Type from Spatial Data into variable: area_type\n",
      "2021-02-03 12:44:05, INFO: Adding roadway network variable for county using a spatial join with: /Users/wsp/Documents/GitHub/Lasso/metcouncil_data/county/cb_2017_us_county_5m.shp\n"
     ]
    },
    {
     "name": "stderr",
     "output_type": "stream",
     "text": [
      "/Users/wsp/Documents/GitHub/Lasso/lasso/roadway.py:288: UserWarning: Geometry is in a geographic CRS. Results from 'centroid' are likely incorrect. Use 'GeoSeries.to_crs()' to re-project geometries to a projected CRS before this operation.\n",
      "\n",
      "  centroids_gdf[\"geometry\"] = centroids_gdf[\"geometry\"].centroid\n"
     ]
    },
    {
     "name": "stdout",
     "output_type": "stream",
     "text": [
      "2021-02-03 12:44:12, INFO: Finished Calculating county variable: county\n",
      "2021-02-03 12:44:12, INFO: Calculating MPO as roadway network variable: mpo\n",
      "2021-02-03 12:44:12, INFO: Finished calculating MPO variable: mpo\n",
      "2021-02-03 12:44:12, INFO: Adding Counts\n",
      "2021-02-03 12:44:12, INFO: Adding Variable AADT using Shared Streets Reference from /Users/wsp/Documents/GitHub/Lasso/metcouncil_data/count_mn/mn_count_ShSt_API_match.csv\n",
      "2021-02-03 12:44:13, INFO: Added variable: AADT using Shared Streets Reference\n",
      "2021-02-03 12:44:13, INFO: Adding Variable AADT using Shared Streets Reference from /Users/wsp/Documents/GitHub/Lasso/metcouncil_data/Wisconsin_Lanes_Counts_Median/wi_count_ShSt_API_match.csv\n",
      "2021-02-03 12:44:13, INFO: Added variable: AADT using Shared Streets Reference\n",
      "2021-02-03 12:44:13, INFO: Finished adding counts variable: AADT\n",
      "2021-02-03 12:44:13, INFO: Finished creating ML lanes variable: ML_lanes\n",
      "2021-02-03 12:44:13, INFO: Finished creating hov corridor variable: segment_id\n",
      "2021-02-03 12:44:13, INFO: Finished creating managed variable: managed\n",
      "2021-02-03 12:44:13, INFO: Overwriting existing distance Variable 'distance' already in network\n",
      "2021-02-03 12:44:15, INFO: Calculating distance for centroid connectors\n",
      "2021-02-03 12:44:15, INFO: Filling nan for network from network wrangler\n",
      "2021-02-03 12:44:16, INFO: Splitting variables by time period and category\n",
      "2021-02-03 12:44:16, WARNING: Specified variable to split: ML_lanes not in network variables: Index(['model_link_id', 'osm_link_id', 'shstReferenceId', 'shstGeometryId',\n",
      "       'shape_id', 'u', 'v', 'A', 'B', 'locationReferences', 'distance',\n",
      "       'roadway', 'name', 'ref', 'bridge', 'tunnel', 'width', 'max_speed',\n",
      "       'bike_facility', 'drive_access', 'walk_access', 'bike_access',\n",
      "       'truck_access', 'bus_only', 'rail_only', 'lanes', 'access', 'price',\n",
      "       'trn_priority', 'ttime_assert', 'geometry', 'centroidconnect',\n",
      "       'area_type', 'county', 'mpo', 'AADT', 'count_AM', 'count_MD',\n",
      "       'count_PM', 'count_NT', 'count_daily', 'count_year', 'segment_id',\n",
      "       'managed', 'trn_priority_AM', 'trn_priority_MD', 'trn_priority_PM',\n",
      "       'trn_priority_NT', 'ttime_assert_AM', 'ttime_assert_MD',\n",
      "       'ttime_assert_PM', 'ttime_assert_NT', 'lanes_AM', 'lanes_MD',\n",
      "       'lanes_PM', 'lanes_NT'],\n",
      "      dtype='object'). Returning 0.\n",
      "2021-02-03 12:44:17, INFO: Converting variable type to MetCouncil standard\n",
      "2021-02-03 12:44:18, INFO: Setting Coordinate Reference System to EPSG 26915\n",
      "2021-02-03 12:44:21, INFO: Starting fixed width conversion\n",
      "2021-02-03 12:45:16, INFO: Writing out link database\n",
      "2021-02-03 12:45:17, INFO: Writing out link header and width ----\n",
      "2021-02-03 12:45:17, INFO: Starting fixed width conversion\n",
      "2021-02-03 12:45:19, INFO: Writing out node database\n",
      "2021-02-03 12:45:19, INFO: Writing out node header and width\n"
     ]
    }
   ],
   "source": [
    "model_road_net = ModelRoadwayNetwork.from_RoadwayNetwork(roadway_net)\n",
    "model_road_net = metcouncil.calculate_centroidconnect(model_road_net, parameters)\n",
    "model_road_net.roadway_standard_to_met_council_network()\n",
    "\n",
    "model_road_net.write_roadway_as_fixedwidth(\n",
    "    output_link_txt = os.path.join(output_dir, \"links.txt\"),\n",
    "    output_node_txt = os.path.join(output_dir, \"nodes.txt\"),\n",
    "    output_link_header_width_txt = os.path.join(output_dir, \"links_header_width.txt\"),\n",
    "    output_node_header_width_txt = os.path.join(output_dir, \"nodes_header_width.txt\"),\n",
    "    output_cube_network_script = os.path.join(output_dir, \"make_complete_network_from_fixed_width_file.s\"),\n",
    ")"
   ]
  },
  {
   "cell_type": "code",
   "execution_count": 7,
   "metadata": {},
   "outputs": [
    {
     "name": "stdout",
     "output_type": "stream",
     "text": [
      "2021-02-03 12:45:19, INFO: Lasso base directory set as: /Users/wsp/Documents/GitHub/Lasso\n",
      "2021-02-03 12:45:19, INFO: Converting GTFS Standard Properties to MetCouncil's Cube Standard\n"
     ]
    }
   ],
   "source": [
    "standard_transit = StandardTransit.fromTransitNetwork(transit_net)\n",
    "standard_transit.write_as_cube_lin(outpath = os.path.join(output_dir, \"transit.lin\") )"
   ]
  },
  {
   "cell_type": "code",
   "execution_count": 8,
   "metadata": {},
   "outputs": [],
   "source": [
    "## add step here to run cube making script"
   ]
  },
  {
   "cell_type": "markdown",
   "metadata": {},
   "source": [
    "### Make a Project Card from a Cube Log File"
   ]
  },
  {
   "cell_type": "code",
   "execution_count": 9,
   "metadata": {},
   "outputs": [
    {
     "name": "stdout",
     "output_type": "stream",
     "text": [
      "2021-02-03 12:45:19, INFO: No base transit network.\n",
      "2021-02-03 12:45:19, INFO: No transit changes given or processed.\n",
      "2021-02-03 12:45:19, INFO: Reading logfile: /Users/wsp/documents/GitHub/Lasso/examples/cube/st_paul_test.log\n",
      "2021-02-03 12:45:19, INFO: Processed 1 Node lines and 7 Link lines\n",
      "2021-02-03 12:45:19, INFO: Lasso base directory set as: /Users/wsp/Documents/GitHub/Lasso\n",
      "2021-02-03 12:45:19, INFO: Evaluating compatibility between roadway network changes and base network. Not evaluating deletions.\n",
      "2021-02-03 12:45:19, INFO: Evaluating project changes.\n",
      "2021-02-03 12:45:19, WARNING: The following attributes are specified in the changes but do not exist in the base network: ['OPERATION_final']\n",
      "2021-02-03 12:45:19, INFO: Lasso base directory set as: /Users/wsp/Documents/GitHub/Lasso\n",
      "2021-02-03 12:45:19, INFO: Lasso base directory set as: /Users/wsp/Documents/GitHub/Lasso\n",
      "2021-02-03 12:45:19, INFO: Lasso base directory set as: /Users/wsp/Documents/GitHub/Lasso\n",
      "2021-02-03 12:45:19, INFO: Lasso base directory set as: /Users/wsp/Documents/GitHub/Lasso\n",
      "2021-02-03 12:45:19, INFO: Lasso base directory set as: /Users/wsp/Documents/GitHub/Lasso\n",
      "2021-02-03 12:45:19, INFO: Lasso base directory set as: /Users/wsp/Documents/GitHub/Lasso\n",
      "2021-02-03 12:45:19, INFO: Lasso base directory set as: /Users/wsp/Documents/GitHub/Lasso\n",
      "2021-02-03 12:45:19, INFO: Lasso base directory set as: /Users/wsp/Documents/GitHub/Lasso\n"
     ]
    },
    {
     "name": "stderr",
     "output_type": "stream",
     "text": [
      "/Users/wsp/opt/anaconda3/envs/lasso_x/lib/python3.7/site-packages/pandas/core/frame.py:1487: FutureWarning: Using short name for 'orient' is deprecated. Only the options: ('dict', list, 'series', 'split', 'records', 'index') will be used in a future version. Use one of the above to silence this warning.\n",
      "  FutureWarning,\n"
     ]
    }
   ],
   "source": [
    "project = Project.create_project(\n",
    "        base_roadway_network = model_road_net,\n",
    "        roadway_log_file = os.path.join(lasso_dir, \"examples\", \"cube\", \"st_paul_test.log\"),\n",
    "        project_name = \"Example\",\n",
    "    )"
   ]
  },
  {
   "cell_type": "code",
   "execution_count": 10,
   "metadata": {},
   "outputs": [
    {
     "name": "stdout",
     "output_type": "stream",
     "text": [
      "2021-02-03 12:45:19, INFO: Wrote project card to: /Users/wsp/documents/GitHub/Lasso/examples/stpaul/Example.yml\n"
     ]
    }
   ],
   "source": [
    "project.write_project_card(os.path.join(output_dir, \"Example.yml\"))"
   ]
  },
  {
   "cell_type": "markdown",
   "metadata": {},
   "source": [
    "### Make a Scenario"
   ]
  },
  {
   "cell_type": "code",
   "execution_count": 11,
   "metadata": {},
   "outputs": [],
   "source": [
    "base_scenario = {\"road_net\": roadway_net, \"transit_net\": transit_net}"
   ]
  },
  {
   "cell_type": "code",
   "execution_count": 12,
   "metadata": {},
   "outputs": [
    {
     "name": "stdout",
     "output_type": "stream",
     "text": [
      "2021-02-03 12:45:19, INFO: Creating Scenario\n"
     ]
    }
   ],
   "source": [
    "build_scenario = Scenario.create_scenario(base_scenario = base_scenario)"
   ]
  },
  {
   "cell_type": "code",
   "execution_count": 13,
   "metadata": {},
   "outputs": [],
   "source": [
    "#build_scenario.apply_project(project)\n",
    "build_scenario.add_project_card_from_file(os.path.join(output_dir, \"Example.yml\"), validate = False)"
   ]
  },
  {
   "cell_type": "code",
   "execution_count": 14,
   "metadata": {},
   "outputs": [
    {
     "data": {
      "text/plain": [
       "[]"
      ]
     },
     "execution_count": 14,
     "metadata": {},
     "output_type": "execute_result"
    }
   ],
   "source": [
    "build_scenario.applied_projects"
   ]
  },
  {
   "cell_type": "markdown",
   "metadata": {},
   "source": [
    "### Write Out Edited Cube Network"
   ]
  },
  {
   "cell_type": "code",
   "execution_count": 15,
   "metadata": {},
   "outputs": [
    {
     "name": "stdout",
     "output_type": "stream",
     "text": [
      "2021-02-03 12:45:32, INFO: Lasso base directory set as: /Users/wsp/Documents/GitHub/Lasso\n",
      "2021-02-03 12:45:32, INFO: Renaming roadway attributes to be consistent with what metcouncil's model is expecting\n",
      "2021-02-03 12:45:32, INFO: Creating managed lane network.\n",
      "2021-02-03 12:45:32, INFO: Creating network with duplicated managed lanes\n",
      "2021-02-03 12:45:33, INFO: Creating calculated roadway variables.\n",
      "2021-02-03 12:45:33, INFO: Area Type Variable 'area_type' already in network. Returning without overwriting.\n",
      "2021-02-03 12:45:33, INFO: County Variable 'county' already in network. Returning without overwriting.\n",
      "2021-02-03 12:45:33, INFO: MPO Variable 'mpo' already in network. Returning without overwriting.\n",
      "2021-02-03 12:45:33, INFO: Adding Counts\n",
      "2021-02-03 12:45:33, INFO: Adding Variable AADT using Shared Streets Reference from /Users/wsp/Documents/GitHub/Lasso/metcouncil_data/count_mn/mn_count_ShSt_API_match.csv\n",
      "2021-02-03 12:45:33, INFO: Added variable: AADT using Shared Streets Reference\n",
      "2021-02-03 12:45:33, INFO: Adding Variable AADT using Shared Streets Reference from /Users/wsp/Documents/GitHub/Lasso/metcouncil_data/Wisconsin_Lanes_Counts_Median/wi_count_ShSt_API_match.csv\n",
      "2021-02-03 12:45:33, INFO: Added variable: AADT using Shared Streets Reference\n",
      "2021-02-03 12:45:34, INFO: Finished adding counts variable: AADT\n",
      "2021-02-03 12:45:34, INFO: Finished creating ML lanes variable: ML_lanes\n",
      "2021-02-03 12:45:34, INFO: Hov corridor Variable 'segment_id' already in network. Returning without overwriting.\n",
      "2021-02-03 12:45:34, INFO: Managed Variable 'managed' already in network. Returning without overwriting.\n",
      "2021-02-03 12:45:34, INFO: Overwriting existing distance Variable 'distance' already in network\n",
      "2021-02-03 12:45:36, INFO: Calculating distance for centroid connectors\n",
      "2021-02-03 12:45:36, INFO: Filling nan for network from network wrangler\n",
      "2021-02-03 12:45:37, INFO: Splitting variables by time period and category\n",
      "2021-02-03 12:45:38, WARNING: Specified variable to split: ML_lanes not in network variables: Index(['index', 'model_link_id', 'osm_link_id', 'shstReferenceId',\n",
      "       'shstGeometryId', 'shape_id', 'u', 'v', 'A', 'B', 'locationReferences',\n",
      "       'distance', 'roadway', 'name', 'ref', 'bridge', 'tunnel', 'width',\n",
      "       'max_speed', 'bike_facility', 'drive_access', 'walk_access',\n",
      "       'bike_access', 'truck_access', 'bus_only', 'rail_only', 'lanes',\n",
      "       'access', 'price', 'trn_priority', 'ttime_assert', 'geometry',\n",
      "       'centroidconnect', 'area_type', 'county', 'mpo', 'AADT', 'count_AM',\n",
      "       'count_MD', 'count_PM', 'count_NT', 'count_daily', 'count_year',\n",
      "       'segment_id', 'managed', 'trn_priority_AM', 'trn_priority_MD',\n",
      "       'trn_priority_PM', 'trn_priority_NT', 'ttime_assert_AM',\n",
      "       'ttime_assert_MD', 'ttime_assert_PM', 'ttime_assert_NT', 'lanes_AM',\n",
      "       'lanes_MD', 'lanes_PM', 'lanes_NT', 'price_sov_AM', 'price_hov2_AM',\n",
      "       'price_hov3_AM', 'price_truck_AM', 'price_sov_MD', 'price_hov2_MD',\n",
      "       'price_hov3_MD', 'price_truck_MD', 'price_sov_PM', 'price_hov2_PM',\n",
      "       'price_hov3_PM', 'price_truck_PM', 'price_sov_NT', 'price_hov2_NT',\n",
      "       'price_hov3_NT', 'price_truck_NT', 'access_AM', 'access_MD',\n",
      "       'access_PM', 'access_NT'],\n",
      "      dtype='object'). Returning 0.\n",
      "2021-02-03 12:45:38, INFO: Converting variable type to MetCouncil standard\n",
      "2021-02-03 12:45:39, INFO: Setting Coordinate Reference System to EPSG 26915\n",
      "2021-02-03 12:45:42, INFO: Starting fixed width conversion\n",
      "2021-02-03 12:46:36, INFO: Writing out link database\n",
      "2021-02-03 12:46:37, INFO: Writing out link header and width ----\n",
      "2021-02-03 12:46:37, INFO: Starting fixed width conversion\n",
      "2021-02-03 12:46:38, INFO: Writing out node database\n",
      "2021-02-03 12:46:38, INFO: Writing out node header and width\n"
     ]
    }
   ],
   "source": [
    "model_road_net = ModelRoadwayNetwork.from_RoadwayNetwork(build_scenario.road_net)\n",
    "model_road_net.roadway_standard_to_met_council_network()\n",
    "\n",
    "model_road_net.write_roadway_as_fixedwidth(\n",
    "    output_link_txt = os.path.join(output_dir, \"links.txt\"),\n",
    "    output_node_txt = os.path.join(output_dir, \"nodes.txt\"),\n",
    "    output_link_header_width_txt = os.path.join(output_dir, \"links_header_width.txt\"),\n",
    "    output_node_header_width_txt = os.path.join(output_dir, \"nodes_header_width.txt\"),\n",
    "    output_cube_network_script = os.path.join(output_dir, \"make_complete_network_from_fixed_width_file.s\"),\n",
    ")"
   ]
  },
  {
   "cell_type": "code",
   "execution_count": null,
   "metadata": {},
   "outputs": [],
   "source": []
  }
 ],
 "metadata": {
  "kernelspec": {
   "display_name": "lasso_x",
   "language": "python",
   "name": "lasso_x"
  },
  "language_info": {
   "codemirror_mode": {
    "name": "ipython",
    "version": 3
   },
   "file_extension": ".py",
   "mimetype": "text/x-python",
   "name": "python",
   "nbconvert_exporter": "python",
   "pygments_lexer": "ipython3",
   "version": "3.7.7"
  }
 },
 "nbformat": 4,
 "nbformat_minor": 4
}
