{
 "cells": [
  {
   "cell_type": "markdown",
   "metadata": {},
   "source": [
    "# Demonstration for Ohio Model User's Group"
   ]
  },
  {
   "cell_type": "code",
   "execution_count": 1,
   "metadata": {},
   "outputs": [],
   "source": [
    "import os\n",
    "import sys\n",
    "import yaml\n",
    "\n",
    "import pandas as pd\n",
    "\n",
    "from network_wrangler import RoadwayNetwork\n",
    "from network_wrangler import TransitNetwork\n",
    "from network_wrangler import ProjectCard\n",
    "from network_wrangler import Scenario\n",
    "from network_wrangler import WranglerLogger\n",
    "\n",
    "from lasso import ModelRoadwayNetwork\n",
    "from lasso import StandardTransit\n",
    "from lasso import Parameters\n",
    "from lasso import Project\n",
    "from lasso import metcouncil"
   ]
  },
  {
   "cell_type": "markdown",
   "metadata": {},
   "source": [
    "### Set up the Logger & Parameters"
   ]
  },
  {
   "cell_type": "code",
   "execution_count": 2,
   "metadata": {},
   "outputs": [],
   "source": [
    "import logging\n",
    "logger = logging.getLogger(\"WranglerLogger\")\n",
    "logger.setLevel(logging.INFO)"
   ]
  },
  {
   "cell_type": "markdown",
   "metadata": {},
   "source": [
    "### Input/Output Locations & Parameters"
   ]
  },
  {
   "cell_type": "code",
   "execution_count": 3,
   "metadata": {},
   "outputs": [],
   "source": [
    "input_dir = os.path.join(\"C:/\", \"Users\", \"david.ory\", \"documents\", \"GitHub\", \"Lasso\", \"examples\", \"stpaul\")\n",
    "lasso_dir = os.path.join(\"C:/\", \"Users\", \"david.ory\", \"documents\", \"GitHub\", \"Lasso\")\n",
    "output_dir = input_dir\n",
    "\n",
    "stpaul_shape_file = os.path.join(input_dir, \"shape.geojson\")\n",
    "stpaul_link_file = os.path.join(input_dir, \"link.json\")\n",
    "stpaul_node_file = os.path.join(input_dir, \"node.geojson\")"
   ]
  },
  {
   "cell_type": "code",
   "execution_count": 4,
   "metadata": {},
   "outputs": [
    {
     "name": "stdout",
     "output_type": "stream",
     "text": [
      "2021-03-11 14:51:37, INFO: Lasso base directory set as: C:/Users\\david.ory\\documents\\GitHub\\Lasso\n"
     ]
    }
   ],
   "source": [
    "parameters = Parameters(lasso_base_dir = lasso_dir)"
   ]
  },
  {
   "cell_type": "markdown",
   "metadata": {},
   "source": [
    "### Data Reads"
   ]
  },
  {
   "cell_type": "code",
   "execution_count": 5,
   "metadata": {},
   "outputs": [
    {
     "name": "stdout",
     "output_type": "stream",
     "text": [
      "2021-03-11 14:51:37, INFO: Reading from following files:\n",
      "-C:/Users\\david.ory\\documents\\GitHub\\Lasso\\examples\\stpaul\\link.json\n",
      "-C:/Users\\david.ory\\documents\\GitHub\\Lasso\\examples\\stpaul\\node.geojson\n",
      "-C:/Users\\david.ory\\documents\\GitHub\\Lasso\\examples\\stpaul\\shape.geojson.\n",
      "2021-03-11 14:51:52, INFO: Read 66253 links from C:/Users\\david.ory\\documents\\GitHub\\Lasso\\examples\\stpaul\\link.json\n",
      "2021-03-11 14:51:52, INFO: Read 17159 nodes from C:/Users\\david.ory\\documents\\GitHub\\Lasso\\examples\\stpaul\\node.geojson\n",
      "2021-03-11 14:51:52, INFO: Read 66253 shapes from C:/Users\\david.ory\\documents\\GitHub\\Lasso\\examples\\stpaul\\shape.geojson\n",
      "2021-03-11 14:52:13, INFO: Read in transit feed from: C:/Users\\david.ory\\documents\\GitHub\\Lasso\\examples\\stpaul\n",
      "2021-03-11 14:52:13, INFO: Removing calendar.txt from transit network config because file not found\n",
      "2021-03-11 14:52:13, INFO: Removing calendar_dates.txt from transit network config because file not found\n",
      "2021-03-11 14:52:13, INFO: Removing fare_attributes.txt from transit network config because file not found\n",
      "2021-03-11 14:52:13, INFO: Removing fare_rules.txt from transit network config because file not found\n",
      "2021-03-11 14:52:13, INFO: Removing transfers.txt from transit network config because file not found\n",
      "2021-03-11 14:52:13, INFO: Removing feed_info.txt from transit network config because file not found\n"
     ]
    }
   ],
   "source": [
    "roadway_net = RoadwayNetwork.read(\n",
    "    link_file = stpaul_link_file, \n",
    "    node_file = stpaul_node_file, \n",
    "    shape_file = stpaul_shape_file, \n",
    "    fast = True        \n",
    ")\n",
    "\n",
    "transit_net = TransitNetwork.read(feed_path = input_dir)"
   ]
  },
  {
   "cell_type": "code",
   "execution_count": 6,
   "metadata": {},
   "outputs": [
    {
     "data": {
      "text/plain": [
       "Index(['model_link_id', 'osm_link_id', 'shstReferenceId', 'shstGeometryId',\n",
       "       'shape_id', 'u', 'v', 'A', 'B', 'locationReferences', 'distance',\n",
       "       'roadway', 'name', 'ref', 'bridge', 'tunnel', 'width', 'max_speed',\n",
       "       'bike_facility', 'drive_access', 'walk_access', 'bike_access',\n",
       "       'truck_access', 'bus_only', 'rail_only', 'lanes', 'access', 'price',\n",
       "       'trn_priority', 'ttime_assert', 'geometry'],\n",
       "      dtype='object')"
      ]
     },
     "execution_count": 6,
     "metadata": {},
     "output_type": "execute_result"
    }
   ],
   "source": [
    "roadway_net.links_df.columns"
   ]
  },
  {
   "cell_type": "markdown",
   "metadata": {},
   "source": [
    "### Make a Scenario \n",
    "We manipulate scenarios"
   ]
  },
  {
   "cell_type": "code",
   "execution_count": 7,
   "metadata": {},
   "outputs": [
    {
     "name": "stdout",
     "output_type": "stream",
     "text": [
      "2021-03-11 14:52:13, INFO: Creating Scenario\n"
     ]
    }
   ],
   "source": [
    "base_scenario = Scenario.create_scenario(base_scenario = {\"road_net\": roadway_net, \"transit_net\": transit_net})"
   ]
  },
  {
   "cell_type": "markdown",
   "metadata": {},
   "source": [
    "### Make a Cube Network"
   ]
  },
  {
   "cell_type": "code",
   "execution_count": 8,
   "metadata": {},
   "outputs": [
    {
     "name": "stdout",
     "output_type": "stream",
     "text": [
      "2021-03-11 14:52:16, INFO: Lasso base directory set as: C:\\Users\\david.ory\\Documents\\GitHub\\Lasso\n",
      "2021-03-11 14:52:16, INFO: Calculating Centroid Connector and adding as roadway network variable: centroidconnect\n",
      "2021-03-11 14:52:16, INFO: Finished calculating centroid connector variable: centroidconnect\n",
      "2021-03-11 14:52:16, INFO: Renaming roadway attributes to be consistent with what metcouncil's model is expecting\n",
      "2021-03-11 14:52:16, INFO: Didn't detect managed lanes in network.\n",
      "2021-03-11 14:52:16, INFO: Creating calculated roadway variables.\n",
      "2021-03-11 14:52:16, INFO: Calculating Area Type from Spatial Data and adding as roadway network variable: area_type\n"
     ]
    },
    {
     "name": "stderr",
     "output_type": "stream",
     "text": [
      "c:\\users\\david.ory\\documents\\github\\lasso\\lasso\\roadway.py:423: UserWarning: Geometry is in a geographic CRS. Results from 'centroid' are likely incorrect. Use 'GeoSeries.to_crs()' to re-project geometries to a projected CRS before this operation.\n",
      "\n",
      "  centroids_gdf[\"geometry\"] = centroids_gdf[\"geometry\"].centroid\n"
     ]
    },
    {
     "name": "stdout",
     "output_type": "stream",
     "text": [
      "2021-03-11 14:52:20, INFO: Finished Calculating Area Type from Spatial Data into variable: area_type\n",
      "2021-03-11 14:52:20, INFO: Adding roadway network variable for county using a spatial join with: C:\\Users\\david.ory\\Documents\\GitHub\\Lasso\\metcouncil_data\\county\\cb_2017_us_county_5m.shp\n"
     ]
    },
    {
     "name": "stderr",
     "output_type": "stream",
     "text": [
      "c:\\users\\david.ory\\documents\\github\\lasso\\lasso\\roadway.py:288: UserWarning: Geometry is in a geographic CRS. Results from 'centroid' are likely incorrect. Use 'GeoSeries.to_crs()' to re-project geometries to a projected CRS before this operation.\n",
      "\n",
      "  centroids_gdf[\"geometry\"] = centroids_gdf[\"geometry\"].centroid\n"
     ]
    },
    {
     "name": "stdout",
     "output_type": "stream",
     "text": [
      "2021-03-11 14:52:24, INFO: Finished Calculating county variable: county\n",
      "2021-03-11 14:52:24, INFO: Calculating MPO as roadway network variable: mpo\n",
      "2021-03-11 14:52:24, INFO: Finished calculating MPO variable: mpo\n",
      "2021-03-11 14:52:24, INFO: Adding Counts\n",
      "2021-03-11 14:52:24, INFO: Adding Variable AADT using Shared Streets Reference from C:\\Users\\david.ory\\Documents\\GitHub\\Lasso\\metcouncil_data\\count_mn\\mn_count_ShSt_API_match.csv\n",
      "2021-03-11 14:52:24, INFO: Added variable: AADT using Shared Streets Reference\n",
      "2021-03-11 14:52:24, INFO: Adding Variable AADT using Shared Streets Reference from C:\\Users\\david.ory\\Documents\\GitHub\\Lasso\\metcouncil_data\\Wisconsin_Lanes_Counts_Median\\wi_count_ShSt_API_match.csv\n",
      "2021-03-11 14:52:24, INFO: Added variable: AADT using Shared Streets Reference\n",
      "2021-03-11 14:52:24, INFO: Finished adding counts variable: AADT\n",
      "2021-03-11 14:52:24, INFO: Finished creating ML lanes variable: ML_lanes\n",
      "2021-03-11 14:52:24, INFO: Finished creating hov corridor variable: segment_id\n",
      "2021-03-11 14:52:24, INFO: Finished creating managed variable: managed\n",
      "2021-03-11 14:52:24, INFO: Overwriting existing distance Variable 'distance' already in network\n",
      "2021-03-11 14:52:25, INFO: Calculating distance for all links\n",
      "2021-03-11 14:52:25, INFO: Filling nan for network from network wrangler\n",
      "2021-03-11 14:52:25, INFO: Splitting variables by time period and category\n",
      "2021-03-11 14:52:26, WARNING: Specified variable to split: ML_lanes not in network variables: Index(['model_link_id', 'osm_link_id', 'shstReferenceId', 'shstGeometryId',\n",
      "       'shape_id', 'u', 'v', 'A', 'B', 'locationReferences', 'distance',\n",
      "       'roadway', 'name', 'ref', 'bridge', 'tunnel', 'width', 'max_speed',\n",
      "       'bike_facility', 'drive_access', 'walk_access', 'bike_access',\n",
      "       'truck_access', 'bus_only', 'rail_only', 'lanes', 'access', 'price',\n",
      "       'trn_priority', 'ttime_assert', 'geometry', 'centroidconnect',\n",
      "       'area_type', 'county', 'mpo', 'AADT', 'count_AM', 'count_MD',\n",
      "       'count_PM', 'count_NT', 'count_daily', 'count_year', 'segment_id',\n",
      "       'managed', 'trn_priority_AM', 'trn_priority_MD', 'trn_priority_PM',\n",
      "       'trn_priority_NT', 'ttime_assert_AM', 'ttime_assert_MD',\n",
      "       'ttime_assert_PM', 'ttime_assert_NT', 'lanes_AM', 'lanes_MD',\n",
      "       'lanes_PM', 'lanes_NT'],\n",
      "      dtype='object'). Returning 0.\n",
      "2021-03-11 14:52:26, INFO: Converting variable type to MetCouncil standard\n",
      "2021-03-11 14:52:26, INFO: Setting Coordinate Reference System to EPSG 26915\n"
     ]
    }
   ],
   "source": [
    "base_scenario.road_net.links_df = base_scenario.road_net.links_df[base_scenario.road_net.links_df['drive_access'] == 1]\n",
    "\n",
    "model_road_net = ModelRoadwayNetwork.from_RoadwayNetwork(base_scenario.road_net)\n",
    "model_road_net = metcouncil.calculate_centroidconnect(model_road_net, parameters)\n",
    "model_road_net.roadway_standard_to_met_council_network()"
   ]
  },
  {
   "cell_type": "code",
   "execution_count": 9,
   "metadata": {},
   "outputs": [],
   "source": [
    "# model_road_net.write_roadway_as_fixedwidth(\n",
    "#     output_link_txt = os.path.join(output_dir, \"links.txt\"),\n",
    "#    output_node_txt = os.path.join(output_dir, \"nodes.txt\"),\n",
    "#    output_link_header_width_txt = os.path.join(output_dir, \"links_header_width.txt\"),\n",
    "#    output_node_header_width_txt = os.path.join(output_dir, \"nodes_header_width.txt\"),\n",
    "#    output_cube_network_script = os.path.join(output_dir, \"make_complete_network_from_fixed_width_file.s\"),\n",
    "#)"
   ]
  },
  {
   "cell_type": "code",
   "execution_count": 10,
   "metadata": {},
   "outputs": [],
   "source": [
    "#standard_transit = StandardTransit.fromTransitNetwork(transit_net)\n",
    "#standard_transit.write_as_cube_lin(outpath = os.path.join(output_dir, \"transit.lin\") )"
   ]
  },
  {
   "cell_type": "markdown",
   "metadata": {},
   "source": [
    "### Make a Project Card from a Cube Log File"
   ]
  },
  {
   "cell_type": "code",
   "execution_count": 11,
   "metadata": {},
   "outputs": [
    {
     "name": "stdout",
     "output_type": "stream",
     "text": [
      "2021-03-11 14:52:29, INFO: No base transit network.\n",
      "2021-03-11 14:52:29, INFO: No transit changes given or processed.\n",
      "2021-03-11 14:52:29, INFO: Reading logfile: C:/Users\\david.ory\\documents\\GitHub\\Lasso\\examples\\stpaul\\cube\\st_paul_example.log\n",
      "2021-03-11 14:52:29, INFO: Processed 0 Node lines and 1 Link lines\n",
      "2021-03-11 14:52:29, INFO: Lasso base directory set as: C:\\Users\\david.ory\\Documents\\GitHub\\Lasso\n",
      "2021-03-11 14:52:29, INFO: Evaluating compatibility between roadway network changes and base network. Not evaluating deletions.\n",
      "2021-03-11 14:52:29, INFO: Evaluating project changes.\n",
      "2021-03-11 14:52:29, WARNING: The following attributes are specified in the changes but do not exist in the base network: ['OPERATION_final']\n",
      "2021-03-11 14:52:29, INFO: Lasso base directory set as: C:\\Users\\david.ory\\Documents\\GitHub\\Lasso\n",
      "2021-03-11 14:52:29, INFO: Lasso base directory set as: C:\\Users\\david.ory\\Documents\\GitHub\\Lasso\n",
      "2021-03-11 14:52:29, INFO: Lasso base directory set as: C:\\Users\\david.ory\\Documents\\GitHub\\Lasso\n",
      "2021-03-11 14:52:29, INFO: Lasso base directory set as: C:\\Users\\david.ory\\Documents\\GitHub\\Lasso\n"
     ]
    }
   ],
   "source": [
    "project = Project.create_project(\n",
    "        base_roadway_network = model_road_net,\n",
    "        roadway_log_file = os.path.join(lasso_dir, \"examples\", \"stpaul\", \"cube\", \"st_paul_example.log\"),\n",
    "        project_name = \"Example\",\n",
    "    )"
   ]
  },
  {
   "cell_type": "code",
   "execution_count": 12,
   "metadata": {},
   "outputs": [
    {
     "name": "stdout",
     "output_type": "stream",
     "text": [
      "2021-03-11 14:52:29, INFO: Wrote project card to: C:/Users\\david.ory\\documents\\GitHub\\Lasso\\examples\\stpaul\\ohio_mug\\Example.yml\n"
     ]
    }
   ],
   "source": [
    "# project.write_project_card(os.path.join(output_dir, \"ohio_mug\", \"Example.yml\"))"
   ]
  },
  {
   "cell_type": "markdown",
   "metadata": {},
   "source": [
    "### Apply the Project Card"
   ]
  },
  {
   "cell_type": "code",
   "execution_count": 13,
   "metadata": {},
   "outputs": [],
   "source": [
    "# build_scenario = Scenario.create_scenario(base_scenario = {\"road_net\": roadway_net, \"transit_net\": transit_net},\n",
    "#                                          card_directory = os.path.join(lasso_dir, \"examples\", \"stpaul\", \"ohio_mug\"),\n",
    "#                                          tags = ['checked'],\n",
    "#                                          validate_project_cards = False)"
   ]
  },
  {
   "cell_type": "code",
   "execution_count": 14,
   "metadata": {},
   "outputs": [
    {
     "name": "stdout",
     "output_type": "stream",
     "text": [
      "2021-03-11 14:52:29, INFO: Creating Scenario\n"
     ]
    }
   ],
   "source": [
    "build_scenario = Scenario.create_scenario(base_scenario = {\"road_net\": roadway_net, \"transit_net\": transit_net})"
   ]
  },
  {
   "cell_type": "code",
   "execution_count": 15,
   "metadata": {},
   "outputs": [
    {
     "name": "stdout",
     "output_type": "stream",
     "text": [
      "2021-03-11 14:52:29, INFO: Applying Example\n",
      "2021-03-11 14:52:29, INFO: Applying Example\n",
      "2021-03-11 14:52:29, INFO: Applying Project to Roadway Network: Example\n"
     ]
    },
    {
     "name": "stderr",
     "output_type": "stream",
     "text": [
      "C:\\Users\\david.ory\\anaconda3\\envs\\lasso_x\\lib\\site-packages\\geopandas\\geodataframe.py:853: SettingWithCopyWarning: \n",
      "A value is trying to be set on a copy of a slice from a DataFrame.\n",
      "Try using .loc[row_indexer,col_indexer] = value instead\n",
      "\n",
      "See the caveats in the documentation: https://pandas.pydata.org/pandas-docs/stable/user_guide/indexing.html#returning-a-view-versus-a-copy\n",
      "  super(GeoDataFrame, self).__setitem__(key, value)\n"
     ]
    },
    {
     "ename": "KeyError",
     "evalue": "'change'",
     "output_type": "error",
     "traceback": [
      "\u001b[1;31m---------------------------------------------------------------------------\u001b[0m",
      "\u001b[1;31mKeyError\u001b[0m                                  Traceback (most recent call last)",
      "\u001b[1;32m<ipython-input-15-b45831b23b2d>\u001b[0m in \u001b[0;36m<module>\u001b[1;34m\u001b[0m\n\u001b[1;32m----> 1\u001b[1;33m \u001b[0mbuild_scenario\u001b[0m\u001b[1;33m.\u001b[0m\u001b[0mapply_project\u001b[0m\u001b[1;33m(\u001b[0m\u001b[0mproject\u001b[0m\u001b[1;33m.\u001b[0m\u001b[0mcard_data\u001b[0m\u001b[1;33m)\u001b[0m\u001b[1;33m\u001b[0m\u001b[1;33m\u001b[0m\u001b[0m\n\u001b[0m",
      "\u001b[1;32mc:\\users\\david.ory\\documents\\github\\network_wrangler\\network_wrangler\\scenario.py\u001b[0m in \u001b[0;36mapply_project\u001b[1;34m(self, p)\u001b[0m\n\u001b[0;32m    531\u001b[0m             \u001b[1;32mfor\u001b[0m \u001b[0mpc\u001b[0m \u001b[1;32min\u001b[0m \u001b[0mp\u001b[0m\u001b[1;33m[\u001b[0m\u001b[1;34m\"changes\"\u001b[0m\u001b[1;33m]\u001b[0m\u001b[1;33m:\u001b[0m\u001b[1;33m\u001b[0m\u001b[1;33m\u001b[0m\u001b[0m\n\u001b[0;32m    532\u001b[0m                 \u001b[0mpc\u001b[0m\u001b[1;33m[\u001b[0m\u001b[1;34m\"project\"\u001b[0m\u001b[1;33m]\u001b[0m \u001b[1;33m=\u001b[0m \u001b[0mp\u001b[0m\u001b[1;33m[\u001b[0m\u001b[1;34m\"project\"\u001b[0m\u001b[1;33m]\u001b[0m\u001b[1;33m\u001b[0m\u001b[1;33m\u001b[0m\u001b[0m\n\u001b[1;32m--> 533\u001b[1;33m                 \u001b[0mself\u001b[0m\u001b[1;33m.\u001b[0m\u001b[0mapply_project\u001b[0m\u001b[1;33m(\u001b[0m\u001b[0mpc\u001b[0m\u001b[1;33m)\u001b[0m\u001b[1;33m\u001b[0m\u001b[1;33m\u001b[0m\u001b[0m\n\u001b[0m\u001b[0;32m    534\u001b[0m \u001b[1;33m\u001b[0m\u001b[0m\n\u001b[0;32m    535\u001b[0m         \u001b[1;32melse\u001b[0m\u001b[1;33m:\u001b[0m\u001b[1;33m\u001b[0m\u001b[1;33m\u001b[0m\u001b[0m\n",
      "\u001b[1;32mc:\\users\\david.ory\\documents\\github\\network_wrangler\\network_wrangler\\scenario.py\u001b[0m in \u001b[0;36mapply_project\u001b[1;34m(self, p)\u001b[0m\n\u001b[0;32m    537\u001b[0m                 \u001b[1;32mif\u001b[0m \u001b[1;32mnot\u001b[0m \u001b[0mself\u001b[0m\u001b[1;33m.\u001b[0m\u001b[0mroad_net\u001b[0m\u001b[1;33m:\u001b[0m\u001b[1;33m\u001b[0m\u001b[1;33m\u001b[0m\u001b[0m\n\u001b[0;32m    538\u001b[0m                     \u001b[1;32mraise\u001b[0m \u001b[1;33m(\u001b[0m\u001b[1;34m\"Missing Roadway Network\"\u001b[0m\u001b[1;33m)\u001b[0m\u001b[1;33m\u001b[0m\u001b[1;33m\u001b[0m\u001b[0m\n\u001b[1;32m--> 539\u001b[1;33m                 \u001b[0mself\u001b[0m\u001b[1;33m.\u001b[0m\u001b[0mroad_net\u001b[0m\u001b[1;33m.\u001b[0m\u001b[0mapply\u001b[0m\u001b[1;33m(\u001b[0m\u001b[0mp\u001b[0m\u001b[1;33m)\u001b[0m\u001b[1;33m\u001b[0m\u001b[1;33m\u001b[0m\u001b[0m\n\u001b[0m\u001b[0;32m    540\u001b[0m             \u001b[1;32mif\u001b[0m \u001b[0mp\u001b[0m\u001b[1;33m[\u001b[0m\u001b[1;34m\"category\"\u001b[0m\u001b[1;33m]\u001b[0m \u001b[1;32min\u001b[0m \u001b[0mProjectCard\u001b[0m\u001b[1;33m.\u001b[0m\u001b[0mTRANSIT_CATEGORIES\u001b[0m\u001b[1;33m:\u001b[0m\u001b[1;33m\u001b[0m\u001b[1;33m\u001b[0m\u001b[0m\n\u001b[0;32m    541\u001b[0m                 \u001b[1;32mif\u001b[0m \u001b[1;32mnot\u001b[0m \u001b[0mself\u001b[0m\u001b[1;33m.\u001b[0m\u001b[0mtransit_net\u001b[0m\u001b[1;33m:\u001b[0m\u001b[1;33m\u001b[0m\u001b[1;33m\u001b[0m\u001b[0m\n",
      "\u001b[1;32mc:\\users\\david.ory\\documents\\github\\network_wrangler\\network_wrangler\\roadwaynetwork.py\u001b[0m in \u001b[0;36mapply\u001b[1;34m(self, project_card_dictionary)\u001b[0m\n\u001b[0;32m   1333\u001b[0m                 \u001b[0m_apply_individual_change\u001b[0m\u001b[1;33m(\u001b[0m\u001b[0mproject_dictionary\u001b[0m\u001b[1;33m)\u001b[0m\u001b[1;33m\u001b[0m\u001b[1;33m\u001b[0m\u001b[0m\n\u001b[0;32m   1334\u001b[0m         \u001b[1;32melse\u001b[0m\u001b[1;33m:\u001b[0m\u001b[1;33m\u001b[0m\u001b[1;33m\u001b[0m\u001b[0m\n\u001b[1;32m-> 1335\u001b[1;33m             \u001b[0m_apply_individual_change\u001b[0m\u001b[1;33m(\u001b[0m\u001b[0mproject_card_dictionary\u001b[0m\u001b[1;33m)\u001b[0m\u001b[1;33m\u001b[0m\u001b[1;33m\u001b[0m\u001b[0m\n\u001b[0m\u001b[0;32m   1336\u001b[0m \u001b[1;33m\u001b[0m\u001b[0m\n\u001b[0;32m   1337\u001b[0m     def apply_python_calculation(\n",
      "\u001b[1;32mc:\\users\\david.ory\\documents\\github\\network_wrangler\\network_wrangler\\roadwaynetwork.py\u001b[0m in \u001b[0;36m_apply_individual_change\u001b[1;34m(project_dictionary)\u001b[0m\n\u001b[0;32m   1309\u001b[0m                 self.apply_roadway_feature_change(\n\u001b[0;32m   1310\u001b[0m                     \u001b[0mself\u001b[0m\u001b[1;33m.\u001b[0m\u001b[0mselect_roadway_features\u001b[0m\u001b[1;33m(\u001b[0m\u001b[0mproject_dictionary\u001b[0m\u001b[1;33m[\u001b[0m\u001b[1;34m\"facility\"\u001b[0m\u001b[1;33m]\u001b[0m\u001b[1;33m)\u001b[0m\u001b[1;33m,\u001b[0m\u001b[1;33m\u001b[0m\u001b[1;33m\u001b[0m\u001b[0m\n\u001b[1;32m-> 1311\u001b[1;33m                     \u001b[0mproject_dictionary\u001b[0m\u001b[1;33m[\u001b[0m\u001b[1;34m\"properties\"\u001b[0m\u001b[1;33m]\u001b[0m\u001b[1;33m,\u001b[0m\u001b[1;33m\u001b[0m\u001b[1;33m\u001b[0m\u001b[0m\n\u001b[0m\u001b[0;32m   1312\u001b[0m                 )\n\u001b[0;32m   1313\u001b[0m             \u001b[1;32melif\u001b[0m \u001b[0mproject_dictionary\u001b[0m\u001b[1;33m[\u001b[0m\u001b[1;34m\"category\"\u001b[0m\u001b[1;33m]\u001b[0m\u001b[1;33m.\u001b[0m\u001b[0mlower\u001b[0m\u001b[1;33m(\u001b[0m\u001b[1;33m)\u001b[0m \u001b[1;33m==\u001b[0m \u001b[1;34m\"parallel managed lanes\"\u001b[0m\u001b[1;33m:\u001b[0m\u001b[1;33m\u001b[0m\u001b[1;33m\u001b[0m\u001b[0m\n",
      "\u001b[1;32mc:\\users\\david.ory\\documents\\github\\network_wrangler\\network_wrangler\\roadwaynetwork.py\u001b[0m in \u001b[0;36mapply_roadway_feature_change\u001b[1;34m(self, link_idx, properties, in_place)\u001b[0m\n\u001b[0;32m   1387\u001b[0m                 \u001b[1;32melse\u001b[0m\u001b[1;33m:\u001b[0m\u001b[1;33m\u001b[0m\u001b[1;33m\u001b[0m\u001b[0m\n\u001b[0;32m   1388\u001b[0m                     self.links_df.loc[link_idx, attribute] = (\n\u001b[1;32m-> 1389\u001b[1;33m                         \u001b[0mself\u001b[0m\u001b[1;33m.\u001b[0m\u001b[0mlinks_df\u001b[0m\u001b[1;33m.\u001b[0m\u001b[0mloc\u001b[0m\u001b[1;33m[\u001b[0m\u001b[0mlink_idx\u001b[0m\u001b[1;33m,\u001b[0m \u001b[0mattribute\u001b[0m\u001b[1;33m]\u001b[0m \u001b[1;33m+\u001b[0m \u001b[0mp\u001b[0m\u001b[1;33m[\u001b[0m\u001b[1;34m\"change\"\u001b[0m\u001b[1;33m]\u001b[0m\u001b[1;33m\u001b[0m\u001b[1;33m\u001b[0m\u001b[0m\n\u001b[0m\u001b[0;32m   1390\u001b[0m                     )\n\u001b[0;32m   1391\u001b[0m             \u001b[1;32melse\u001b[0m\u001b[1;33m:\u001b[0m\u001b[1;33m\u001b[0m\u001b[1;33m\u001b[0m\u001b[0m\n",
      "\u001b[1;31mKeyError\u001b[0m: 'change'"
     ]
    }
   ],
   "source": [
    "build_scenario.apply_project(project.card_data)"
   ]
  },
  {
   "cell_type": "code",
   "execution_count": null,
   "metadata": {},
   "outputs": [],
   "source": [
    "build_scenario.applied_projects"
   ]
  },
  {
   "cell_type": "markdown",
   "metadata": {},
   "source": [
    "### Write Out Edited Cube Network"
   ]
  },
  {
   "cell_type": "code",
   "execution_count": null,
   "metadata": {},
   "outputs": [],
   "source": [
    "model_road_net = ModelRoadwayNetwork.from_RoadwayNetwork(edit_scenario.road_net)\n",
    "model_road_net.roadway_standard_to_met_council_network()"
   ]
  },
  {
   "cell_type": "code",
   "execution_count": null,
   "metadata": {},
   "outputs": [],
   "source": [
    "model_road_net.write_roadway_as_fixedwidth(\n",
    "    output_link_txt = os.path.join(output_dir, \"links.txt\"),\n",
    "    output_node_txt = os.path.join(output_dir, \"nodes.txt\"),\n",
    "    output_link_header_width_txt = os.path.join(output_dir, \"links_header_width.txt\"),\n",
    "    output_node_header_width_txt = os.path.join(output_dir, \"nodes_header_width.txt\"),\n",
    "    output_cube_network_script = os.path.join(output_dir, \"make_complete_network_from_fixed_width_file.s\"),\n",
    ")"
   ]
  }
 ],
 "metadata": {
  "kernelspec": {
   "display_name": "Python 3",
   "language": "python",
   "name": "python3"
  },
  "language_info": {
   "codemirror_mode": {
    "name": "ipython",
    "version": 3
   },
   "file_extension": ".py",
   "mimetype": "text/x-python",
   "name": "python",
   "nbconvert_exporter": "python",
   "pygments_lexer": "ipython3",
   "version": "3.7.7"
  }
 },
 "nbformat": 4,
 "nbformat_minor": 4
}
