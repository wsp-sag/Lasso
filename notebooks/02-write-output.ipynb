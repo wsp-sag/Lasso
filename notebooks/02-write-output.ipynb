{
    "cells": [
        {
            "cell_type": "code",
            "execution_count": null,
            "metadata": {},
            "outputs": [],
            "source": [
                "import os\n",
                "import sys\n",
                "import yaml\n",
                "import time\n",
                "\n",
                "import numpy as np\n",
                "import geopandas as gpd\n",
                "import pandas as pd\n",
                "import pickle\n",
                "\n",
                "from network_wrangler import (\n",
                "    RoadwayNetwork,\n",
                "    TransitNetwork,\n",
                "    ProjectCard,\n",
                "    Scenario,\n",
                "    WranglerLogger,\n",
                ")\n",
                "from lasso import ModelRoadwayNetwork, StandardTransit, Parameters\n",
                "from lasso import Project\n",
                "from lasso.seflorida import seflorida\n",
                "\n",
                "import logging"
            ]
        },
        {
            "cell_type": "code",
            "execution_count": null,
            "metadata": {},
            "outputs": [],
            "source": [
                "print(\"setup basic paths...\")\n",
                "root_dir = \"serpm/\"\n",
                "input_dir = os.path.join(root_dir, \"data\", \"interim\", \"8-standard-format\")\n",
                "output_dir = os.path.join(root_dir, \"data\", \"processed\")\n",
                "lasso_dir = \"Lasso/\"\n",
                "card_dir = os.path.join(root_dir, \"data\", \"project_cards\")\n",
                "\n",
                "print(\"read parameters...\")\n",
                "parameters = Parameters(lasso_base_dir=lasso_dir)"
            ]
        },
        {
            "cell_type": "code",
            "execution_count": null,
            "metadata": {},
            "outputs": [],
            "source": [
                "print(\"read pickle...\")\n",
                "version_01_pickle_file_name = f\"{output_dir}/working_scenario_01.pickle\"\n",
                "v_01_scenario = pickle.load(open(version_01_pickle_file_name, \"rb\"))"
            ]
        },
        {
            "cell_type": "markdown",
            "metadata": {},
            "source": [
                "## Create Scenario and Apply Project Cards"
            ]
        },
        {
            "cell_type": "code",
            "execution_count": null,
            "metadata": {},
            "outputs": [],
            "source": [
                "# create scenario\n",
                "print(\"create scenario...\")\n",
                "v_01_scenario.road_net.links_df[\"id\"] = v_01_scenario.road_net.links_df[\n",
                "    \"shstGeometryId\"\n",
                "]\n",
                "\n",
                "step1_scenario = Scenario.create_scenario(\n",
                "    base_scenario=v_01_scenario,\n",
                "    card_directory=card_dir,\n",
                "    tags=[\"year 2019\"],\n",
                "    validate_project_cards=False,\n",
                ")"
            ]
        },
        {
            "cell_type": "code",
            "execution_count": null,
            "metadata": {},
            "outputs": [],
            "source": [
                "step1_scenario.apply_all_projects()"
            ]
        },
        {
            "cell_type": "code",
            "execution_count": null,
            "metadata": {},
            "outputs": [],
            "source": [
                "step1_scenario.applied_projects"
            ]
        },
        {
            "cell_type": "markdown",
            "metadata": {},
            "source": [
                "## Make Travel Model Networks"
            ]
        },
        {
            "cell_type": "code",
            "execution_count": null,
            "metadata": {},
            "outputs": [],
            "source": [
                "# Make Travel Model Networks\n",
                "print(\"create travel model network...\")\n",
                "model_net = ModelRoadwayNetwork.from_RoadwayNetwork(\n",
                "    roadway_network_object=step1_scenario.road_net, parameters=parameters\n",
                ")\n",
                "\n",
                "print(model_net.links_df.shape)\n",
                "print(model_net.links_df.model_link_id.nunique())\n",
                "print(model_net.nodes_df.shape)\n",
                "print(model_net.shapes_df.shape)"
            ]
        },
        {
            "cell_type": "code",
            "execution_count": null,
            "metadata": {},
            "outputs": [],
            "source": [
                "## add centroid & connector\n",
                "model_net = seflorida.add_centroid_and_centroid_connector(\n",
                "    roadway_network = model_net,\n",
                "    parameters = parameters)"
            ]
        },
        {
            "cell_type": "code",
            "execution_count": null,
            "metadata": {},
            "outputs": [],
            "source": [
                "print(\"convert standard roadway to seflorida network...\")\n",
                "model_net = seflorida.roadway_standard_to_seflorida_network(model_net, parameters, output_proj=2236)"
            ]
        },
        {
            "cell_type": "code",
            "execution_count": null,
            "metadata": {},
            "outputs": [],
            "source": [
                "model_net.links_seflorida_df = model_net.links_df.copy()\n",
                "model_net.nodes_seflorida_df = model_net.nodes_df.copy()"
            ]
        },
        {
            "cell_type": "markdown",
            "metadata": {},
            "source": [
                "## Export results"
            ]
        },
        {
            "cell_type": "code",
            "execution_count": null,
            "metadata": {},
            "outputs": [],
            "source": [
                "print(\"write as fixedwidth...\")\n",
                "model_net.write_roadway_as_fixedwidth(\n",
                "    output_link_txt=os.path.join(output_dir, \"links.txt\"),\n",
                "    output_node_txt=os.path.join(output_dir, \"nodes.txt\"),\n",
                "    output_link_header_width_txt=os.path.join(output_dir, \"links_header_width.txt\"),\n",
                "    output_node_header_width_txt=os.path.join(output_dir, \"nodes_header_width.txt\"),\n",
                "    output_cube_network_script=os.path.join(\n",
                "        output_dir, \"make_complete_network_from_fixed_width_file.s\"\n",
                "    ),\n",
                ")"
            ]
        },
        {
            "cell_type": "code",
            "execution_count": null,
            "metadata": {},
            "outputs": [],
            "source": [
                "model_net.write_roadway_as_shp(\n",
                "    output_link_shp=os.path.join(output_dir, \"links.shp\"),\n",
                "    output_node_shp=os.path.join(output_dir, \"nodes.shp\"),\n",
                "    link_output_variables=[\n",
                "        \"shstReferenceId\",\n",
                "        \"model_link_id\",\n",
                "        \"A\",\n",
                "        \"B\",\n",
                "        \"name\",\n",
                "        \"oneWay\",\n",
                "        \"roadway\",\n",
                "        \"lanes_EA\",\n",
                "        \"lanes_AM\",\n",
                "        \"lanes_MD\",\n",
                "        \"lanes_PM\",\n",
                "        \"lanes_EV\",\n",
                "        \"drive_access\",\n",
                "        \"walk_access\",\n",
                "        \"bike_access\",\n",
                "        \"ftype\",\n",
                "        \"managed\",\n",
                "        \"CARTOLL\",\n",
                "        \"geometry\",\n",
                "    ],\n",
                "    node_output_variables=[\n",
                "        \"N\",\n",
                "        \"model_node_id\", \n",
                "        \"county\", \n",
                "        \"drive_access\", \n",
                "        \"walk_access\", \n",
                "        \"bike_access\", \n",
                "        \"rail_only\", \n",
                "        \"farezone\", \n",
                "        \"X\", \n",
                "        \"Y\", \n",
                "        \"geometry\"\n",
                "    ],\n",
                "    data_to_csv=False,\n",
                "    data_to_dbf=True,\n",
                ")"
            ]
        },
        {
            "cell_type": "markdown",
            "metadata": {},
            "source": [
                "#### save pickle file"
            ]
        },
        {
            "cell_type": "code",
            "execution_count": null,
            "metadata": {},
            "outputs": [],
            "source": [
                "v2_scenario = {\"road_net\": model_net, \"transit_net\": v_01_scenario.transit_net}\n",
                "working_scenario = Scenario.create_scenario(base_scenario = v2_scenario)\n",
                "\n",
                "working_scenario_filename = os.path.join(output_dir, 'working_scenario_02.pickle')\n",
                "pickle.dump(working_scenario, open(working_scenario_filename, 'wb'))"
            ]
        }
    ],
    "metadata": {
        "interpreter": {
            "hash": "d4337d9465bd1cbd7a52a2b79e5983de64e52000c1e0e4db44e1ed72a9fda6b1"
        },
        "kernelspec": {
            "display_name": "Python 3.7.10 64-bit ('serpm_lasso': conda)",
            "name": "python3"
        },
        "language_info": {
            "codemirror_mode": {
                "name": "ipython",
                "version": 3
            },
            "file_extension": ".py",
            "mimetype": "text/x-python",
            "name": "python",
            "nbconvert_exporter": "python",
            "pygments_lexer": "ipython3",
            "version": "3.7.10"
        },
        "orig_nbformat": 4
    },
    "nbformat": 4,
    "nbformat_minor": 2
}
