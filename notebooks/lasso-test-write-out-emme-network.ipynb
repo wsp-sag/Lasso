{
 "cells": [
  {
   "cell_type": "code",
   "execution_count": 2,
   "metadata": {},
   "outputs": [],
   "source": [
    "import os\n",
    "\n",
    "import pytest\n",
    "import pickle\n",
    "import copy\n",
    "\n",
    "from lasso import Parameters, transit\n",
    "from lasso import emme\n",
    "from network_wrangler import TransitNetwork\n",
    "from lasso import StandardTransit"
   ]
  },
  {
   "cell_type": "markdown",
   "metadata": {},
   "source": [
    "# Remote I/O"
   ]
  },
  {
   "cell_type": "code",
   "execution_count": 3,
   "metadata": {},
   "outputs": [],
   "source": [
    "lasso_dir = \"Z:/Data/Users/Sijia/MTC/github/Lasso/\"\n",
    "\n",
    "input_dir = os.path.join(lasso_dir, 'examples', 'mtc')"
   ]
  },
  {
   "cell_type": "code",
   "execution_count": 4,
   "metadata": {},
   "outputs": [],
   "source": [
    "output_dir = os.path.join(lasso_dir, 'tests', 'scratch')"
   ]
  },
  {
   "cell_type": "code",
   "execution_count": 5,
   "metadata": {},
   "outputs": [
    {
     "name": "stdout",
     "output_type": "stream",
     "text": [
      "2021-09-28 21:56:44, INFO: Lasso base directory set as: Z:/Data/Users/Sijia/MTC/github/Lasso/\n",
      "2021-09-28 21:56:44, INFO: Lasso base directory set as: Z:/Data/Users/Sijia/MTC/github/Lasso/\n"
     ]
    }
   ],
   "source": [
    "parameters = Parameters(lasso_base_dir = lasso_dir)"
   ]
  },
  {
   "cell_type": "markdown",
   "metadata": {},
   "source": [
    "## union network files"
   ]
  },
  {
   "cell_type": "code",
   "execution_count": 9,
   "metadata": {},
   "outputs": [
    {
     "name": "stdout",
     "output_type": "stream",
     "text": [
      "2021-09-28 22:15:12, INFO: Read in transit feed from: Z:/Data/Users/Sijia/MTC/github/Lasso/examples\\mtc\n",
      "2021-09-28 22:15:13, INFO: Removing calendar.txt from transit network config because file not found\n",
      "2021-09-28 22:15:13, INFO: Removing calendar_dates.txt from transit network config because file not found\n",
      "2021-09-28 22:15:16, INFO: Removing transfers.txt from transit network config because file not found\n",
      "2021-09-28 22:15:16, INFO: Removing feed_info.txt from transit network config because file not found\n",
      "2021-09-28 22:15:16, WARNING: The following stop_ids from are referenced but missing from stops.txt: ['place_ROBA', 'place_NEPA', 'ctsj', 'ctsmar', 'place_PSOT', 'ct22', 'place_BNTE', 'place_CVBA', 'place_FBBA', 'ctmh', 'ctmv', 'ctsu', 'ctscl', 'place_12BD', 'place_HIWY', 'place_SHBA', 'ctbl', 'place_WOBA', 'place_HBBA', 'place_NAMO', 'ctgi', 'ctta', 'place_BYBA', 'ctca', 'place_HRSH', 'ctrwc', 'place_SHDF', 'ctsc', 'place_14BD', 'place_TAPI', 'place_PAHE', 'ctmi', 'place_90MA', 'ctsf', 'place_SMSE', 'ctmp', 'place_BDBL', 'ctbu', 'place_11JE', 'place_CSSH', 'place_SNCO', 'place_ETSF', 'place_CBBA', 'place_4SSP', 'cthi', 'place_DBBA', 'ctsa', 'ctha', 'place_HPNR', 'ctpa', 'ctla', 'ctsmat', 'place_MOME', 'ctsb', 'place_CCCO', 'ctbe', 'ctco', 'ctba', 'place_11BD', 'ctssf', 'place_CHCO', 'ctcap', 'place_FVMA', 'place_MBLS', 'place_FRBA', 'place_EBBA']\n",
      "2021-09-28 22:15:16, INFO: Lasso base directory set as: Z:/Data/Users/Sijia/MTC/github/Lasso/\n",
      "2021-09-28 22:15:16, INFO: Lasso base directory set as: Z:/Data/Users/Sijia/MTC/github/Lasso/\n"
     ]
    }
   ],
   "source": [
    "# roadway\n",
    "union_city_links_df = pickle.load(open(os.path.join(input_dir, \"union_city_links.pickle\"), 'rb'))\n",
    "union_city_nodes_df = pickle.load(open(os.path.join(input_dir, \"union_city_nodes.pickle\"), 'rb'))\n",
    "\n",
    "# transit\n",
    "transit_net = TransitNetwork.read(feed_path = input_dir)\n",
    "\n",
    "# transit netowrk for union city\n",
    "agency_df = transit_net.feed.agency.loc[transit_net.feed.agency['agency_id'] == 'UCT']\n",
    "routes_df = transit_net.feed.routes.loc[transit_net.feed.routes['agency_id'] == 'UCT']\n",
    "trips_df = transit_net.feed.trips[transit_net.feed.trips['route_id'].isin(routes_df['route_id'])]\n",
    "freqs_df = transit_net.feed.frequencies[transit_net.feed.frequencies['trip_id'].isin(trips_df['trip_id'])]\n",
    "shapes_df = transit_net.feed.shapes[transit_net.feed.shapes['shape_id'].isin(trips_df['shape_id'])]\n",
    "stop_times_df = transit_net.feed.stop_times[transit_net.feed.stop_times['trip_id'].isin(trips_df['trip_id'])]\n",
    "stops_df = transit_net.feed.stops[transit_net.feed.stops['stop_id'].isin(stop_times_df['stop_id'])]\n",
    "\n",
    "union_city_transit_net =  copy.deepcopy(transit_net)\n",
    "union_city_transit_net.feed.agency = agency_df\n",
    "union_city_transit_net.feed.routes = routes_df\n",
    "union_city_transit_net.feed.trips  = trips_df\n",
    "union_city_transit_net.feed.frequencies = freqs_df\n",
    "union_city_transit_net.feed.shapes = shapes_df\n",
    "union_city_transit_net.feed.stop_times = stop_times_df\n",
    "union_city_transit_net.feed.stops = stops_df\n",
    "\n",
    "model_transit_net = StandardTransit.fromTransitNetwork(transit_net, parameters = parameters)"
   ]
  },
  {
   "cell_type": "markdown",
   "metadata": {},
   "source": [
    "# Write Emme Networks"
   ]
  },
  {
   "cell_type": "code",
   "execution_count": 7,
   "metadata": {},
   "outputs": [
    {
     "name": "stderr",
     "output_type": "stream",
     "text": [
      "c:\\users\\wangs1\\.conda\\envs\\lasso_mtc\\lib\\site-packages\\pandas\\core\\computation\\expressions.py:194: UserWarning: evaluating in Python space because the '+' operator is not supported by numexpr for the bool dtype, use '|' instead\n",
      "  op=op_str, alt_op=unsupported[op_str]\n"
     ]
    },
    {
     "name": "stdout",
     "output_type": "stream",
     "text": [
      "z:\\data\\users\\sijia\\mtc\\github\\lasso\\tests\\scratch\\taz_drive_network\\database\\emmebank\n",
      "z:\\data\\users\\sijia\\mtc\\github\\lasso\\tests\\scratch\\maz_drive_network\\database\\emmebank\n",
      "z:\\data\\users\\sijia\\mtc\\github\\lasso\\tests\\scratch\\maz_active_modes_network\\database\\emmebank\n",
      "2021-09-28 21:57:24, INFO: Converting GTFS Standard Properties to MTC's Emme Standard\n",
      "2021-09-28 21:57:24, INFO: Reading faresystem from Z:/Data/Users/Sijia/MTC/github/Lasso/mtc_data\\lookups\\faresystem_crosswalk.txt\n",
      "z:\\data\\users\\sijia\\mtc\\github\\lasso\\tests\\scratch\\tap_transit_network\\database\\emmebank\n"
     ]
    }
   ],
   "source": [
    "emme.create_emme_network(\n",
    "    links_df=union_city_links_df,\n",
    "    nodes_df=union_city_nodes_df,\n",
    "    transit_network=model_transit_net,\n",
    "    name=\"test lasso\",\n",
    "    path=output_dir,\n",
    "    write_taz_drive_network = True,\n",
    "    write_maz_drive_network = True,\n",
    "    write_maz_active_modes_network = True,\n",
    "    write_tap_transit_network = True,\n",
    "    parameters=parameters\n",
    ")"
   ]
  },
  {
   "cell_type": "code",
   "execution_count": null,
   "metadata": {},
   "outputs": [],
   "source": []
  }
 ],
 "metadata": {
  "kernelspec": {
   "display_name": "Python 3",
   "language": "python",
   "name": "python3"
  },
  "language_info": {
   "codemirror_mode": {
    "name": "ipython",
    "version": 3
   },
   "file_extension": ".py",
   "mimetype": "text/x-python",
   "name": "python",
   "nbconvert_exporter": "python",
   "pygments_lexer": "ipython3",
   "version": "3.7.9"
  }
 },
 "nbformat": 4,
 "nbformat_minor": 4
}
