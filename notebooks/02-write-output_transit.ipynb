{
    "cells": [
        {
            "attachments": {},
            "cell_type": "markdown",
            "metadata": {},
            "source": [
                "## Write out Cube Transit file from routed GTFS"
            ]
        },
        {
            "cell_type": "code",
            "execution_count": null,
            "metadata": {},
            "outputs": [],
            "source": [
                "import os\n",
                "import pandas as pd\n",
                "\n",
                "from network_wrangler import TransitNetwork\n",
                "from lasso.seflorida.seflorida_transit import SEFloridaTransit\n",
                "from lasso.seflorida.seflorida_parameters import SEFloridaParameters"
            ]
        },
        {
            "cell_type": "code",
            "execution_count": null,
            "metadata": {},
            "outputs": [],
            "source": [
                "print(\"setup basic paths...\")\n",
                "root_dir = \"projects/serpm/\"\n",
                "input_dir = os.path.join(root_dir, \"data\", \"interim\", \"8-standard-format\")\n",
                "gtfs_input_dir = os.path.join(root_dir, \"data\", \"interim\", \"6-transit-standard-reroute\")\n",
                "output_dir = os.path.join(root_dir, \"data\", \"processed\")\n",
                "\n",
                "print(\"read parameters...\")\n",
                "lasso_dir = os.path.join(root_dir, \"Lasso\")\n",
                "parameters = SEFloridaParameters(lasso_base_dir=lasso_dir)"
            ]
        },
        {
            "cell_type": "code",
            "execution_count": null,
            "metadata": {},
            "outputs": [],
            "source": [
                "# create standard transit network from routed gtfs files\n",
                "transit_net = TransitNetwork.read(feed_path = gtfs_input_dir)\n",
                "standard_transit_net = SEFloridaTransit(feed=transit_net.feed, parameters = parameters)"
            ]
        },
        {
            "cell_type": "code",
            "execution_count": null,
            "metadata": {},
            "outputs": [],
            "source": [
                "# create unique, consecutive shape_id\n",
                "unique_shape_ids = standard_transit_net.feed.trips.copy()\n",
                "unique_shape_ids = (\n",
                "    unique_shape_ids.groupby([\"agency_raw_name\", \"shape_id\"])[\"trip_id\"]\n",
                "    .count()\n",
                "    .reset_index()\n",
                "    .drop([\"trip_id\"], axis=1)\n",
                ")\n",
                "unique_shape_ids[\"shape_id_original\"] = unique_shape_ids[\"shape_id\"]\n",
                "unique_shape_ids[\"shape_id\"] = range(1, len(unique_shape_ids) + 1)\n",
                "unique_shape_ids[\"shape_id\"] = unique_shape_ids[\"shape_id\"].astype(str)\n",
                "\n",
                "temp_shapes = standard_transit_net.feed.shapes.copy()\n",
                "temp_shapes = temp_shapes.rename(columns={\"shape_id\": \"shape_id_original\"})\n",
                "temp_shapes = pd.merge(temp_shapes, unique_shape_ids, how=\"left\", on=[\"agency_raw_name\", \"shape_id_original\"])\n",
                "standard_transit_net.feed.shapes = temp_shapes.copy()\n",
                "\n",
                "standard_transit_net.feed.trips = standard_transit_net.feed.trips.rename(columns={\"shape_id\": \"shape_id_original\"})\n",
                "standard_transit_net.feed.trips = pd.merge(standard_transit_net.feed.trips, temp_shapes[[\"shape_id_original\", \"shape_id\"]].drop_duplicates(), how=\"left\", on=\"shape_id_original\")"
            ]
        },
        {
            "cell_type": "code",
            "execution_count": null,
            "metadata": {},
            "outputs": [],
            "source": [
                "# create numeric, consecutive route_id\n",
                "temp_routes = standard_transit_net.feed.routes.copy().drop(columns=\"agency_id\")\n",
                "temp_routes = temp_routes.rename(columns={\"route_id\": \"route_id_original\"})\n",
                "temp_routes[\"route_id\"] = range(1, len(temp_routes) + 1)\n",
                "standard_transit_net.feed.routes = temp_routes.copy()\n",
                "\n",
                "standard_transit_net.feed.trips = standard_transit_net.feed.trips.rename(columns={\"route_id\": \"route_id_original\"})\n",
                "standard_transit_net.feed.trips = pd.merge(standard_transit_net.feed.trips, temp_routes[[\"route_id_original\", \"route_id\"]].drop_duplicates(), how=\"left\", on=\"route_id_original\")"
            ]
        },
        {
            "cell_type": "code",
            "execution_count": null,
            "metadata": {},
            "outputs": [],
            "source": [
                "standard_transit_net.feed.trips = standard_transit_net.feed.trips.drop(columns=[\"trip_num_x\", \"trip_num_y\"])\n",
                "standard_transit_net.feed.trips[\"trip_num\"] = standard_transit_net.feed.trips[\"trip_num\"].astype(float).astype(int)\n",
                "standard_transit_net.feed.frequencies = standard_transit_net.feed.frequencies[[\"trip_id\", \"headway_secs\", \"start_time\", \"end_time\"]]\n",
                "standard_transit_net.feed.trips[\"agency_id\"] = standard_transit_net.feed.trips[\"agency_raw_name\"]\n",
                "standard_transit_net.feed.agency[\"agency_id\"] = standard_transit_net.feed.agency[\"agency_raw_name\"]"
            ]
        },
        {
            "cell_type": "code",
            "execution_count": null,
            "metadata": {},
            "outputs": [],
            "source": [
                "# get operator code from previous routing result\n",
                "route_operator_code_lookup = pd.read_csv(f\"{root_dir}/data/interim/6-transit-standard/routes.txt\")\n",
                "route_operator_code_lookup = route_operator_code_lookup[[\"route_id_original\", \"operator_code\"]]\n",
                "standard_transit_net.feed.routes = pd.merge(standard_transit_net.feed.routes, route_operator_code_lookup, how=\"left\", on=\"route_id_original\")\n",
                "standard_transit_net.feed.routes.head()"
            ]
        },
        {
            "cell_type": "code",
            "execution_count": null,
            "metadata": {},
            "outputs": [],
            "source": [
                "# fill MDT_local operator\n",
                "standard_transit_net.feed.routes.loc[standard_transit_net.feed.routes[\"operator_code\"].isnull(), \"operator_code\"] = \"MDT_local\"\n",
                "# check if all routes have operator_code\n",
                "na_operator = standard_transit_net.feed.routes[standard_transit_net.feed.routes[\"operator_code\"].isnull()]\n",
                "na_operator"
            ]
        },
        {
            "cell_type": "code",
            "execution_count": null,
            "metadata": {},
            "outputs": [],
            "source": [
                "# write result as cube format\n",
                "standard_transit_net.write_as_cube_lin(parameters=parameters, outpath = f\"{output_dir}/transit/transit_rerouted.lin\")"
            ]
        }
    ],
    "metadata": {
        "interpreter": {
            "hash": "d4337d9465bd1cbd7a52a2b79e5983de64e52000c1e0e4db44e1ed72a9fda6b1"
        },
        "kernelspec": {
            "display_name": "Python 3.7.10 64-bit ('serpm_lasso': conda)",
            "name": "python3"
        },
        "language_info": {
            "codemirror_mode": {
                "name": "ipython",
                "version": 3
            },
            "file_extension": ".py",
            "mimetype": "text/x-python",
            "name": "python",
            "nbconvert_exporter": "python",
            "pygments_lexer": "ipython3",
            "version": "3.7.10"
        },
        "orig_nbformat": 4
    },
    "nbformat": 4,
    "nbformat_minor": 2
}
