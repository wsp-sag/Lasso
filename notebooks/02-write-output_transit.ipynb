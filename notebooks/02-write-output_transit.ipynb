{
    "cells": [
        {
            "attachments": {},
            "cell_type": "markdown",
            "metadata": {},
            "source": [
                "## Write out Cube Transit file from routed GTFS"
            ]
        },
        {
            "cell_type": "code",
            "execution_count": null,
            "metadata": {},
            "outputs": [],
            "source": [
                "%load_ext autoreload\n",
                "%autoreload 2\n",
                "\n",
                "import os\n",
                "import pandas as pd\n",
                "\n",
                "from network_wrangler import TransitNetwork\n",
                "from lasso.seflorida.seflorida_transit import SEFloridaTransit\n",
                "from lasso.seflorida.seflorida_parameters import SEFloridaParameters"
            ]
        },
        {
            "cell_type": "code",
            "execution_count": null,
            "metadata": {},
            "outputs": [],
            "source": [
                "print(\"setup basic paths...\")\n",
                "root_dir = \"projects/serpm/\"\n",
                "input_dir = os.path.join(root_dir, \"data\", \"interim\", \"8-standard-format\")\n",
                "gtfs_input_dir = os.path.join(root_dir, \"data\", \"interim\", \"6-transit-standard-reroute\")\n",
                "output_dir = os.path.join(root_dir, \"data\", \"processed\")\n",
                "\n",
                "print(\"read parameters...\")\n",
                "lasso_dir = os.path.join(root_dir, \"Lasso\")\n",
                "parameters = SEFloridaParameters(lasso_base_dir=lasso_dir)"
            ]
        },
        {
            "cell_type": "code",
            "execution_count": null,
            "metadata": {},
            "outputs": [],
            "source": [
                "# create standard transit network from routed gtfs files\n",
                "transit_net = TransitNetwork.read(feed_path = gtfs_input_dir)\n",
                "standard_transit_net = SEFloridaTransit(feed=transit_net.feed, parameters = parameters)"
            ]
        },
        {
            "cell_type": "code",
            "execution_count": null,
            "metadata": {},
            "outputs": [],
            "source": [
                "# write result as cube format\n",
                "standard_transit_net.write_as_cube_lin(parameters=parameters, outpath = f\"{output_dir}/transit/transit.lin\")"
            ]
        }
    ],
    "metadata": {
        "interpreter": {
            "hash": "d4337d9465bd1cbd7a52a2b79e5983de64e52000c1e0e4db44e1ed72a9fda6b1"
        },
        "kernelspec": {
            "display_name": "Python 3.7.10 64-bit ('serpm_lasso': conda)",
            "name": "python3"
        },
        "language_info": {
            "codemirror_mode": {
                "name": "ipython",
                "version": 3
            },
            "file_extension": ".py",
            "mimetype": "text/x-python",
            "name": "python",
            "nbconvert_exporter": "python",
            "pygments_lexer": "ipython3",
            "version": "3.7.10"
        },
        "orig_nbformat": 4
    },
    "nbformat": 4,
    "nbformat_minor": 2
}
