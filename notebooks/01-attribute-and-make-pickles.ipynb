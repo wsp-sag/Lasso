{
 "cells": [
  {
   "cell_type": "code",
   "execution_count": null,
   "metadata": {},
   "outputs": [],
   "source": [
    "import os\n",
    "import sys\n",
    "import yaml\n",
    "import pandas as pd\n",
    "import pickle\n",
    "\n",
    "from network_wrangler import RoadwayNetwork, TransitNetwork, Scenario, WranglerLogger\n",
    "from lasso import Parameters\n",
    "from lasso.seflorida.seflorida_roadway import SEFloridaRoadwayNetwork"
   ]
  },
  {
   "cell_type": "code",
   "execution_count": null,
   "metadata": {},
   "outputs": [],
   "source": [
    "import logging\n",
    "logger = logging.getLogger(\"WranglerLogger\")\n",
    "logger.handlers[0].stream = sys.stdout\n",
    "# if you don't want to see so much detail, set to logging.INFO or DEBUG\n",
    "logger.setLevel(logging.INFO)"
   ]
  },
  {
   "cell_type": "markdown",
   "metadata": {},
   "source": [
    "## I/O"
   ]
  },
  {
   "cell_type": "code",
   "execution_count": null,
   "metadata": {},
   "outputs": [],
   "source": [
    "root_dir = \"serpm/\"\n",
    "input_dir = os.path.join(root_dir, \"data\", \"interim\", \"8-standard-format\")\n",
    "gtfs_input_dir = os.path.join(root_dir, \"data\", \"interim\", \"6-transit-standard\")\n",
    "output_dir = os.path.join(root_dir, \"data\", \"processed\")\n",
    "lasso_dir = \"Lasso/\""
   ]
  },
  {
   "cell_type": "code",
   "execution_count": null,
   "metadata": {},
   "outputs": [],
   "source": [
    "parameters = Parameters(lasso_base_dir = lasso_dir)"
   ]
  },
  {
   "cell_type": "markdown",
   "metadata": {},
   "source": [
    "## Data Reads"
   ]
  },
  {
   "cell_type": "code",
   "execution_count": null,
   "metadata": {},
   "outputs": [],
   "source": [
    "link_file = os.path.join(input_dir, 'links.json')\n",
    "node_file = os.path.join(input_dir, 'nodes.geojson')\n",
    "shape_file = os.path.join(input_dir, 'shapes.geojson')\n",
    "\n",
    "roadway_net = SEFloridaRoadwayNetwork.read(\n",
    "    link_filename = link_file, \n",
    "    node_filename = node_file, \n",
    "    shape_filename = shape_file\n",
    ")"
   ]
  },
  {
   "cell_type": "code",
   "execution_count": null,
   "metadata": {},
   "outputs": [],
   "source": [
    "transit_net = TransitNetwork.read(feed_path = gtfs_input_dir)"
   ]
  },
  {
   "cell_type": "markdown",
   "metadata": {},
   "source": [
    "## Attribute the network"
   ]
  },
  {
   "cell_type": "markdown",
   "metadata": {},
   "source": [
    "### number of lanes"
   ]
  },
  {
   "cell_type": "code",
   "execution_count": null,
   "metadata": {},
   "outputs": [],
   "source": [
    "r_net = roadway_net.calculate_number_of_lanes(\n",
    "    roadway_network = roadway_net,\n",
    "    parameters = parameters,\n",
    "    network_variable = \"lanes\"\n",
    ")\n",
    "\n",
    "r_net.links_df.lanes.value_counts()"
   ]
  },
  {
   "cell_type": "code",
   "execution_count": null,
   "metadata": {},
   "outputs": [],
   "source": [
    "pd.crosstab(r_net.links_df.lanes, r_net.links_df.roadway)"
   ]
  },
  {
   "cell_type": "markdown",
   "metadata": {},
   "source": [
    "### facility type"
   ]
  },
  {
   "cell_type": "code",
   "execution_count": null,
   "metadata": {},
   "outputs": [],
   "source": [
    "pd.crosstab(r_net.links_df.roadway, r_net.links_df.oneWay)"
   ]
  },
  {
   "cell_type": "code",
   "execution_count": null,
   "metadata": {},
   "outputs": [],
   "source": [
    "r_net = r_net.calculate_facility_type(\n",
    "    roadway_network=r_net, parameters=parameters, network_variable=\"ftype\"\n",
    ")\n",
    "\n",
    "r_net.links_df.ftype.value_counts()"
   ]
  },
  {
   "cell_type": "code",
   "execution_count": null,
   "metadata": {},
   "outputs": [],
   "source": [
    "pd.crosstab(r_net.links_df.ftype, r_net.links_df.roadway)"
   ]
  },
  {
   "cell_type": "markdown",
   "metadata": {},
   "source": [
    "### shorten roadname"
   ]
  },
  {
   "cell_type": "code",
   "execution_count": null,
   "metadata": {},
   "outputs": [],
   "source": [
    "import re\n",
    "def shorten_name(name):\n",
    "    if type(name) == list:\n",
    "        name_list = list(set(name))\n",
    "        name_list = [\n",
    "            re.sub(r\"\\W+\", \" \", c).replace(\"nan\", \"\").strip(\" \") for c in name_list\n",
    "        ]\n",
    "        name_new = \" \".join(name_list).strip(\" \")\n",
    "    else:\n",
    "        return name"
   ]
  },
  {
   "cell_type": "code",
   "execution_count": null,
   "metadata": {},
   "outputs": [],
   "source": [
    "r_net.links_df[\"name\"] = r_net.links_df[\"name\"].apply(lambda x: shorten_name(x))"
   ]
  },
  {
   "cell_type": "code",
   "execution_count": null,
   "metadata": {},
   "outputs": [],
   "source": [
    "r_net.links_df[\"name\"].str.len().max()"
   ]
  },
  {
   "cell_type": "markdown",
   "metadata": {},
   "source": [
    "### transit"
   ]
  },
  {
   "cell_type": "code",
   "execution_count": null,
   "metadata": {},
   "outputs": [],
   "source": [
    "r_net = r_net.calculate_transit(\n",
    "    roadway_network=r_net, parameters=parameters, network_variable=\"transit\"\n",
    ")\n",
    "print(r_net.links_df.transit.value_counts())"
   ]
  },
  {
   "cell_type": "markdown",
   "metadata": {},
   "source": [
    "## Create a Scenario"
   ]
  },
  {
   "cell_type": "code",
   "execution_count": null,
   "metadata": {},
   "outputs": [],
   "source": [
    "base_scenario = {\"road_net\": r_net, \"transit_net\": transit_net}\n",
    "working_scenario = Scenario.create_scenario(base_scenario = base_scenario)"
   ]
  },
  {
   "cell_type": "markdown",
   "metadata": {},
   "source": [
    "## Write to disk"
   ]
  },
  {
   "cell_type": "code",
   "execution_count": null,
   "metadata": {},
   "outputs": [],
   "source": [
    "working_scenario_filename = os.path.join(output_dir, 'working_scenario_01.pickle')\n",
    "pickle.dump(working_scenario, open(working_scenario_filename, 'wb'))"
   ]
  }
 ],
 "metadata": {
  "interpreter": {
   "hash": "d4337d9465bd1cbd7a52a2b79e5983de64e52000c1e0e4db44e1ed72a9fda6b1"
  },
  "kernelspec": {
   "display_name": "Python 3.7.10 64-bit ('serpm_lasso': conda)",
   "name": "python3"
  },
  "language_info": {
   "codemirror_mode": {
    "name": "ipython",
    "version": 3
   },
   "file_extension": ".py",
   "mimetype": "text/x-python",
   "name": "python",
   "nbconvert_exporter": "python",
   "pygments_lexer": "ipython3",
   "version": "3.7.10"
  },
  "orig_nbformat": 4
 },
 "nbformat": 4,
 "nbformat_minor": 2
}
