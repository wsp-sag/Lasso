{
 "cells": [
  {
   "cell_type": "markdown",
   "metadata": {},
   "source": [
    "# Lasso Scenario Creation Quickstart\n",
    "\n",
    "In this notebook we will run through:\n",
    "\n",
    "1. Using a configuration file to run lasso  \n",
    "2. Setting up a base sc\n",
    "enario and applying projects  \n",
    "3. Transforming the standard network format to the MetCouncil expected format    \n",
    "4. Exporting the network to a shapefile and csvs "
   ]
  },
  {
   "cell_type": "code",
   "execution_count": 1,
   "metadata": {},
   "outputs": [],
   "source": [
    "import os\n",
    "import sys\n",
    "import yaml"
   ]
  },
  {
   "cell_type": "code",
   "execution_count": 2,
   "metadata": {},
   "outputs": [],
   "source": [
    "%load_ext autoreload\n",
    "%autoreload 2"
   ]
  },
  {
   "cell_type": "code",
   "execution_count": 3,
   "metadata": {},
   "outputs": [],
   "source": [
    "import logging\n",
    "logger = logging.getLogger(\"WranglerLogger\")\n",
    "# if you don't want to see so much detail, set to logging.INFO or DEBUG\n",
    "logger.setLevel(logging.DEBUG)"
   ]
  },
  {
   "cell_type": "markdown",
   "metadata": {},
   "source": [
    "\n",
    "## 1 - Set Base Roadway and Transit Network Locations"
   ]
  },
  {
   "cell_type": "code",
   "execution_count": 4,
   "metadata": {},
   "outputs": [],
   "source": [
    "# Examples set here for testing purposes\n",
    "EXAMPLE_ROADWAY_DIRECTORY = os.path.join(\n",
    "    os.path.dirname(os.path.abspath('')), \"examples\", \"stpaul\"\n",
    ")\n",
    "\n",
    "EXAMPLE_TRANSIT_DIRECTORY = os.path.join(\n",
    "    os.path.dirname(os.path.abspath('')), \"examples\", \"stpaul\"\n",
    ")"
   ]
  },
  {
   "cell_type": "code",
   "execution_count": 5,
   "metadata": {},
   "outputs": [],
   "source": [
    "# set this to the path where your roadway files are  i.e. r\"c:\\networks\\myroad\\base\"\n",
    "BASE_ROADWAY_DIRECTORY = EXAMPLE_ROADWAY_DIRECTORY\n",
    "\n",
    "# set this to the path where your transit files are i.e. r\"c:\\networks\\mytransit\\base\"\n",
    "BASE_TRANSIT_DIRECTORY = EXAMPLE_TRANSIT_DIRECTORY"
   ]
  },
  {
   "cell_type": "markdown",
   "metadata": {},
   "source": [
    "## 2 - Scenario Settings"
   ]
  },
  {
   "cell_type": "code",
   "execution_count": 6,
   "metadata": {},
   "outputs": [],
   "source": [
    "# Examples set here for testing purposes\n",
    "EXAMPLE_PROJECT_CARD_DIRECTORY = os.path.join(\n",
    "    os.path.dirname(os.path.abspath('')), \"examples\", \"stpaul\", \"project_cards\"\n",
    ")\n",
    "\n",
    "EXAMPLE_OUTPUT_DIRECTORY = os.path.join(\n",
    "    os.path.dirname(os.path.abspath('')), \"tests\", \"scratch\"\n",
    ")"
   ]
  },
  {
   "cell_type": "code",
   "execution_count": 7,
   "metadata": {},
   "outputs": [],
   "source": [
    "# set this to the path of the folder where the project cards are i.e. r\"C:\\networks\\project_cards\"\n",
    "PROJECT_CARD_DIRECTORY = EXAMPLE_PROJECT_CARD_DIRECTORY\n",
    "\n",
    "# set this to the path of the folder you want output to b e i.e. r\"C:\\networks\\built_nets\\base\"\n",
    "OUTPUT_DIRECTORY = EXAMPLE_OUTPUT_DIRECTORY"
   ]
  },
  {
   "cell_type": "markdown",
   "metadata": {},
   "source": [
    "## 3 - Create Scenario"
   ]
  },
  {
   "cell_type": "markdown",
   "metadata": {},
   "source": [
    "### Base Scenario: what networks are you adding the projects to?\n",
    "\n",
    "Base scenarios must at the least specify a highway network but can also specify a directory where transit networks can be found.  \n",
    "\n",
    "In this step the highway and transit networks are read in and validated to each other – making sure that transit nodes exist and the routes can be followed along the roadway network..  \n",
    "\n",
    "Validation can take some time, so if you are already confident that your roadway and transit networks are valid and compatible you may want to override the validation using the flag: `validate = False`."
   ]
  },
  {
   "cell_type": "code",
   "execution_count": 8,
   "metadata": {},
   "outputs": [],
   "source": [
    "from network_wrangler import Scenario"
   ]
  },
  {
   "cell_type": "code",
   "execution_count": 9,
   "metadata": {},
   "outputs": [
    {
     "name": "stdout",
     "output_type": "stream",
     "text": [
      "2021-04-07 09:02:42, INFO: Reading RoadwayNetwork\n",
      "2021-04-07 09:02:51, INFO: Read 66253 links from /Users/elizabeth/Documents/urbanlabs/MetCouncil/working/Lasso/examples/stpaul/link.json\n",
      "2021-04-07 09:02:51, INFO: Read 17159 nodes from /Users/elizabeth/Documents/urbanlabs/MetCouncil/working/Lasso/examples/stpaul/node.geojson\n",
      "2021-04-07 09:02:51, INFO: Read 66253 shapes from /Users/elizabeth/Documents/urbanlabs/MetCouncil/working/Lasso/examples/stpaul/shape.geojson\n",
      "2021-04-07 09:03:07, INFO: Adding transit feed from: /Users/elizabeth/Documents/urbanlabs/MetCouncil/working/Lasso/examples/stpaul\n",
      "2021-04-07 09:03:07, INFO: Removing calendar.txt from transit network config because file not found\n",
      "2021-04-07 09:03:07, INFO: Removing calendar_dates.txt from transit network config because file not found\n",
      "2021-04-07 09:03:07, INFO: Removing fare_attributes.txt from transit network config because file not found\n",
      "2021-04-07 09:03:07, INFO: Removing fare_rules.txt from transit network config because file not found\n",
      "2021-04-07 09:03:07, INFO: Removing transfers.txt from transit network config because file not found\n",
      "2021-04-07 09:03:07, INFO: Removing feed_info.txt from transit network config because file not found\n",
      "2021-04-07 09:03:07, WARNING: The following trip_ids are referenced in trips.txt and frequencies.txt but missing from stop_times.txt: {'14947734-JUN19-MVS-BUS-Weekday-01', '14940701-JUN19-MVS-BUS-Weekday-01', '14946257-JUN19-MVS-BUS-Weekday-01', '14947182-JUN19-MVS-BUS-Weekday-01'}\n"
     ]
    }
   ],
   "source": [
    "base_scenario = Scenario.create_base_scenario(\n",
    "        \"shape.geojson\",\n",
    "        \"link.json\",\n",
    "        \"node.geojson\",\n",
    "        roadway_dir=BASE_ROADWAY_DIRECTORY,\n",
    "        transit_dir=BASE_TRANSIT_DIRECTORY,\n",
    "        validate=False,\n",
    "        shape_foreign_key=\"shape_id\",\n",
    "    )"
   ]
  },
  {
   "cell_type": "markdown",
   "metadata": {},
   "source": [
    "### Scenario Creation: adding projects to the base scenario\n",
    "\n",
    "As coded, this will add projects from the `PROJECT_CARD_DIRECTORY` and if specified here, will filter based on a glob search or a tag."
   ]
  },
  {
   "cell_type": "code",
   "execution_count": 10,
   "metadata": {},
   "outputs": [
    {
     "name": "stdout",
     "output_type": "stream",
     "text": [
      "2021-04-07 09:03:20, INFO: Creating Scenario\n"
     ]
    }
   ],
   "source": [
    "my_fun_scenario=None\n",
    "\n",
    "my_fun_scenario = Scenario.create_scenario(\n",
    "    base_scenario=base_scenario,\n",
    "    card_directory=PROJECT_CARD_DIRECTORY,\n",
    "    #tags=,   #uncomment if you want to use\n",
    "    #glob_search=,  #uncomment if you want to use\n",
    "    validate_project_cards=False,\n",
    ")"
   ]
  },
  {
   "cell_type": "code",
   "execution_count": 11,
   "metadata": {},
   "outputs": [
    {
     "name": "stdout",
     "output_type": "stream",
     "text": [
      "2021-04-07 09:03:27, INFO: Applying Bus Reroute\n",
      "2021-04-07 09:03:27, INFO: Applying Project to Transit Network: Bus Reroute\n",
      "2021-04-07 09:03:27, INFO: Applying Blue Line Service Enhancement A\n",
      "2021-04-07 09:03:27, INFO: Applying Project to Transit Network: Blue Line Service Enhancement A\n",
      "2021-04-07 09:03:27, INFO: Applying 6th Street Transitway\n",
      "2021-04-07 09:03:27, INFO: Applying Project to Roadway Network: 6th Street Transitway\n"
     ]
    },
    {
     "name": "stderr",
     "output_type": "stream",
     "text": [
      "/Users/elizabeth/anaconda3/envs/wrangler/lib/python3.7/site-packages/geopandas/geodataframe.py:1322: SettingWithCopyWarning: \n",
      "A value is trying to be set on a copy of a slice from a DataFrame.\n",
      "Try using .loc[row_indexer,col_indexer] = value instead\n",
      "\n",
      "See the caveats in the documentation: https://pandas.pydata.org/pandas-docs/stable/user_guide/indexing.html#returning-a-view-versus-a-copy\n",
      "  super(GeoDataFrame, self).__setitem__(key, value)\n",
      "/Users/elizabeth/anaconda3/envs/wrangler/lib/python3.7/site-packages/pandas/core/indexing.py:1676: SettingWithCopyWarning: \n",
      "A value is trying to be set on a copy of a slice from a DataFrame.\n",
      "Try using .loc[row_indexer,col_indexer] = value instead\n",
      "\n",
      "See the caveats in the documentation: https://pandas.pydata.org/pandas-docs/stable/user_guide/indexing.html#returning-a-view-versus-a-copy\n",
      "  self._setitem_single_column(ilocs[0], value, pi)\n"
     ]
    }
   ],
   "source": [
    "my_fun_scenario.apply_all_projects()"
   ]
  },
  {
   "cell_type": "markdown",
   "metadata": {},
   "source": [
    "### Standard Networks --> Model Networks\n",
    "\n",
    "At this point, we need to calculate all the variables into what MetCouncil's model is expecting. The method `roadway_standard_to_met_council_network()` broadly does the following:  \n",
    " \n",
    "- creates a parallel managed lane network\n",
    "- calculates additional variables based on geography or other variables (i.e. county, assignment group, area type, etc)\n",
    "- flattens variables stored as continuous time values and determines their value by time period (i.e. lanes_am)   \n",
    "- reprojects into MetCouncil's projection"
   ]
  },
  {
   "cell_type": "code",
   "execution_count": 12,
   "metadata": {},
   "outputs": [
    {
     "name": "stdout",
     "output_type": "stream",
     "text": [
      "2021-04-07 09:03:27, INFO: Lasso base directory set as: /Users/elizabeth/Documents/urbanlabs/MetCouncil/working/Lasso\n",
      "2021-04-07 09:03:27, INFO: Lasso base directory set as: /Users/elizabeth/Documents/urbanlabs/MetCouncil/working/Lasso\n"
     ]
    }
   ],
   "source": [
    "from lasso import Parameters"
   ]
  },
  {
   "cell_type": "code",
   "execution_count": 13,
   "metadata": {},
   "outputs": [
    {
     "name": "stdout",
     "output_type": "stream",
     "text": [
      "2021-04-07 09:04:04, WARNING: [Parameters.__post_init__()] The following parameters were not used.\n",
      "                        Check spelling.\n",
      "['network_to_demand_time_periods', 'roadway_output_espg', 'lookups', 'roadway_value_lookups', 'time_period_abbr_to_names', 'transit_class', 'output_fields', 'transit_to_network_time_periods', 'category_grouping', 'counts', 'time_period_vol_split', 'properties_to_split_by_category_groupings', 'roadway_overlays', 'properties_to_split_by_network_time_periods', 'count_tod_split_fields', 'roadway_field_mappings', 'time_period_abbr_to_time', 'field_type', 'transit_value_lookups']\n"
     ]
    }
   ],
   "source": [
    "from lasso.metcouncil.defaults import _MC_DEFAULT_PARAMS\n",
    "\n",
    "my_parameters = Parameters.initialize(base_params_dict = _MC_DEFAULT_PARAMS)"
   ]
  },
  {
   "cell_type": "code",
   "execution_count": 14,
   "metadata": {},
   "outputs": [],
   "source": [
    "from lasso.metcouncil import MetCouncilRoadwayNetwork"
   ]
  },
  {
   "cell_type": "code",
   "execution_count": 15,
   "metadata": {},
   "outputs": [
    {
     "name": "stdout",
     "output_type": "stream",
     "text": [
      "2021-04-07 09:04:05, INFO: Converting RoadwayNetwork to <class 'lasso.metcouncil.metcouncil_roadway.MetCouncilRoadwayNetwork'> flavor.\n",
      "2021-04-07 09:04:05, WARNING: Update called but nothing to update. Given: {}\n",
      "2021-04-07 09:04:05, INFO: Transforming the standard roadway network into the format and variables that             metcouncil's model is expecting\n",
      "2021-04-07 09:04:05, INFO: Max number of managed lanes is zero (ML_lanes    0\n",
      "dtype: int64).\n",
      "2021-04-07 09:04:12, INFO: Creating metcouncil calculated roadway variables.\n",
      "2021-04-07 09:04:12, INFO: LINKS_DF.CRS: 4326\n"
     ]
    },
    {
     "name": "stderr",
     "output_type": "stream",
     "text": [
      "/Users/elizabeth/Documents/urbanlabs/MetCouncil/working/Lasso/lasso/model_roadway.py:540: UserWarning: Geometry is in a geographic CRS. Results from 'centroid' are likely incorrect. Use 'GeoSeries.to_crs()' to re-project geometries to a projected CRS before this operation.\n",
      "\n",
      "  _link_centroids_gdf[\"geometry\"] = _link_centroids_gdf[\"geometry\"].centroid\n"
     ]
    },
    {
     "name": "stdout",
     "output_type": "stream",
     "text": [
      "2021-04-07 09:04:22, INFO: LINKS_DF.CRS: 4326\n"
     ]
    },
    {
     "name": "stderr",
     "output_type": "stream",
     "text": [
      "/Users/elizabeth/Documents/urbanlabs/MetCouncil/working/Lasso/lasso/model_roadway.py:540: UserWarning: Geometry is in a geographic CRS. Results from 'centroid' are likely incorrect. Use 'GeoSeries.to_crs()' to re-project geometries to a projected CRS before this operation.\n",
      "\n",
      "  _link_centroids_gdf[\"geometry\"] = _link_centroids_gdf[\"geometry\"].centroid\n"
     ]
    },
    {
     "name": "stdout",
     "output_type": "stream",
     "text": [
      "2021-04-07 09:04:29, INFO: LINKS_DF.CRS: 4326\n"
     ]
    },
    {
     "name": "stderr",
     "output_type": "stream",
     "text": [
      "/Users/elizabeth/Documents/urbanlabs/MetCouncil/working/Lasso/lasso/model_roadway.py:540: UserWarning: Geometry is in a geographic CRS. Results from 'centroid' are likely incorrect. Use 'GeoSeries.to_crs()' to re-project geometries to a projected CRS before this operation.\n",
      "\n",
      "  _link_centroids_gdf[\"geometry\"] = _link_centroids_gdf[\"geometry\"].centroid\n"
     ]
    },
    {
     "name": "stdout",
     "output_type": "stream",
     "text": [
      "2021-04-07 09:04:39, INFO: Adding Counts\n",
      "2021-04-07 09:04:48, WARNING: couldn't coerce column centroidconnect to a <class 'int'>.\n",
      "2021-04-07 09:04:48, WARNING: couldn't coerce column centroidconnect to a <class 'int'>.\n",
      "2021-04-07 09:04:48, WARNING: couldn't coerce column count_daily to a <class 'int'>.\n",
      "2021-04-07 09:04:48, WARNING: couldn't coerce column count_AM to a <class 'int'>.\n",
      "2021-04-07 09:04:48, WARNING: couldn't coerce column count_MD to a <class 'int'>.\n",
      "2021-04-07 09:04:48, WARNING: couldn't coerce column count_PM to a <class 'int'>.\n",
      "2021-04-07 09:04:48, WARNING: couldn't coerce column count_NT to a <class 'int'>.\n",
      "2021-04-07 09:04:50, INFO: Setting Coordinate Reference System to EPSG 26915\n"
     ]
    }
   ],
   "source": [
    "model_road_net = MetCouncilRoadwayNetwork.from_RoadwayNetwork(\n",
    "    my_fun_scenario.road_net, parameters=my_parameters,\n",
    ")\n",
    "model_road_net.roadway_standard_to_met_council_network()"
   ]
  },
  {
   "cell_type": "code",
   "execution_count": 16,
   "metadata": {},
   "outputs": [],
   "source": [
    "from lasso.cube import CubeTransit"
   ]
  },
  {
   "cell_type": "code",
   "execution_count": 17,
   "metadata": {},
   "outputs": [
    {
     "name": "stdout",
     "output_type": "stream",
     "text": [
      "2021-04-07 09:04:54, WARNING: Update called but nothing to update. Given: {}\n"
     ]
    }
   ],
   "source": [
    "model_transit = CubeTransit.from_source(my_fun_scenario.transit_net)"
   ]
  },
  {
   "cell_type": "markdown",
   "metadata": {},
   "source": [
    "## 4 -  Export Networks"
   ]
  },
  {
   "cell_type": "markdown",
   "metadata": {},
   "source": [
    "### Roadway Model Network --> Shapefiles"
   ]
  },
  {
   "cell_type": "code",
   "execution_count": 18,
   "metadata": {},
   "outputs": [
    {
     "name": "stdout",
     "output_type": "stream",
     "text": [
      "2021-04-07 09:04:54, INFO: Writing Network to shapefiles: \n",
      "   -links ./my_netlinks_out.shp\n",
      "   -lnodes ./my_netnodes_out.shp\n",
      "2021-04-07 09:04:54, INFO: Renaming variables so that they are DBF-safe\n"
     ]
    },
    {
     "ename": "AttributeError",
     "evalue": "'dict' object has no attribute 'net_to_dbf'",
     "output_type": "error",
     "traceback": [
      "\u001b[0;31m---------------------------------------------------------------------------\u001b[0m",
      "\u001b[0;31mAttributeError\u001b[0m                            Traceback (most recent call last)",
      "\u001b[0;32m<ipython-input-18-cd2afe3815c8>\u001b[0m in \u001b[0;36m<module>\u001b[0;34m\u001b[0m\n\u001b[1;32m      3\u001b[0m     \u001b[0mmodel_road_net\u001b[0m\u001b[0;34m.\u001b[0m\u001b[0mmodel_nodes_df\u001b[0m\u001b[0;34m,\u001b[0m\u001b[0;34m\u001b[0m\u001b[0;34m\u001b[0m\u001b[0m\n\u001b[1;32m      4\u001b[0m     \u001b[0moutput_directory\u001b[0m \u001b[0;34m=\u001b[0m \u001b[0;34m\".\"\u001b[0m\u001b[0;34m,\u001b[0m\u001b[0;34m\u001b[0m\u001b[0;34m\u001b[0m\u001b[0m\n\u001b[0;32m----> 5\u001b[0;31m     \u001b[0moutput_prefix\u001b[0m \u001b[0;34m=\u001b[0m \u001b[0;34m\"my_net\"\u001b[0m\u001b[0;34m,\u001b[0m\u001b[0;34m\u001b[0m\u001b[0;34m\u001b[0m\u001b[0m\n\u001b[0m\u001b[1;32m      6\u001b[0m )\n",
      "\u001b[0;32m~/Documents/urbanlabs/MetCouncil/working/Lasso/lasso/model_roadway.py\u001b[0m in \u001b[0;36mwrite_roadway_as_shp\u001b[0;34m(self, links_df, nodes_df, node_output_fields, link_output_fields, data_to_csv, output_directory, output_prefix, output_basename_links, output_basename_nodes, overwrite_existing_output)\u001b[0m\n\u001b[1;32m    958\u001b[0m         \u001b[0mWranglerLogger\u001b[0m\u001b[0;34m.\u001b[0m\u001b[0mdebug\u001b[0m\u001b[0;34m(\u001b[0m\u001b[0;34m\"Renaming Node and Link Variables for DBF\"\u001b[0m\u001b[0;34m)\u001b[0m\u001b[0;34m\u001b[0m\u001b[0;34m\u001b[0m\u001b[0m\n\u001b[1;32m    959\u001b[0m         nodes_dbf_df = self.rename_fields_for_dbf(\n\u001b[0;32m--> 960\u001b[0;31m             \u001b[0mnodes_df\u001b[0m\u001b[0;34m,\u001b[0m \u001b[0moutput_fields\u001b[0m\u001b[0;34m=\u001b[0m\u001b[0m_dbf_fields_nodes\u001b[0m\u001b[0;34m\u001b[0m\u001b[0;34m\u001b[0m\u001b[0m\n\u001b[0m\u001b[1;32m    961\u001b[0m         )\n\u001b[1;32m    962\u001b[0m         links_dbf_df = self.rename_fields_for_dbf(\n",
      "\u001b[0;32m~/Documents/urbanlabs/MetCouncil/working/Lasso/lasso/model_roadway.py\u001b[0m in \u001b[0;36mrename_fields_for_dbf\u001b[0;34m(self, input_df, net_to_dbf_field_crosswalk, output_fields)\u001b[0m\n\u001b[1;32m    752\u001b[0m         \u001b[0;32mif\u001b[0m \u001b[0mnet_to_dbf_field_crosswalk\u001b[0m \u001b[0;32mis\u001b[0m \u001b[0;32mNone\u001b[0m\u001b[0;34m:\u001b[0m\u001b[0;34m\u001b[0m\u001b[0;34m\u001b[0m\u001b[0m\n\u001b[1;32m    753\u001b[0m             _net_to_dbf_field_crosswalk = (\n\u001b[0;32m--> 754\u001b[0;31m                 \u001b[0mself\u001b[0m\u001b[0;34m.\u001b[0m\u001b[0mparameters\u001b[0m\u001b[0;34m.\u001b[0m\u001b[0mroadway_network_ps\u001b[0m\u001b[0;34m.\u001b[0m\u001b[0mroadway_field_mappings\u001b[0m\u001b[0;34m.\u001b[0m\u001b[0mnet_to_dbf\u001b[0m\u001b[0;34m\u001b[0m\u001b[0;34m\u001b[0m\u001b[0m\n\u001b[0m\u001b[1;32m    755\u001b[0m             )\n\u001b[1;32m    756\u001b[0m         \u001b[0;32melif\u001b[0m \u001b[0misinstance\u001b[0m\u001b[0;34m(\u001b[0m\u001b[0mnet_to_dbf_field_crosswalk\u001b[0m\u001b[0;34m,\u001b[0m \u001b[0mFieldMapping\u001b[0m\u001b[0;34m)\u001b[0m\u001b[0;34m:\u001b[0m\u001b[0;34m\u001b[0m\u001b[0;34m\u001b[0m\u001b[0m\n",
      "\u001b[0;31mAttributeError\u001b[0m: 'dict' object has no attribute 'net_to_dbf'"
     ]
    }
   ],
   "source": [
    "model_road_net.write_roadway_as_shp(\n",
    "    model_road_net.model_links_df,\n",
    "    model_road_net.model_nodes_df,\n",
    "    output_directory = \".\",\n",
    "    output_prefix = \"my_net\",\n",
    ")"
   ]
  },
  {
   "cell_type": "markdown",
   "metadata": {},
   "source": [
    "###  Roadway Model Network --> Fixed Width for Cube"
   ]
  },
  {
   "cell_type": "code",
   "execution_count": null,
   "metadata": {},
   "outputs": [],
   "source": [
    "model_road_net.write_roadway_as_fixedwidth(\n",
    "    model_road_net.model_links_df,\n",
    "    model_road_net.model_nodes_df,\n",
    "    output_directory = \".\",\n",
    "    output_prefix = \"my_net_ff\",\n",
    ")"
   ]
  },
  {
   "cell_type": "markdown",
   "metadata": {},
   "source": [
    "### Transit Networks --> Cube Lin File"
   ]
  },
  {
   "cell_type": "code",
   "execution_count": null,
   "metadata": {},
   "outputs": [],
   "source": [
    "model_transit.write_cube(outpath=\"t_transit_test_from_cube.lin\")"
   ]
  },
  {
   "cell_type": "code",
   "execution_count": null,
   "metadata": {},
   "outputs": [],
   "source": []
  }
 ],
 "metadata": {
  "kernelspec": {
   "display_name": "Python 3",
   "language": "python",
   "name": "python3"
  },
  "language_info": {
   "codemirror_mode": {
    "name": "ipython",
    "version": 3
   },
   "file_extension": ".py",
   "mimetype": "text/x-python",
   "name": "python",
   "nbconvert_exporter": "python",
   "pygments_lexer": "ipython3",
   "version": "3.7.10"
  }
 },
 "nbformat": 4,
 "nbformat_minor": 4
}
