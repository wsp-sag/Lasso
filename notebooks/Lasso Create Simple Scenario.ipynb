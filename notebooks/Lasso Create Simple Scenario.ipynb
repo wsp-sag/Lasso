{
 "cells": [
  {
   "cell_type": "markdown",
   "metadata": {},
   "source": [
    "# Lasso Scenario Creation Quickstart\n",
    "\n",
    "In this notebook we will run through:\n",
    "\n",
    "1. Using a configuration file to run lasso  \n",
    "2. Setting up a base sc\n",
    "enario and applying projects  \n",
    "3. Transforming the standard network format to the MetCouncil expected format    \n",
    "4. Exporting the network to a shapefile and csvs "
   ]
  },
  {
   "cell_type": "code",
   "execution_count": null,
   "metadata": {},
   "outputs": [],
   "source": [
    "import os\n",
    "import sys\n",
    "import yaml\n",
    "\n",
    "import pandas as pd\n",
    "\n",
    "from network_wrangler import RoadwayNetwork\n",
    "from network_wrangler import TransitNetwork\n",
    "from network_wrangler import ProjectCard\n",
    "from network_wrangler import Scenario\n",
    "from network_wrangler import WranglerLogger\n",
    "\n",
    "from lasso import ModelRoadwayNetwork\n",
    "from lasso import StandardTransit"
   ]
  },
  {
   "cell_type": "code",
   "execution_count": 10,
   "metadata": {},
   "outputs": [
    {
     "output_type": "error",
     "ename": "ImportError",
     "evalue": "cannot import name 'ModelToStdAdapter' from 'lasso.model_transit' (/Users/elizabeth/Documents/urbanlabs/MetCouncil/working/Lasso/lasso/model_transit.py)",
     "traceback": [
      "\u001b[0;31m---------------------------------------------------------------------------\u001b[0m",
      "\u001b[0;31mImportError\u001b[0m                               Traceback (most recent call last)",
      "\u001b[0;32m<ipython-input-10-1102ff344f34>\u001b[0m in \u001b[0;36m<module>\u001b[0;34m\u001b[0m\n\u001b[0;32m----> 1\u001b[0;31m \u001b[0;32mfrom\u001b[0m \u001b[0mlasso\u001b[0m \u001b[0;32mimport\u001b[0m \u001b[0mCubeTransit\u001b[0m\u001b[0;34m\u001b[0m\u001b[0;34m\u001b[0m\u001b[0m\n\u001b[0m",
      "\u001b[0;32m~/Documents/urbanlabs/MetCouncil/working/Lasso/lasso/__init__.py\u001b[0m in \u001b[0;36m<module>\u001b[0;34m\u001b[0m\n\u001b[1;32m      1\u001b[0m \u001b[0m__version__\u001b[0m \u001b[0;34m=\u001b[0m \u001b[0;34m\"0.0.0\"\u001b[0m\u001b[0;34m\u001b[0m\u001b[0;34m\u001b[0m\u001b[0m\n\u001b[1;32m      2\u001b[0m \u001b[0;34m\u001b[0m\u001b[0m\n\u001b[0;32m----> 3\u001b[0;31m \u001b[0;32mfrom\u001b[0m \u001b[0;34m.\u001b[0m\u001b[0mproject\u001b[0m \u001b[0;32mimport\u001b[0m \u001b[0mProject\u001b[0m\u001b[0;34m\u001b[0m\u001b[0;34m\u001b[0m\u001b[0m\n\u001b[0m\u001b[1;32m      4\u001b[0m \u001b[0;32mfrom\u001b[0m \u001b[0;34m.\u001b[0m\u001b[0mmodel_transit\u001b[0m \u001b[0;32mimport\u001b[0m \u001b[0mModelTransit\u001b[0m\u001b[0;34m\u001b[0m\u001b[0;34m\u001b[0m\u001b[0m\n\u001b[1;32m      5\u001b[0m \u001b[0;32mfrom\u001b[0m \u001b[0;34m.\u001b[0m\u001b[0mmodel_roadway\u001b[0m \u001b[0;32mimport\u001b[0m \u001b[0mModelRoadwayNetwork\u001b[0m\u001b[0;34m\u001b[0m\u001b[0;34m\u001b[0m\u001b[0m\n",
      "\u001b[0;32m~/Documents/urbanlabs/MetCouncil/working/Lasso/lasso/project.py\u001b[0m in \u001b[0;36m<module>\u001b[0;34m\u001b[0m\n\u001b[1;32m     15\u001b[0m \u001b[0;32mfrom\u001b[0m \u001b[0;34m.\u001b[0m\u001b[0mlogger\u001b[0m \u001b[0;32mimport\u001b[0m \u001b[0mWranglerLogger\u001b[0m\u001b[0;34m\u001b[0m\u001b[0;34m\u001b[0m\u001b[0m\n\u001b[1;32m     16\u001b[0m \u001b[0;32mfrom\u001b[0m \u001b[0;34m.\u001b[0m\u001b[0mparameters\u001b[0m \u001b[0;32mimport\u001b[0m \u001b[0mParameters\u001b[0m\u001b[0;34m\u001b[0m\u001b[0;34m\u001b[0m\u001b[0m\n\u001b[0;32m---> 17\u001b[0;31m \u001b[0;32mfrom\u001b[0m \u001b[0;34m.\u001b[0m\u001b[0mmodel_roadway\u001b[0m \u001b[0;32mimport\u001b[0m \u001b[0mModelRoadwayNetwork\u001b[0m\u001b[0;34m\u001b[0m\u001b[0;34m\u001b[0m\u001b[0m\n\u001b[0m\u001b[1;32m     18\u001b[0m \u001b[0;32mfrom\u001b[0m \u001b[0;34m.\u001b[0m\u001b[0mutils\u001b[0m \u001b[0;32mimport\u001b[0m \u001b[0mcolumn_name_to_parts\u001b[0m\u001b[0;34m\u001b[0m\u001b[0;34m\u001b[0m\u001b[0m\n\u001b[1;32m     19\u001b[0m \u001b[0;34m\u001b[0m\u001b[0m\n",
      "\u001b[0;32m~/Documents/urbanlabs/MetCouncil/working/Lasso/lasso/model_roadway.py\u001b[0m in \u001b[0;36m<module>\u001b[0;34m\u001b[0m\n\u001b[1;32m     16\u001b[0m \u001b[0;32mfrom\u001b[0m \u001b[0mnetwork_wrangler\u001b[0m \u001b[0;32mimport\u001b[0m \u001b[0mRoadwayNetwork\u001b[0m\u001b[0;34m\u001b[0m\u001b[0;34m\u001b[0m\u001b[0m\n\u001b[1;32m     17\u001b[0m \u001b[0;34m\u001b[0m\u001b[0m\n\u001b[0;32m---> 18\u001b[0;31m \u001b[0;32mfrom\u001b[0m \u001b[0;34m.\u001b[0m\u001b[0mcube\u001b[0m\u001b[0;34m.\u001b[0m\u001b[0mcube_roadway\u001b[0m \u001b[0;32mimport\u001b[0m \u001b[0mwrite_cube_hwy_net_script_network_from_ff_files\u001b[0m\u001b[0;34m\u001b[0m\u001b[0;34m\u001b[0m\u001b[0m\n\u001b[0m\u001b[1;32m     19\u001b[0m \u001b[0;32mfrom\u001b[0m \u001b[0;34m.\u001b[0m\u001b[0mparameters\u001b[0m \u001b[0;32mimport\u001b[0m \u001b[0mParameters\u001b[0m\u001b[0;34m\u001b[0m\u001b[0;34m\u001b[0m\u001b[0m\n\u001b[1;32m     20\u001b[0m \u001b[0;32mfrom\u001b[0m \u001b[0;34m.\u001b[0m\u001b[0mlogger\u001b[0m \u001b[0;32mimport\u001b[0m \u001b[0mWranglerLogger\u001b[0m\u001b[0;34m\u001b[0m\u001b[0;34m\u001b[0m\u001b[0m\n",
      "\u001b[0;32m~/Documents/urbanlabs/MetCouncil/working/Lasso/lasso/cube/__init__.py\u001b[0m in \u001b[0;36m<module>\u001b[0;34m\u001b[0m\n\u001b[0;32m----> 1\u001b[0;31m \u001b[0;32mfrom\u001b[0m \u001b[0;34m.\u001b[0m\u001b[0mcube_model_transit\u001b[0m \u001b[0;32mimport\u001b[0m \u001b[0mCubeTransit\u001b[0m\u001b[0;34m,\u001b[0m \u001b[0mStdToCubeAdapter\u001b[0m\u001b[0;34m,\u001b[0m\u001b[0mCubeToStdAdapter\u001b[0m\u001b[0;34m\u001b[0m\u001b[0;34m\u001b[0m\u001b[0m\n\u001b[0m",
      "\u001b[0;32m~/Documents/urbanlabs/MetCouncil/working/Lasso/lasso/cube/cube_model_transit.py\u001b[0m in \u001b[0;36m<module>\u001b[0;34m\u001b[0m\n\u001b[1;32m      9\u001b[0m \u001b[0;34m\u001b[0m\u001b[0m\n\u001b[1;32m     10\u001b[0m \u001b[0;32mfrom\u001b[0m \u001b[0mnetwork_wrangler\u001b[0m \u001b[0;32mimport\u001b[0m \u001b[0mTransitNetwork\u001b[0m\u001b[0;34m,\u001b[0m \u001b[0mWranglerLogger\u001b[0m\u001b[0;34m,\u001b[0m \u001b[0mupdate_df\u001b[0m\u001b[0;34m\u001b[0m\u001b[0;34m\u001b[0m\u001b[0m\n\u001b[0;32m---> 11\u001b[0;31m \u001b[0;32mfrom\u001b[0m \u001b[0;34m.\u001b[0m\u001b[0;34m.\u001b[0m\u001b[0mmodel_transit\u001b[0m \u001b[0;32mimport\u001b[0m \u001b[0mModelTransit\u001b[0m\u001b[0;34m,\u001b[0m \u001b[0mStdToModelAdapter\u001b[0m\u001b[0;34m,\u001b[0m \u001b[0mModelToStdAdapter\u001b[0m\u001b[0;34m\u001b[0m\u001b[0;34m\u001b[0m\u001b[0m\n\u001b[0m\u001b[1;32m     12\u001b[0m \u001b[0;32mfrom\u001b[0m \u001b[0;34m.\u001b[0m\u001b[0;34m.\u001b[0m\u001b[0mparameters\u001b[0m \u001b[0;32mimport\u001b[0m \u001b[0mParameters\u001b[0m\u001b[0;34m\u001b[0m\u001b[0;34m\u001b[0m\u001b[0m\n\u001b[1;32m     13\u001b[0m \u001b[0;34m\u001b[0m\u001b[0m\n",
      "\u001b[0;31mImportError\u001b[0m: cannot import name 'ModelToStdAdapter' from 'lasso.model_transit' (/Users/elizabeth/Documents/urbanlabs/MetCouncil/working/Lasso/lasso/model_transit.py)"
     ]
    }
   ],
   "source": [
    "from lasso import CubeTransit"
   ]
  },
  {
   "cell_type": "code",
   "execution_count": null,
   "metadata": {},
   "outputs": [],
   "source": [
    "%load_ext autoreload\n",
    "%autoreload 2"
   ]
  },
  {
   "cell_type": "code",
   "execution_count": null,
   "metadata": {},
   "outputs": [],
   "source": [
    "import logging\n",
    "logger = logging.getLogger(\"WranglerLogger\")\n",
    "logger.handlers[0].stream = sys.stdout\n",
    "# if you don't want to see so much detail, set to logging.INFO or DEBUG\n",
    "logger.setLevel(logging.DEBUG)"
   ]
  },
  {
   "cell_type": "markdown",
   "metadata": {},
   "source": [
    "\n",
    "## 1 - Set Base Roadway and Transit Network Locations"
   ]
  },
  {
   "cell_type": "code",
   "execution_count": null,
   "metadata": {},
   "outputs": [],
   "source": [
    "# Examples set here for testing purposes\n",
    "EXAMPLE_ROADWAY_DIRECTORY = os.path.join(\n",
    "    os.path.dirname(os.path.abspath('')), \"examples\", \"stpaul\"\n",
    ")\n",
    "\n",
    "EXAMPLE_TRANSIT_DIRECTORY = os.path.join(\n",
    "    os.path.dirname(os.path.abspath('')), \"examples\", \"stpaul\"\n",
    ")"
   ]
  },
  {
   "cell_type": "code",
   "execution_count": null,
   "metadata": {},
   "outputs": [],
   "source": [
    "# set this to the path where your roadway files are  i.e. r\"c:\\networks\\myroad\\base\"\n",
    "BASE_ROADWAY_DIRECTORY = EXAMPLE_ROADWAY_DIRECTORY\n",
    "\n",
    "# set this to the path where your transit files are i.e. r\"c:\\networks\\mytransit\\base\"\n",
    "BASE_TRANSIT_DIRECTORY = EXAMPLE_TRANSIT_DIRECTORY"
   ]
  },
  {
   "cell_type": "markdown",
   "metadata": {},
   "source": [
    "## 2 - Scenario Settings"
   ]
  },
  {
   "cell_type": "code",
   "execution_count": null,
   "metadata": {},
   "outputs": [],
   "source": [
    "# Examples set here for testing purposes\n",
    "EXAMPLE_PROJECT_CARD_DIRECTORY = os.path.join(\n",
    "    os.path.dirname(os.path.abspath('')), \"examples\", \"stpaul\", \"project_cards\"\n",
    ")\n",
    "\n",
    "EXAMPLE_CONFIG_FILE = os.path.join(\n",
    "    os.path.dirname(os.path.abspath('')), \"examples\", \"settings\", \"my_config.yaml\"\n",
    ")\n",
    "\n",
    "EXAMPLE_OUTPUT_DIRECTORY = os.path.join(\n",
    "    os.path.dirname(os.path.abspath('')), \"tests\", \"scratch\"\n",
    ")"
   ]
  },
  {
   "cell_type": "code",
   "execution_count": null,
   "metadata": {},
   "outputs": [],
   "source": [
    "# set this to the path of the folder where the project cards are i.e. r\"C:\\networks\\project_cards\"\n",
    "PROJECT_CARD_DIRECTORY = EXAMPLE_PROJECT_CARD_DIRECTORY\n",
    "\n",
    "# set this to the path of the config file you want to use i.e. r\"C:\\networks\\configs\\base_config.yml\"\n",
    "MY_CONFIG_FILE = EXAMPLE_CONFIG_FILE  \n",
    "\n",
    "# set this to the path of the folder you want output to b e i.e. r\"C:\\networks\\built_nets\\base\"\n",
    "OUTPUT_DIRECTORY = EXAMPLE_OUTPUT_DIRECTORY"
   ]
  },
  {
   "cell_type": "markdown",
   "metadata": {},
   "source": [
    "## 3 - Create Scenario"
   ]
  },
  {
   "cell_type": "markdown",
   "metadata": {},
   "source": [
    "### Base Scenario: what networks are you adding the projects to?\n",
    "\n",
    "Base scenarios must at the least specify a highway network but can also specify a directory where transit networks can be found.  \n",
    "\n",
    "In this step the highway and transit networks are read in and validated to each other – making sure that transit nodes exist and the routes can be followed along the roadway network..  \n",
    "\n",
    "Validation can take some time, so if you are already confident that your roadway and transit networks are valid and compatible you may want to override the validation using the flag: `validate = False`."
   ]
  },
  {
   "cell_type": "code",
   "execution_count": null,
   "metadata": {},
   "outputs": [],
   "source": [
    "base_scenario = Scenario.create_base_scenario(\n",
    "        \"shape.geojson\",\n",
    "        \"link.json\",\n",
    "        \"node.geojson\",\n",
    "        roadway_dir=BASE_ROADWAY_DIRECTORY,\n",
    "        transit_dir=BASE_TRANSIT_DIRECTORY,\n",
    "        validate=False\n",
    "    )"
   ]
  },
  {
   "cell_type": "markdown",
   "metadata": {},
   "source": [
    "### Scenario Creation: adding projects to the base scenario\n",
    "\n",
    "As coded, this will add projects from the `PROJECT_CARD_DIRECTORY` and if specified here, will filter based on a glob search or a tag."
   ]
  },
  {
   "cell_type": "code",
   "execution_count": null,
   "metadata": {},
   "outputs": [],
   "source": [
    "my_scenario=None\n",
    "\n",
    "my_scenario = Scenario.create_scenario(\n",
    "    base_scenario=base_scenario,\n",
    "    card_directory=PROJECT_CARD_DIRECTORY,\n",
    "    #tags=,   #uncomment if you want to use\n",
    "    #glob_search=,  #uncomment if you want to use\n",
    "    validate_project_cards=False,\n",
    ")"
   ]
  },
  {
   "cell_type": "markdown",
   "metadata": {},
   "source": [
    "### Standard Networks --> Model Networks\n",
    "\n",
    "At this point, we need to calculate all the variables into what MetCouncil's model is expecting. The method `roadway_standard_to_met_council_network()` broadly does the following:  \n",
    " \n",
    "- creates a parallel managed lane network\n",
    "- calculates additional variables based on geography or other variables (i.e. county, assignment group, area type, etc)\n",
    "- flattens variables stored as continuous time values and determines their value by time period (i.e. lanes_am)   \n",
    "- reprojects into MetCouncil's projection"
   ]
  },
  {
   "cell_type": "code",
   "execution_count": null,
   "metadata": {},
   "outputs": [],
   "source": [
    "if MY_CONFIG_FILE:\n",
    "    with open(MY_CONFIG_FILE) as f:\n",
    "        my_config = yaml.safe_load(f)\n",
    "else:\n",
    "    my_config = {}\n",
    "\n",
    "model_road_net = ModelRoadwayNetwork.from_RoadwayNetwork(\n",
    "    my_scenario.road_net, parameters=my_config.get(\"my_parameters\", {})\n",
    ")\n",
    "model_road_net.roadway_standard_to_met_council_network()"
   ]
  },
  {
   "cell_type": "code",
   "execution_count": null,
   "metadata": {},
   "outputs": [],
   "source": [
    "standard_transit = StandardTransit.fromTransitNetwork(my_scenario.transit_net)"
   ]
  },
  {
   "cell_type": "markdown",
   "metadata": {},
   "source": [
    "## 4 -  Export Networks"
   ]
  },
  {
   "cell_type": "markdown",
   "metadata": {},
   "source": [
    "### Roadway Model Network --> Shapefiles"
   ]
  },
  {
   "cell_type": "code",
   "execution_count": null,
   "metadata": {},
   "outputs": [],
   "source": [
    "model_road_net.write_roadway_as_shp(\n",
    "    output_link_shp = \"links.shp\",\n",
    "    output_node_shp = \"nodes.shp\",\n",
    ")"
   ]
  },
  {
   "cell_type": "markdown",
   "metadata": {},
   "source": [
    "###  Roadway Model Network --> Fixed Width for Cube"
   ]
  },
  {
   "cell_type": "code",
   "execution_count": null,
   "metadata": {},
   "outputs": [],
   "source": [
    "model_road_net.write_roadway_as_fixedwidth(\n",
    "    output_link_txt = os.path.join(OUTPUT_DIRECTORY,\"links.txt\"),\n",
    "    output_node_txt = os.path.join(OUTPUT_DIRECTORY,\"nodes.txt\"),\n",
    "    output_link_header_width_txt = os.path.join(OUTPUT_DIRECTORY,\"links_header_width.txt\"),\n",
    "    output_node_header_width_txt = os.path.join(OUTPUT_DIRECTORY,\"nodes_header_width.txt\"),\n",
    "    output_cube_network_script = os.path.join(OUTPUT_DIRECTORY,\"make_complete_network_from_fixed_width_file.s\"),\n",
    ")"
   ]
  },
  {
   "cell_type": "markdown",
   "metadata": {},
   "source": [
    "### Transit Networks --> Cube Lin File"
   ]
  },
  {
   "cell_type": "code",
   "execution_count": null,
   "metadata": {},
   "outputs": [],
   "source": [
    "standard_transit.write_as_cube_lin(outpath = os.path.join(OUTPUT_DIRECTORY,\"transit.lin\") )"
   ]
  }
 ],
 "metadata": {
  "kernelspec": {
   "display_name": "Python 3",
   "language": "python",
   "name": "python3"
  },
  "language_info": {
   "codemirror_mode": {
    "name": "ipython",
    "version": 3
   },
   "file_extension": ".py",
   "mimetype": "text/x-python",
   "name": "python",
   "nbconvert_exporter": "python",
   "pygments_lexer": "ipython3",
   "version": "3.7.10-final"
  }
 },
 "nbformat": 4,
 "nbformat_minor": 4
}
