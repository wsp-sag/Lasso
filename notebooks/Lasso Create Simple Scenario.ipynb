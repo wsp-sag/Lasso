{
 "cells": [
  {
   "cell_type": "markdown",
   "metadata": {},
   "source": [
    "# Lasso Scenario Creation Quickstart\n",
    "\n",
    "In this notebook we will run through:\n",
    "\n",
    "1. Using a configuration file to run lasso  \n",
    "2. Setting up a base sc\n",
    "enario and applying projects  \n",
    "3. Transforming the standard network format to the MetCouncil expected format    \n",
    "4. Exporting the network to a shapefile and csvs "
   ]
  },
  {
   "cell_type": "code",
   "execution_count": null,
   "metadata": {},
   "outputs": [],
   "source": [
    "import os\n",
    "import sys\n",
    "import yaml\n",
    "\n",
    "import pandas as pd\n",
    "\n",
    "from network_wrangler import RoadwayNetwork\n",
    "from network_wrangler import TransitNetwork\n",
    "from network_wrangler import ProjectCard\n",
    "from network_wrangler import Scenario\n",
    "from network_wrangler import WranglerLogger\n",
    "\n",
    "from lasso import ModelRoadwayNetwork\n",
    "from lasso import StandardTransit"
   ]
  },
  {
   "cell_type": "code",
   "execution_count": null,
   "metadata": {},
   "outputs": [],
   "source": [
    "%load_ext autoreload\n",
    "%autoreload 2"
   ]
  },
  {
   "cell_type": "code",
   "execution_count": null,
   "metadata": {},
   "outputs": [],
   "source": [
    "import logging\n",
    "logger = logging.getLogger(\"WranglerLogger\")\n",
    "logger.handlers[0].stream = sys.stdout\n",
    "# if you don't want to see so much detail, set to logging.INFO or DEBUG\n",
    "logger.setLevel(logging.DEBUG)"
   ]
  },
  {
   "cell_type": "markdown",
   "metadata": {},
   "source": [
    "\n",
    "## 1 - Set Base Roadway and Transit Network Locations"
   ]
  },
  {
   "cell_type": "code",
   "execution_count": null,
   "metadata": {},
   "outputs": [],
   "source": [
    "# Examples set here for testing purposes\n",
    "EXAMPLE_ROADWAY_DIRECTORY = os.path.join(\n",
    "    os.path.dirname(os.path.abspath('')), \"examples\", \"stpaul\"\n",
    ")\n",
    "\n",
    "EXAMPLE_TRANSIT_DIRECTORY = os.path.join(\n",
    "    os.path.dirname(os.path.abspath('')), \"examples\", \"stpaul\"\n",
    ")"
   ]
  },
  {
   "cell_type": "code",
   "execution_count": null,
   "metadata": {},
   "outputs": [],
   "source": [
    "# set this to the path where your roadway files are  i.e. r\"c:\\networks\\myroad\\base\"\n",
    "BASE_ROADWAY_DIRECTORY = EXAMPLE_ROADWAY_DIRECTORY\n",
    "\n",
    "# set this to the path where your transit files are i.e. r\"c:\\networks\\mytransit\\base\"\n",
    "BASE_TRANSIT_DIRECTORY = EXAMPLE_TRANSIT_DIRECTORY"
   ]
  },
  {
   "cell_type": "markdown",
   "metadata": {},
   "source": [
    "## 2 - Scenario Settings"
   ]
  },
  {
   "cell_type": "code",
   "execution_count": null,
   "metadata": {},
   "outputs": [],
   "source": [
    "# Examples set here for testing purposes\n",
    "EXAMPLE_PROJECT_CARD_DIRECTORY = os.path.join(\n",
    "    os.path.dirname(os.path.abspath('')), \"examples\", \"stpaul\", \"project_cards\"\n",
    ")\n",
    "\n",
    "EXAMPLE_CONFIG_FILE = os.path.join(\n",
    "    os.path.dirname(os.path.abspath('')), \"examples\", \"settings\", \"my_config.yaml\"\n",
    ")\n",
    "\n",
    "EXAMPLE_OUTPUT_DIRECTORY = os.path.join(\n",
    "    os.path.dirname(os.path.abspath('')), \"tests\", \"scratch\"\n",
    ")"
   ]
  },
  {
   "cell_type": "code",
   "execution_count": null,
   "metadata": {},
   "outputs": [],
   "source": [
    "# set this to the path of the folder where the project cards are i.e. r\"C:\\networks\\project_cards\"\n",
    "PROJECT_CARD_DIRECTORY = EXAMPLE_PROJECT_CARD_DIRECTORY\n",
    "\n",
    "# set this to the path of the config file you want to use i.e. r\"C:\\networks\\configs\\base_config.yml\"\n",
    "MY_CONFIG_FILE = EXAMPLE_CONFIG_FILE  \n",
    "\n",
    "# set this to the path of the folder you want output to b e i.e. r\"C:\\networks\\built_nets\\base\"\n",
    "OUTPUT_DIRECTORY = EXAMPLE_OUTPUT_DIRECTORY"
   ]
  },
  {
   "cell_type": "markdown",
   "metadata": {},
   "source": [
    "## 3 - Create Scenario"
   ]
  },
  {
   "cell_type": "markdown",
   "metadata": {},
   "source": [
    "### Base Scenario: what networks are you adding the projects to?\n",
    "\n",
    "Base scenarios must at the least specify a highway network but can also specify a directory where transit networks can be found.  \n",
    "\n",
    "In this step the highway and transit networks are read in and validated to each other – making sure that transit nodes exist and the routes can be followed along the roadway network..  \n",
    "\n",
    "Validation can take some time, so if you are already confident that your roadway and transit networks are valid and compatible you may want to override the validation using the flag: `validate = False`."
   ]
  },
  {
   "cell_type": "code",
   "execution_count": null,
   "metadata": {},
   "outputs": [],
   "source": [
    "base_scenario = Scenario.create_base_scenario(\n",
    "        \"shape.geojson\",\n",
    "        \"link.json\",\n",
    "        \"node.geojson\",\n",
    "        roadway_dir=BASE_ROADWAY_DIRECTORY,\n",
    "        transit_dir=BASE_TRANSIT_DIRECTORY,\n",
    "        validate=False\n",
    "    )"
   ]
  },
  {
   "cell_type": "markdown",
   "metadata": {},
   "source": [
    "### Scenario Creation: adding projects to the base scenario\n",
    "\n",
    "As coded, this will add projects from the `PROJECT_CARD_DIRECTORY` and if specified here, will filter based on a glob search or a tag."
   ]
  },
  {
   "cell_type": "code",
   "execution_count": null,
   "metadata": {},
   "outputs": [],
   "source": [
    "my_scenario=None\n",
    "\n",
    "my_scenario = Scenario.create_scenario(\n",
    "    base_scenario=base_scenario,\n",
    "    card_directory=PROJECT_CARD_DIRECTORY,\n",
    "    #tags=,   #uncomment if you want to use\n",
    "    #glob_search=,  #uncomment if you want to use\n",
    "    validate_project_cards=False,\n",
    ")"
   ]
  },
  {
   "cell_type": "markdown",
   "metadata": {},
   "source": [
    "### Standard Networks --> Model Networks\n",
    "\n",
    "At this point, we need to calculate all the variables into what MetCouncil's model is expecting. The method `roadway_standard_to_met_council_network()` broadly does the following:  \n",
    " \n",
    "- creates a parallel managed lane network\n",
    "- calculates additional variables based on geography or other variables (i.e. county, assignment group, area type, etc)\n",
    "- flattens variables stored as continuous time values and determines their value by time period (i.e. lanes_am)   \n",
    "- reprojects into MetCouncil's projection"
   ]
  },
  {
   "cell_type": "code",
   "execution_count": null,
   "metadata": {},
   "outputs": [],
   "source": [
    "if MY_CONFIG_FILE:\n",
    "    with open(MY_CONFIG_FILE) as f:\n",
    "        my_config = yaml.safe_load(f)\n",
    "else:\n",
    "    my_config = {}\n",
    "\n",
    "model_road_net = ModelRoadwayNetwork.from_RoadwayNetwork(\n",
    "    my_scenario.road_net, parameters=my_config.get(\"my_parameters\", {})\n",
    ")\n",
    "model_road_net.roadway_standard_to_met_council_network()"
   ]
  },
  {
   "cell_type": "code",
   "execution_count": null,
   "metadata": {},
   "outputs": [],
   "source": [
    "standard_transit = StandardTransit.fromTransitNetwork(my_scenario.transit_net)"
   ]
  },
  {
   "cell_type": "markdown",
   "metadata": {},
   "source": [
    "## 4 -  Export Networks"
   ]
  },
  {
   "cell_type": "markdown",
   "metadata": {},
   "source": [
    "### Roadway Model Network --> Shapefiles"
   ]
  },
  {
   "cell_type": "code",
   "execution_count": null,
   "metadata": {},
   "outputs": [],
   "source": [
    "model_road_net.write_roadway_as_shp(\n",
    "    output_link_shp = \"links.shp\",\n",
    "    output_node_shp = \"nodes.shp\",\n",
    ")"
   ]
  },
  {
   "cell_type": "markdown",
   "metadata": {},
   "source": [
    "###  Roadway Model Network --> Fixed Width for Cube"
   ]
  },
  {
   "cell_type": "code",
   "execution_count": null,
   "metadata": {},
   "outputs": [],
   "source": [
    "model_road_net.write_roadway_as_fixedwidth(\n",
    "    output_link_txt = os.path.join(OUTPUT_DIRECTORY,\"links.txt\"),\n",
    "    output_node_txt = os.path.join(OUTPUT_DIRECTORY,\"nodes.txt\"),\n",
    "    output_link_header_width_txt = os.path.join(OUTPUT_DIRECTORY,\"links_header_width.txt\"),\n",
    "    output_node_header_width_txt = os.path.join(OUTPUT_DIRECTORY,\"nodes_header_width.txt\"),\n",
    "    output_cube_network_script = os.path.join(OUTPUT_DIRECTORY,\"make_complete_network_from_fixed_width_file.s\"),\n",
    ")"
   ]
  },
  {
   "cell_type": "markdown",
   "metadata": {},
   "source": [
    "### Transit Networks --> Cube Lin File"
   ]
  },
  {
   "cell_type": "code",
   "execution_count": null,
   "metadata": {},
   "outputs": [],
   "source": [
    "standard_transit.write_as_cube_lin(outpath = os.path.join(OUTPUT_DIRECTORY,\"transit.lin\") )"
   ]
  }
 ],
 "metadata": {
  "kernelspec": {
   "display_name": "Python 3",
   "language": "python",
   "name": "python3"
  },
  "language_info": {
   "codemirror_mode": {
    "name": "ipython",
    "version": 3
   },
   "file_extension": ".py",
   "mimetype": "text/x-python",
   "name": "python",
   "nbconvert_exporter": "python",
   "pygments_lexer": "ipython3",
   "version": "3.7.6"
  }
 },
 "nbformat": 4,
 "nbformat_minor": 4
}
