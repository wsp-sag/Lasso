{
 "cells": [
  {
   "cell_type": "code",
   "execution_count": 1,
   "metadata": {},
   "outputs": [],
   "source": [
    "import os\n",
    "import sys\n",
    "import yaml\n",
    "\n",
    "import pandas as pd\n",
    "\n",
    "from network_wrangler import RoadwayNetwork\n",
    "from network_wrangler import TransitNetwork\n",
    "from network_wrangler import ProjectCard\n",
    "from network_wrangler import Scenario\n",
    "from network_wrangler import WranglerLogger\n",
    "\n",
    "from lasso import ModelRoadwayNetwork\n",
    "from lasso import StandardTransit\n",
    "from lasso import Parameters\n",
    "from lasso import MTC\n",
    "\n",
    "import pickle"
   ]
  },
  {
   "cell_type": "code",
   "execution_count": 2,
   "metadata": {},
   "outputs": [],
   "source": [
    "%load_ext autoreload\n",
    "%autoreload 2"
   ]
  },
  {
   "cell_type": "code",
   "execution_count": 3,
   "metadata": {},
   "outputs": [],
   "source": [
    "import logging\n",
    "logger = logging.getLogger(\"WranglerLogger\")\n",
    "logger.handlers[0].stream = sys.stdout\n",
    "logger.setLevel(logging.INFO)"
   ]
  },
  {
   "cell_type": "markdown",
   "metadata": {},
   "source": [
    "# Remote I/O and Parameters"
   ]
  },
  {
   "cell_type": "code",
   "execution_count": 12,
   "metadata": {},
   "outputs": [],
   "source": [
    "pickle_dir = \"../tests/scratch\"\n",
    "output_dir = \"../tests/scratch\"\n",
    "card_dir = \"../../travel-model-two-networks/project_cards\""
   ]
  },
  {
   "cell_type": "code",
   "execution_count": 5,
   "metadata": {},
   "outputs": [
    {
     "name": "stdout",
     "output_type": "stream",
     "text": [
      "2020-10-21 13:01:42, INFO: Lasso base directory set as: z:\\Data\\Users\\Sijia\\MTC\\github\\Lasso\n",
      "2020-10-21 13:01:42, INFO: Lasso base directory set as: z:\\Data\\Users\\Sijia\\MTC\\github\\Lasso\n"
     ]
    }
   ],
   "source": [
    "parameters = Parameters()"
   ]
  },
  {
   "cell_type": "markdown",
   "metadata": {},
   "source": [
    "# Read Version 01 Network"
   ]
  },
  {
   "cell_type": "code",
   "execution_count": 6,
   "metadata": {},
   "outputs": [],
   "source": [
    "version_00_pickle_file_name = os.path.join(pickle_dir, 'base_roadway_network.pickle')\n",
    "v_01_roadway_net = pickle.load(open(version_00_pickle_file_name, 'rb'))"
   ]
  },
  {
   "cell_type": "code",
   "execution_count": 7,
   "metadata": {},
   "outputs": [
    {
     "data": {
      "text/plain": [
       "(2221035, 26)"
      ]
     },
     "execution_count": 7,
     "metadata": {},
     "output_type": "execute_result"
    }
   ],
   "source": [
    "v_01_roadway_net.links_df.shape"
   ]
  },
  {
   "cell_type": "code",
   "execution_count": 8,
   "metadata": {},
   "outputs": [
    {
     "data": {
      "text/plain": [
       "(1163103, 7)"
      ]
     },
     "execution_count": 8,
     "metadata": {},
     "output_type": "execute_result"
    }
   ],
   "source": [
    "v_01_roadway_net.shapes_df.shape"
   ]
  },
  {
   "cell_type": "markdown",
   "metadata": {},
   "source": [
    "# Create Base Scenario"
   ]
  },
  {
   "cell_type": "code",
   "execution_count": 9,
   "metadata": {},
   "outputs": [],
   "source": [
    "base_scenario = {\"road_net\": v_01_roadway_net}"
   ]
  },
  {
   "cell_type": "code",
   "execution_count": 10,
   "metadata": {},
   "outputs": [
    {
     "name": "stdout",
     "output_type": "stream",
     "text": [
      "2020-10-21 13:03:26, INFO: Creating Scenario\n",
      "2020-10-21 13:03:26, INFO: Creating Scenario\n"
     ]
    }
   ],
   "source": [
    "v01_scenario = Scenario.create_scenario(base_scenario = base_scenario)"
   ]
  },
  {
   "cell_type": "markdown",
   "metadata": {},
   "source": [
    "# Apply Project Cards"
   ]
  },
  {
   "cell_type": "code",
   "execution_count": 13,
   "metadata": {},
   "outputs": [],
   "source": [
    "project_card_list = []\n",
    "card_01_file_name = os.path.join(card_dir, 'year_2015_managed_lane_us101s_south_healdsburg_to_north_petaluma.yml')\n",
    "\n",
    "card = ProjectCard.read(card_01_file_name, validate = False)\n",
    "project_card_list.append(card)"
   ]
  },
  {
   "cell_type": "code",
   "execution_count": 14,
   "metadata": {},
   "outputs": [
    {
     "name": "stdout",
     "output_type": "stream",
     "text": [
      "2020-10-21 13:05:50, INFO: Applying Year 2015 Modify HOV Lanes and USE on US-101 SB from South of Healdsburg to North of Petaluma\n",
      "2020-10-21 13:05:50, INFO: Applying Year 2015 Modify HOV Lanes and USE on US-101 SB from South of Healdsburg to North of Petaluma\n",
      "2020-10-21 13:05:50, INFO: Applying Year 2015 Modify HOV Lanes and USE on US-101 SB from South of Healdsburg to North of Petaluma\n",
      "2020-10-21 13:05:50, INFO: Applying Year 2015 Modify HOV Lanes and USE on US-101 SB from South of Healdsburg to North of Petaluma\n",
      "2020-10-21 13:05:50, INFO: Applying Project to Roadway Network: Year 2015 Modify HOV Lanes and USE on US-101 SB from South of Healdsburg to North of Petaluma\n",
      "2020-10-21 13:05:50, INFO: Applying Project to Roadway Network: Year 2015 Modify HOV Lanes and USE on US-101 SB from South of Healdsburg to North of Petaluma\n"
     ]
    },
    {
     "name": "stderr",
     "output_type": "stream",
     "text": [
      "c:\\users\\wangs1\\.conda\\envs\\lasso_mtc\\lib\\site-packages\\geopandas\\geodataframe.py:853: SettingWithCopyWarning: \n",
      "A value is trying to be set on a copy of a slice from a DataFrame.\n",
      "Try using .loc[row_indexer,col_indexer] = value instead\n",
      "\n",
      "See the caveats in the documentation: http://pandas.pydata.org/pandas-docs/stable/user_guide/indexing.html#returning-a-view-versus-a-copy\n",
      "  super(GeoDataFrame, self).__setitem__(key, value)\n"
     ]
    }
   ],
   "source": [
    "for project_card in project_card_list:\n",
    "    v01_scenario.apply_project(project_card)"
   ]
  },
  {
   "cell_type": "code",
   "execution_count": 15,
   "metadata": {},
   "outputs": [
    {
     "data": {
      "text/plain": [
       "['Year 2015 Modify HOV Lanes and USE on US-101 SB from South of Healdsburg to North of Petaluma']"
      ]
     },
     "execution_count": 15,
     "metadata": {},
     "output_type": "execute_result"
    }
   ],
   "source": [
    "v01_scenario.applied_projects"
   ]
  },
  {
   "cell_type": "code",
   "execution_count": 16,
   "metadata": {},
   "outputs": [
    {
     "data": {
      "text/plain": [
       "(2221035, 32)"
      ]
     },
     "execution_count": 16,
     "metadata": {},
     "output_type": "execute_result"
    }
   ],
   "source": [
    "v01_scenario.road_net.links_df.shape"
   ]
  },
  {
   "cell_type": "markdown",
   "metadata": {},
   "source": [
    "# Update Travel Model Networks"
   ]
  },
  {
   "cell_type": "code",
   "execution_count": 18,
   "metadata": {
    "scrolled": false
   },
   "outputs": [
    {
     "name": "stdout",
     "output_type": "stream",
     "text": [
      "2020-10-21 13:11:44, INFO: Renaming roadway attributes to be consistent with what mtc's model is expecting\n",
      "2020-10-21 13:11:44, INFO: Renaming roadway attributes to be consistent with what mtc's model is expecting\n",
      "2020-10-21 13:11:44, INFO: Creating managed lane network.\n",
      "2020-10-21 13:11:44, INFO: Creating managed lane network.\n",
      "2020-10-21 13:11:44, INFO: Creating network with duplicated managed lanes\n",
      "2020-10-21 13:11:44, INFO: Creating network with duplicated managed lanes\n",
      "2020-10-21 13:11:44, ERROR: managed lane access links already exist in network; shouldn't be running create managed lane network. Returning network as-is.\n",
      "2020-10-21 13:11:44, ERROR: managed lane access links already exist in network; shouldn't be running create managed lane network. Returning network as-is.\n",
      "2020-10-21 13:11:44, INFO: Creating calculated roadway variables.\n",
      "2020-10-21 13:11:44, INFO: Creating calculated roadway variables.\n",
      "2020-10-21 13:11:44, INFO: Calculating Facility Type\n",
      "2020-10-21 13:11:44, INFO: Calculating Facility Type\n",
      "2020-10-21 13:14:47, INFO: Finished calculating roadway class variable: ft\n",
      "2020-10-21 13:14:47, INFO: Finished calculating roadway class variable: ft\n",
      "2020-10-21 13:14:48, INFO: Determining assignable\n",
      "2020-10-21 13:14:48, INFO: Determining assignable\n",
      "2020-10-21 13:14:48, INFO: Calculating and adding roadway network variable: assignable\n",
      "2020-10-21 13:14:48, INFO: Calculating and adding roadway network variable: assignable\n",
      "2020-10-21 13:15:07, INFO: Finished determining assignable using variable: assignable\n",
      "2020-10-21 13:15:07, INFO: Finished determining assignable using variable: assignable\n",
      "2020-10-21 13:15:08, INFO: Determining cntype\n",
      "2020-10-21 13:15:08, INFO: Determining cntype\n",
      "2020-10-21 13:15:08, INFO: Calculating and adding roadway network variable: cntype\n",
      "2020-10-21 13:15:08, INFO: Calculating and adding roadway network variable: cntype\n",
      "2020-10-21 13:16:18, INFO: Finished determining assignable using variable: cntype\n",
      "2020-10-21 13:16:18, INFO: Finished determining assignable using variable: cntype\n",
      "2020-10-21 13:16:18, INFO: Determining assignable\n",
      "2020-10-21 13:16:18, INFO: Determining assignable\n",
      "2020-10-21 13:16:18, INFO: Calculating and adding roadway network variable: transit\n",
      "2020-10-21 13:16:18, INFO: Calculating and adding roadway network variable: transit\n",
      "2020-10-21 13:16:18, INFO: Finished determining transit-only variable: transit\n",
      "2020-10-21 13:16:18, INFO: Finished determining transit-only variable: transit\n",
      "2020-10-21 13:16:18, INFO: Determining useclass\n",
      "2020-10-21 13:16:18, INFO: Determining useclass\n",
      "2020-10-21 13:16:18, INFO: Variable 'useclass' updated for some links. Returning without overwriting for those links. Calculating for other links\n",
      "2020-10-21 13:16:18, INFO: Variable 'useclass' updated for some links. Returning without overwriting for those links. Calculating for other links\n",
      "2020-10-21 13:16:18, INFO: Calculating and adding roadway network variable: useclass\n",
      "2020-10-21 13:16:18, INFO: Calculating and adding roadway network variable: useclass\n",
      "2020-10-21 13:16:18, INFO: Finished determining transit-only variable: useclass\n",
      "2020-10-21 13:16:18, INFO: Finished determining transit-only variable: useclass\n",
      "2020-10-21 13:16:18, INFO: Finished creating ML lanes variable: ML_lanes\n",
      "2020-10-21 13:16:18, INFO: Finished creating ML lanes variable: ML_lanes\n",
      "2020-10-21 13:16:18, INFO: Overwriting existing distance Variable 'distance' already in network\n",
      "2020-10-21 13:16:18, INFO: Overwriting existing distance Variable 'distance' already in network\n",
      "2020-10-21 13:17:22, INFO: Calculating distance for all links\n",
      "2020-10-21 13:17:22, INFO: Calculating distance for all links\n",
      "2020-10-21 13:17:29, INFO: Filling nan for network from network wrangler\n",
      "2020-10-21 13:17:29, INFO: Filling nan for network from network wrangler\n",
      "2020-10-21 13:17:52, INFO: Splitting variables by time period and category\n",
      "2020-10-21 13:17:52, INFO: Splitting variables by time period and category\n",
      "2020-10-21 13:18:18, INFO: Converting variable type to mtc standard\n",
      "2020-10-21 13:18:18, INFO: Converting variable type to mtc standard\n",
      "2020-10-21 13:18:25, INFO: Setting Coordinate Reference System to ESRI:102646\n",
      "2020-10-21 13:18:25, INFO: Setting Coordinate Reference System to ESRI:102646\n"
     ]
    }
   ],
   "source": [
    "v01_scenario.road_net.roadway_standard_to_mtc_network()"
   ]
  },
  {
   "cell_type": "markdown",
   "metadata": {},
   "source": [
    "# Write Out"
   ]
  },
  {
   "cell_type": "markdown",
   "metadata": {},
   "source": [
    "## As shapefile"
   ]
  },
  {
   "cell_type": "code",
   "execution_count": 93,
   "metadata": {},
   "outputs": [
    {
     "name": "stdout",
     "output_type": "stream",
     "text": [
      "2020-10-20 21:23:39, INFO: Writing Network as Shapefile\n",
      "2020-10-20 21:23:39, INFO: Writing Network as Shapefile\n",
      "2020-10-20 21:23:39, INFO: Renaming DBF Node Variables\n",
      "2020-10-20 21:23:39, INFO: Renaming DBF Node Variables\n",
      "2020-10-20 21:23:39, INFO: Renaming variables so that they are DBF-safe\n",
      "2020-10-20 21:23:39, INFO: Renaming variables so that they are DBF-safe\n",
      "2020-10-20 21:23:52, INFO: Renaming DBF Link Variables\n",
      "2020-10-20 21:23:52, INFO: Renaming DBF Link Variables\n",
      "2020-10-20 21:23:52, INFO: Renaming variables so that they are DBF-safe\n",
      "2020-10-20 21:23:52, INFO: Renaming variables so that they are DBF-safe\n",
      "2020-10-20 21:23:57, INFO: Writing Node Shapes:\n",
      " - ../tests/scratch\\nodes.shp\n",
      "2020-10-20 21:23:57, INFO: Writing Node Shapes:\n",
      " - ../tests/scratch\\nodes.shp\n",
      "2020-10-20 21:24:50, INFO: Writing Link Shapes:\n",
      " - ../tests/scratch\\links.shp\n",
      "2020-10-20 21:24:50, INFO: Writing Link Shapes:\n",
      " - ../tests/scratch\\links.shp\n"
     ]
    }
   ],
   "source": [
    "v01_scenario.road_net.write_roadway_as_shp(\n",
    "    output_link_shp = os.path.join(output_dir, 'links.shp'),\n",
    "    output_node_shp = os.path.join(output_dir, 'nodes.shp'),\n",
    "    link_output_variables = [\"model_link_id\", \"A\", \"B\", \"geometry\"],\n",
    "    node_output_variables = [\"model_node_id\", \"geometry\"],\n",
    "    data_to_csv = False,\n",
    "    data_to_dbf = True,\n",
    ")"
   ]
  },
  {
   "cell_type": "markdown",
   "metadata": {},
   "source": [
    "## As fixed width (for CUBE)"
   ]
  },
  {
   "cell_type": "code",
   "execution_count": 95,
   "metadata": {},
   "outputs": [
    {
     "name": "stdout",
     "output_type": "stream",
     "text": [
      "2020-10-20 21:31:24, INFO: Starting fixed width convertion\n",
      "2020-10-20 21:31:24, INFO: Starting fixed width convertion\n",
      "2020-10-20 21:54:01, INFO: Writing out link database\n",
      "2020-10-20 21:54:01, INFO: Writing out link database\n",
      "2020-10-20 21:56:52, INFO: Writing out link header and width ----\n",
      "2020-10-20 21:56:52, INFO: Writing out link header and width ----\n",
      "2020-10-20 21:56:52, INFO: Starting fixed width convertion\n",
      "2020-10-20 21:56:52, INFO: Starting fixed width convertion\n",
      "2020-10-20 21:58:55, INFO: Writing out node database\n",
      "2020-10-20 21:58:55, INFO: Writing out node database\n",
      "2020-10-20 21:59:01, INFO: Writing out node header and width\n",
      "2020-10-20 21:59:01, INFO: Writing out node header and width\n"
     ]
    }
   ],
   "source": [
    "v01_scenario.road_net.write_roadway_as_fixedwidth(\n",
    "    output_link_txt = os.path.join(output_dir, 'links.txt'),\n",
    "    output_node_txt = os.path.join(output_dir, 'nodes.txt'),\n",
    "    output_link_header_width_txt = os.path.join(output_dir, 'links_header_width.txt'),\n",
    "    output_node_header_width_txt = os.path.join(output_dir, 'nodes_header_width.txt'),\n",
    "    output_cube_network_script = os.path.join(output_dir, 'make_complete_network_from_fixed_width_file.s'),\n",
    ")"
   ]
  },
  {
   "cell_type": "markdown",
   "metadata": {},
   "source": [
    "## As pickle"
   ]
  },
  {
   "cell_type": "code",
   "execution_count": 19,
   "metadata": {},
   "outputs": [],
   "source": [
    "roadway_filename = os.path.join(output_dir, 'base_roadway_network_v01.pickle')\n",
    "pickle.dump(v01_scenario.road_net, open(roadway_filename, 'wb'))"
   ]
  },
  {
   "cell_type": "markdown",
   "metadata": {},
   "source": [
    "## As network standard"
   ]
  },
  {
   "cell_type": "markdown",
   "metadata": {},
   "source": [
    "v01_scenario.road_net.write(path = output_dir, filename = 'v01')"
   ]
  }
 ],
 "metadata": {
  "kernelspec": {
   "display_name": "Python 3",
   "language": "python",
   "name": "python3"
  },
  "language_info": {
   "codemirror_mode": {
    "name": "ipython",
    "version": 3
   },
   "file_extension": ".py",
   "mimetype": "text/x-python",
   "name": "python",
   "nbconvert_exporter": "python",
   "pygments_lexer": "ipython3",
   "version": "3.7.9"
  }
 },
 "nbformat": 4,
 "nbformat_minor": 4
}
