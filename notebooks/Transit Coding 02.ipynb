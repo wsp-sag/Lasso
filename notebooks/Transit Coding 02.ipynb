{
 "cells": [
  {
   "cell_type": "markdown",
   "metadata": {},
   "source": [
    "# Transit Example -- Part 2: Make and Apply Project Card"
   ]
  },
  {
   "cell_type": "code",
   "execution_count": 1,
   "metadata": {},
   "outputs": [],
   "source": [
    "import os\n",
    "import sys\n",
    "\n",
    "from lasso import Project\n",
    "from lasso import CubeTransit\n",
    "from network_wrangler import RoadwayNetwork\n",
    "from network_wrangler import WranglerLogger"
   ]
  },
  {
   "cell_type": "code",
   "execution_count": 2,
   "metadata": {},
   "outputs": [],
   "source": [
    "%load_ext autoreload\n",
    "%autoreload 2"
   ]
  },
  {
   "cell_type": "code",
   "execution_count": 30,
   "metadata": {},
   "outputs": [],
   "source": [
    "import logging\n",
    "logger = logging.getLogger(\"WranglerLogger\")\n",
    "logger.handlers[0].stream = sys.stdout\n",
    "logger.setLevel(logging.INFO)"
   ]
  },
  {
   "cell_type": "markdown",
   "metadata": {},
   "source": [
    "## Remote I/O and Parameters"
   ]
  },
  {
   "cell_type": "code",
   "execution_count": 8,
   "metadata": {},
   "outputs": [
    {
     "name": "stdout",
     "output_type": "stream",
     "text": [
      "/Users/elizabeth/Documents/urbanlabs/MetCouncil/working/client_met_council_wrangler_utilities/examples/stpaul/cube\n"
     ]
    }
   ],
   "source": [
    "lasso_dir = os.path.join(os.path.dirname((os.path.dirname(os.path.abspath('')))),\"client_met_council_wrangler_utilities\")\n",
    "cube_dir = os.path.join(lasso_dir, 'examples','stpaul','cube')\n",
    "print(cube_dir)"
   ]
  },
  {
   "cell_type": "markdown",
   "metadata": {},
   "source": [
    "## Make a Project Card"
   ]
  },
  {
   "cell_type": "code",
   "execution_count": 31,
   "metadata": {},
   "outputs": [
    {
     "name": "stdout",
     "output_type": "stream",
     "text": [
      "Creating a new Cube Transit instance\n",
      "2020-09-15 14:05:07, INFO: Lasso base directory set as: /Users/elizabeth/Documents/urbanlabs/MetCouncil/working/client_met_council_wrangler_utilities\n",
      "2020-09-15 14:05:07, INFO: Lasso base directory set as: /Users/elizabeth/Documents/urbanlabs/MetCouncil/working/client_met_council_wrangler_utilities\n",
      "reading: /Users/elizabeth/Documents/urbanlabs/MetCouncil/working/client_met_council_wrangler_utilities/examples/stpaul/cube/transit_orig.lin\n",
      "Creating a new Cube Transit instance\n",
      "2020-09-15 14:05:07, INFO: Lasso base directory set as: /Users/elizabeth/Documents/urbanlabs/MetCouncil/working/client_met_council_wrangler_utilities\n",
      "2020-09-15 14:05:07, INFO: Lasso base directory set as: /Users/elizabeth/Documents/urbanlabs/MetCouncil/working/client_met_council_wrangler_utilities\n",
      "reading: /Users/elizabeth/Documents/urbanlabs/MetCouncil/working/client_met_council_wrangler_utilities/examples/stpaul/cube/transit_edit.lin\n",
      "2020-09-15 14:05:07, INFO: No roadway changes given or processed.\n",
      "2020-09-15 14:05:07, INFO: No roadway changes given or processed.\n",
      "2020-09-15 14:05:07, INFO: No base roadway network.\n",
      "2020-09-15 14:05:07, INFO: No base roadway network.\n",
      "2020-09-15 14:05:07, INFO: Lasso base directory set as: /Users/elizabeth/Documents/urbanlabs/MetCouncil/working/client_met_council_wrangler_utilities\n",
      "2020-09-15 14:05:07, INFO: Lasso base directory set as: /Users/elizabeth/Documents/urbanlabs/MetCouncil/working/client_met_council_wrangler_utilities\n",
      "2020-09-15 14:05:07, INFO: Evaluating project changes.\n",
      "2020-09-15 14:05:07, INFO: Evaluating project changes.\n",
      "2020-09-15 14:05:07, INFO: Wrote project card to: transit_test.yml\n",
      "2020-09-15 14:05:07, INFO: Wrote project card to: transit_test.yml\n"
     ]
    }
   ],
   "source": [
    "project = Project.create_project(\n",
    "        base_transit_source=os.path.join(cube_dir, \"transit_orig.lin\"),\n",
    "        build_transit_source=os.path.join(cube_dir,\"transit_edit.lin\"),\n",
    ")\n",
    "\n",
    "project.write_project_card(\"transit_test.yml\")"
   ]
  },
  {
   "cell_type": "code",
   "execution_count": null,
   "metadata": {},
   "outputs": [],
   "source": []
  }
 ],
 "metadata": {
  "kernelspec": {
   "display_name": "Python 3",
   "language": "python",
   "name": "python3"
  },
  "language_info": {
   "codemirror_mode": {
    "name": "ipython",
    "version": 3
   },
   "file_extension": ".py",
   "mimetype": "text/x-python",
   "name": "python",
   "nbconvert_exporter": "python",
   "pygments_lexer": "ipython3",
   "version": "3.7.6"
  }
 },
 "nbformat": 4,
 "nbformat_minor": 4
}
