{
 "cells": [
  {
   "cell_type": "code",
   "execution_count": 4,
   "id": "6e76cd87",
   "metadata": {},
   "outputs": [],
   "source": [
    "import geopandas as gpd\n",
    "import os"
   ]
  },
  {
   "cell_type": "code",
   "execution_count": 25,
   "id": "10049f21",
   "metadata": {},
   "outputs": [
    {
     "data": {
      "text/plain": [
       "'0.10.2'"
      ]
     },
     "execution_count": 25,
     "metadata": {},
     "output_type": "execute_result"
    }
   ],
   "source": [
    "gpd.__version__"
   ]
  },
  {
   "cell_type": "code",
   "execution_count": 27,
   "id": "c1179e87",
   "metadata": {},
   "outputs": [
    {
     "data": {
      "text/plain": [
       "'3.2.1'"
      ]
     },
     "execution_count": 27,
     "metadata": {},
     "output_type": "execute_result"
    }
   ],
   "source": [
    "import pyproj\n",
    "pyproj.__version__"
   ]
  },
  {
   "cell_type": "markdown",
   "id": "8b920733",
   "metadata": {},
   "source": [
    "### Read example geometry file"
   ]
  },
  {
   "cell_type": "code",
   "execution_count": 5,
   "id": "b9c683d0",
   "metadata": {},
   "outputs": [],
   "source": [
    "lasso_dir = \"Z:/Data/users/Sijia/Met_Council/github/client_met_council_wrangler_utilities\"\n",
    "\n",
    "taz_filename = os.path.join(lasso_dir, 'metcouncil_data','TAZ','TAZOfficialWCurrentForecasts.shp')"
   ]
  },
  {
   "cell_type": "code",
   "execution_count": 13,
   "id": "73e771a9",
   "metadata": {},
   "outputs": [],
   "source": [
    "taz_gdf = gpd.read_file(taz_filename)"
   ]
  },
  {
   "cell_type": "code",
   "execution_count": 14,
   "id": "3d98d618",
   "metadata": {},
   "outputs": [
    {
     "data": {
      "text/plain": [
       "<Projected CRS: EPSG:26915>\n",
       "Name: NAD83 / UTM zone 15N\n",
       "Axis Info [cartesian]:\n",
       "- E[east]: Easting (metre)\n",
       "- N[north]: Northing (metre)\n",
       "Area of Use:\n",
       "- name: North America - between 96°W and 90°W - onshore and offshore. Canada - Manitoba; Nunavut; Ontario. United States (USA) - Arkansas; Illinois; Iowa; Kansas; Louisiana; Michigan; Minnesota; Mississippi; Missouri; Nebraska; Oklahoma; Tennessee; Texas; Wisconsin.\n",
       "- bounds: (-96.0, 25.61, -90.0, 84.0)\n",
       "Coordinate Operation:\n",
       "- name: UTM zone 15N\n",
       "- method: Transverse Mercator\n",
       "Datum: North American Datum 1983\n",
       "- Ellipsoid: GRS 1980\n",
       "- Prime Meridian: Greenwich"
      ]
     },
     "execution_count": 14,
     "metadata": {},
     "output_type": "execute_result"
    }
   ],
   "source": [
    "taz_gdf.crs"
   ]
  },
  {
   "cell_type": "code",
   "execution_count": 15,
   "id": "0834840d",
   "metadata": {},
   "outputs": [
    {
     "data": {
      "text/plain": [
       "0       POLYGON ((460555.993 5028987.573, 460851.077 5...\n",
       "1       POLYGON ((479228.108 5025733.177, 479207.290 5...\n",
       "2       POLYGON ((473792.436 5007398.307, 474061.576 5...\n",
       "3       POLYGON ((462030.831 4980699.966, 462005.862 4...\n",
       "4       POLYGON ((461250.312 4982502.500, 461313.601 4...\n",
       "                              ...                        \n",
       "3025    POLYGON ((411999.421 4990810.172, 412023.826 4...\n",
       "3026    POLYGON ((405202.644 4990929.459, 405771.926 4...\n",
       "3027    POLYGON ((450310.839 5023642.016, 450310.529 5...\n",
       "3028    POLYGON ((541820.798 4934877.091, 542250.830 4...\n",
       "3029    POLYGON ((534758.615 4994207.651, 534714.974 4...\n",
       "Name: geometry, Length: 3030, dtype: geometry"
      ]
     },
     "execution_count": 15,
     "metadata": {},
     "output_type": "execute_result"
    }
   ],
   "source": [
    "taz_gdf.geometry"
   ]
  },
  {
   "cell_type": "markdown",
   "id": "845ba32c",
   "metadata": {},
   "source": [
    "### Convert to WGS 84 lat-long"
   ]
  },
  {
   "cell_type": "code",
   "execution_count": 16,
   "id": "6a6bdc14",
   "metadata": {},
   "outputs": [],
   "source": [
    "taz_4326_gdf = taz_gdf.to_crs('epsg:4326')"
   ]
  },
  {
   "cell_type": "markdown",
   "id": "5071b98f",
   "metadata": {},
   "source": [
    "#### problem with conversion"
   ]
  },
  {
   "cell_type": "code",
   "execution_count": 17,
   "id": "96d603df",
   "metadata": {
    "scrolled": true
   },
   "outputs": [
    {
     "data": {
      "text/plain": [
       "0       POLYGON ((inf inf, inf inf, inf inf, inf inf, ...\n",
       "1       POLYGON ((-93.26533 45.38481, -93.26553 45.370...\n",
       "2       POLYGON ((-93.33380 45.21959, -93.33037 45.219...\n",
       "3       POLYGON ((-93.48157 44.97873, -93.48189 44.978...\n",
       "4       POLYGON ((-93.49161 44.99491, -93.49081 44.994...\n",
       "                              ...                        \n",
       "3025    POLYGON ((-94.11781 45.06528, -94.11750 45.065...\n",
       "3026    POLYGON ((-94.20415 45.06548, -94.19692 45.065...\n",
       "3027    POLYGON ((-93.63449 45.36453, -93.63449 45.364...\n",
       "3028    POLYGON ((-92.47334 44.56602, -92.46794 44.564...\n",
       "3029    POLYGON ((-92.55821 45.10048, -92.55878 45.099...\n",
       "Name: geometry, Length: 3030, dtype: geometry"
      ]
     },
     "execution_count": 17,
     "metadata": {},
     "output_type": "execute_result"
    }
   ],
   "source": [
    "taz_4326_gdf.geometry"
   ]
  },
  {
   "cell_type": "markdown",
   "id": "34489217",
   "metadata": {},
   "source": [
    "### Convert to NAD lat-long"
   ]
  },
  {
   "cell_type": "code",
   "execution_count": 21,
   "id": "cb3cf175",
   "metadata": {},
   "outputs": [],
   "source": [
    "taz_4629_gdf = taz_gdf.to_crs('epsg:4629')"
   ]
  },
  {
   "cell_type": "code",
   "execution_count": 22,
   "id": "da027191",
   "metadata": {},
   "outputs": [
    {
     "data": {
      "text/plain": [
       "0       POLYGON ((-93.50410 45.41330, -93.50033 45.413...\n",
       "1       POLYGON ((-93.26533 45.38481, -93.26553 45.370...\n",
       "2       POLYGON ((-93.33380 45.21959, -93.33037 45.219...\n",
       "3       POLYGON ((-93.48157 44.97873, -93.48189 44.978...\n",
       "4       POLYGON ((-93.49161 44.99491, -93.49081 44.994...\n",
       "                              ...                        \n",
       "3025    POLYGON ((-94.11781 45.06528, -94.11750 45.065...\n",
       "3026    POLYGON ((-94.20415 45.06548, -94.19692 45.065...\n",
       "3027    POLYGON ((-93.63449 45.36453, -93.63449 45.364...\n",
       "3028    POLYGON ((-92.47334 44.56602, -92.46794 44.564...\n",
       "3029    POLYGON ((-92.55821 45.10048, -92.55878 45.099...\n",
       "Name: geometry, Length: 3030, dtype: geometry"
      ]
     },
     "execution_count": 22,
     "metadata": {},
     "output_type": "execute_result"
    }
   ],
   "source": [
    "taz_4629_gdf.geometry"
   ]
  },
  {
   "cell_type": "code",
   "execution_count": null,
   "id": "394bce99",
   "metadata": {},
   "outputs": [],
   "source": []
  }
 ],
 "metadata": {
  "kernelspec": {
   "display_name": "Python 3 (ipykernel)",
   "language": "python",
   "name": "python3"
  },
  "language_info": {
   "codemirror_mode": {
    "name": "ipython",
    "version": 3
   },
   "file_extension": ".py",
   "mimetype": "text/x-python",
   "name": "python",
   "nbconvert_exporter": "python",
   "pygments_lexer": "ipython3",
   "version": "3.7.12"
  }
 },
 "nbformat": 4,
 "nbformat_minor": 5
}
