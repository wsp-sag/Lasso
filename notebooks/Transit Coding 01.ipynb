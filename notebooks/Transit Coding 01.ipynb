{
 "cells": [
  {
   "cell_type": "markdown",
   "metadata": {},
   "source": [
    "# Transit Example -- Part 1: Make Cube Network"
   ]
  },
  {
   "cell_type": "code",
   "execution_count": 1,
   "metadata": {},
   "outputs": [],
   "source": [
    "import os\n",
    "import sys\n",
    "import yaml\n",
    "from subprocess import Popen\n",
    "\n",
    "import pandas as pd\n",
    "\n",
    "from network_wrangler import RoadwayNetwork\n",
    "from network_wrangler import TransitNetwork\n",
    "from network_wrangler import WranglerLogger\n",
    "\n",
    "from lasso import ModelRoadwayNetwork\n",
    "from lasso import StandardTransit\n",
    "from lasso import Parameters"
   ]
  },
  {
   "cell_type": "code",
   "execution_count": 2,
   "metadata": {},
   "outputs": [],
   "source": [
    "%load_ext autoreload\n",
    "%autoreload 2"
   ]
  },
  {
   "cell_type": "code",
   "execution_count": 3,
   "metadata": {},
   "outputs": [],
   "source": [
    "import logging\n",
    "logger = logging.getLogger(\"WranglerLogger\")\n",
    "logger.handlers[0].stream = sys.stdout\n",
    "logger.setLevel(logging.INFO)"
   ]
  },
  {
   "cell_type": "markdown",
   "metadata": {},
   "source": [
    "## Remote I/O and Parameters"
   ]
  },
  {
   "cell_type": "code",
   "execution_count": 5,
   "metadata": {},
   "outputs": [],
   "source": [
    "input_dir = os.path.join('C:/Users', 'david.ory', 'Documents', 'GitHub', 'lasso', 'examples', 'stpaul')\n",
    "output_dir = os.path.join('C:/Users', 'david.ory', 'Documents', 'GitHub', 'lasso', 'examples', 'stpaul', 'cube')\n",
    "lasso_dir = os.path.join('C:/Users', 'david.ory', 'Documents', 'GitHub', 'lasso')"
   ]
  },
  {
   "cell_type": "code",
   "execution_count": 6,
   "metadata": {},
   "outputs": [
    {
     "name": "stdout",
     "output_type": "stream",
     "text": [
      "2020-09-15 07:14:18, INFO: Lasso base directory set as: C:/Users\\david.ory\\Documents\\GitHub\\lasso\n",
      "2020-09-15 07:14:18, INFO: Lasso base directory set as: C:/Users\\david.ory\\Documents\\GitHub\\lasso\n"
     ]
    }
   ],
   "source": [
    "parameters = Parameters(lasso_base_dir = lasso_dir)"
   ]
  },
  {
   "cell_type": "markdown",
   "metadata": {},
   "source": [
    "## Read Roadway and Transit Networks"
   ]
  },
  {
   "cell_type": "code",
   "execution_count": 7,
   "metadata": {},
   "outputs": [
    {
     "name": "stdout",
     "output_type": "stream",
     "text": [
      "2020-09-15 07:14:53, INFO: Reading from following files:\n",
      "-C:/Users\\david.ory\\Documents\\GitHub\\lasso\\examples\\stpaul\\link.json\n",
      "-C:/Users\\david.ory\\Documents\\GitHub\\lasso\\examples\\stpaul\\node.geojson\n",
      "-C:/Users\\david.ory\\Documents\\GitHub\\lasso\\examples\\stpaul\\shape.geojson.\n",
      "2020-09-15 07:14:53, INFO: Reading from following files:\n",
      "-C:/Users\\david.ory\\Documents\\GitHub\\lasso\\examples\\stpaul\\link.json\n",
      "-C:/Users\\david.ory\\Documents\\GitHub\\lasso\\examples\\stpaul\\node.geojson\n",
      "-C:/Users\\david.ory\\Documents\\GitHub\\lasso\\examples\\stpaul\\shape.geojson.\n",
      "2020-09-15 07:15:10, INFO: Read 66253 links from C:/Users\\david.ory\\Documents\\GitHub\\lasso\\examples\\stpaul\\link.json\n",
      "2020-09-15 07:15:10, INFO: Read 66253 links from C:/Users\\david.ory\\Documents\\GitHub\\lasso\\examples\\stpaul\\link.json\n",
      "2020-09-15 07:15:10, INFO: Read 17159 nodes from C:/Users\\david.ory\\Documents\\GitHub\\lasso\\examples\\stpaul\\node.geojson\n",
      "2020-09-15 07:15:10, INFO: Read 17159 nodes from C:/Users\\david.ory\\Documents\\GitHub\\lasso\\examples\\stpaul\\node.geojson\n",
      "2020-09-15 07:15:10, INFO: Read 66253 shapes from C:/Users\\david.ory\\Documents\\GitHub\\lasso\\examples\\stpaul\\shape.geojson\n",
      "2020-09-15 07:15:10, INFO: Read 66253 shapes from C:/Users\\david.ory\\Documents\\GitHub\\lasso\\examples\\stpaul\\shape.geojson\n"
     ]
    }
   ],
   "source": [
    "link_file = os.path.join(input_dir, 'link.json')\n",
    "node_file = os.path.join(input_dir, 'node.geojson')\n",
    "shape_file = os.path.join(input_dir, 'shape.geojson')\n",
    "\n",
    "roadway_net = RoadwayNetwork.read(\n",
    "    link_filename = link_file, \n",
    "    node_filename = node_file, \n",
    "    shape_filename = shape_file, \n",
    "    shape_foreign_key ='shape_id')"
   ]
  },
  {
   "cell_type": "code",
   "execution_count": 8,
   "metadata": {},
   "outputs": [
    {
     "name": "stdout",
     "output_type": "stream",
     "text": [
      "2020-09-15 07:15:34, INFO: Read in transit feed from: C:/Users\\david.ory\\Documents\\GitHub\\lasso\\examples\\stpaul\n",
      "2020-09-15 07:15:34, INFO: Read in transit feed from: C:/Users\\david.ory\\Documents\\GitHub\\lasso\\examples\\stpaul\n",
      "2020-09-15 07:15:34, INFO: Removing calendar.txt from transit network config because file not found\n",
      "2020-09-15 07:15:34, INFO: Removing calendar.txt from transit network config because file not found\n",
      "2020-09-15 07:15:34, INFO: Removing calendar_dates.txt from transit network config because file not found\n",
      "2020-09-15 07:15:34, INFO: Removing calendar_dates.txt from transit network config because file not found\n",
      "2020-09-15 07:15:34, INFO: Removing fare_attributes.txt from transit network config because file not found\n",
      "2020-09-15 07:15:34, INFO: Removing fare_attributes.txt from transit network config because file not found\n",
      "2020-09-15 07:15:34, INFO: Removing fare_rules.txt from transit network config because file not found\n",
      "2020-09-15 07:15:34, INFO: Removing fare_rules.txt from transit network config because file not found\n",
      "2020-09-15 07:15:34, INFO: Removing transfers.txt from transit network config because file not found\n",
      "2020-09-15 07:15:34, INFO: Removing transfers.txt from transit network config because file not found\n",
      "2020-09-15 07:15:34, INFO: Removing feed_info.txt from transit network config because file not found\n",
      "2020-09-15 07:15:34, INFO: Removing feed_info.txt from transit network config because file not found\n"
     ]
    }
   ],
   "source": [
    "transit_net = TransitNetwork.read(feed_path = input_dir)"
   ]
  },
  {
   "cell_type": "markdown",
   "metadata": {},
   "source": [
    "## Make Travel Model Network"
   ]
  },
  {
   "cell_type": "code",
   "execution_count": 9,
   "metadata": {},
   "outputs": [
    {
     "name": "stdout",
     "output_type": "stream",
     "text": [
      "2020-09-15 07:16:02, INFO: Lasso base directory set as: C:/Users\\david.ory\\Documents\\GitHub\\lasso\n",
      "2020-09-15 07:16:02, INFO: Lasso base directory set as: C:/Users\\david.ory\\Documents\\GitHub\\lasso\n",
      "2020-09-15 07:16:02, INFO: Renaming roadway attributes to be consistent with what metcouncil's model is expecting\n",
      "2020-09-15 07:16:02, INFO: Renaming roadway attributes to be consistent with what metcouncil's model is expecting\n",
      "2020-09-15 07:16:02, INFO: Didn't detect managed lanes in network.\n",
      "2020-09-15 07:16:02, INFO: Didn't detect managed lanes in network.\n",
      "2020-09-15 07:16:02, INFO: Creating calculated roadway variables.\n",
      "2020-09-15 07:16:02, INFO: Creating calculated roadway variables.\n",
      "2020-09-15 07:16:02, INFO: Calculating Area Type from Spatial Data and adding as roadway network variable: area_type\n",
      "2020-09-15 07:16:02, INFO: Calculating Area Type from Spatial Data and adding as roadway network variable: area_type\n"
     ]
    },
    {
     "name": "stderr",
     "output_type": "stream",
     "text": [
      "c:\\users\\david.ory\\documents\\github\\lasso\\lasso\\roadway.py:400: UserWarning: Geometry is in a geographic CRS. Results from 'centroid' are likely incorrect. Use 'GeoSeries.to_crs()' to re-project geometries to a projected CRS before this operation.\n",
      "\n",
      "  centroids_gdf[\"geometry\"] = centroids_gdf[\"geometry\"].centroid\n"
     ]
    },
    {
     "name": "stdout",
     "output_type": "stream",
     "text": [
      "2020-09-15 07:16:14, INFO: Finished Calculating Area Type from Spatial Data into variable: area_type\n",
      "2020-09-15 07:16:14, INFO: Finished Calculating Area Type from Spatial Data into variable: area_type\n",
      "2020-09-15 07:16:14, INFO: Adding roadway network variable for county using a spatial join with: C:/Users\\david.ory\\Documents\\GitHub\\lasso\\metcouncil_data\\county\\cb_2017_us_county_5m.shp\n",
      "2020-09-15 07:16:14, INFO: Adding roadway network variable for county using a spatial join with: C:/Users\\david.ory\\Documents\\GitHub\\lasso\\metcouncil_data\\county\\cb_2017_us_county_5m.shp\n"
     ]
    },
    {
     "name": "stderr",
     "output_type": "stream",
     "text": [
      "c:\\users\\david.ory\\documents\\github\\lasso\\lasso\\roadway.py:292: UserWarning: Geometry is in a geographic CRS. Results from 'centroid' are likely incorrect. Use 'GeoSeries.to_crs()' to re-project geometries to a projected CRS before this operation.\n",
      "\n",
      "  centroids_gdf[\"geometry\"] = centroids_gdf[\"geometry\"].centroid\n"
     ]
    },
    {
     "name": "stdout",
     "output_type": "stream",
     "text": [
      "2020-09-15 07:16:23, INFO: Finished Calculating county variable: county\n",
      "2020-09-15 07:16:23, INFO: Finished Calculating county variable: county\n",
      "2020-09-15 07:16:23, INFO: Calculating Centroid Connector and adding as roadway network variable: centroidconnect\n",
      "2020-09-15 07:16:23, INFO: Calculating Centroid Connector and adding as roadway network variable: centroidconnect\n",
      "2020-09-15 07:16:23, INFO: Finished calculating centroid connector variable: centroidconnect\n",
      "2020-09-15 07:16:23, INFO: Finished calculating centroid connector variable: centroidconnect\n",
      "2020-09-15 07:16:23, INFO: Calculating MPO as roadway network variable: mpo\n",
      "2020-09-15 07:16:23, INFO: Calculating MPO as roadway network variable: mpo\n",
      "2020-09-15 07:16:23, INFO: Finished calculating MPO variable: mpo\n",
      "2020-09-15 07:16:23, INFO: Finished calculating MPO variable: mpo\n",
      "2020-09-15 07:16:23, INFO: Calculating Assignment Group and Roadway Class as network variables: 'assign_group' and 'roadway_class'\n",
      "2020-09-15 07:16:23, INFO: Calculating Assignment Group and Roadway Class as network variables: 'assign_group' and 'roadway_class'\n",
      "2020-09-15 07:16:23, INFO: Centroid Connector Variable 'centroidconnect' already in network. Returning without overwriting.\n",
      "2020-09-15 07:16:23, INFO: Centroid Connector Variable 'centroidconnect' already in network. Returning without overwriting.\n",
      "2020-09-15 07:17:46, INFO: Finished calculating assignment group variable assign_group and roadway class variable roadway_class\n",
      "2020-09-15 07:17:46, INFO: Finished calculating assignment group variable assign_group and roadway class variable roadway_class\n",
      "2020-09-15 07:17:47, INFO: Adding Counts\n",
      "2020-09-15 07:17:47, INFO: Adding Counts\n",
      "2020-09-15 07:17:47, INFO: Adding Variable AADT using Shared Streets Reference from C:/Users\\david.ory\\Documents\\GitHub\\lasso\\metcouncil_data\\count_mn\\mn_count_ShSt_API_match.csv\n",
      "2020-09-15 07:17:47, INFO: Adding Variable AADT using Shared Streets Reference from C:/Users\\david.ory\\Documents\\GitHub\\lasso\\metcouncil_data\\count_mn\\mn_count_ShSt_API_match.csv\n",
      "2020-09-15 07:17:47, INFO: Added variable: AADT using Shared Streets Reference\n",
      "2020-09-15 07:17:47, INFO: Added variable: AADT using Shared Streets Reference\n",
      "2020-09-15 07:17:47, INFO: Adding Variable AADT using Shared Streets Reference from C:/Users\\david.ory\\Documents\\GitHub\\lasso\\metcouncil_data\\Wisconsin_Lanes_Counts_Median\\wi_count_ShSt_API_match.csv\n",
      "2020-09-15 07:17:47, INFO: Adding Variable AADT using Shared Streets Reference from C:/Users\\david.ory\\Documents\\GitHub\\lasso\\metcouncil_data\\Wisconsin_Lanes_Counts_Median\\wi_count_ShSt_API_match.csv\n",
      "2020-09-15 07:17:48, INFO: Added variable: AADT using Shared Streets Reference\n",
      "2020-09-15 07:17:48, INFO: Added variable: AADT using Shared Streets Reference\n",
      "2020-09-15 07:17:48, INFO: Finished adding counts variable: AADT\n",
      "2020-09-15 07:17:48, INFO: Finished adding counts variable: AADT\n",
      "2020-09-15 07:17:48, INFO: Finished creating ML lanes variable: ML_lanes\n",
      "2020-09-15 07:17:48, INFO: Finished creating ML lanes variable: ML_lanes\n",
      "2020-09-15 07:17:48, INFO: Finished creating hov corridor variable: segment_id\n",
      "2020-09-15 07:17:48, INFO: Finished creating hov corridor variable: segment_id\n",
      "2020-09-15 07:17:48, INFO: Finished creating managed variable: managed\n",
      "2020-09-15 07:17:48, INFO: Finished creating managed variable: managed\n",
      "2020-09-15 07:17:48, INFO: Overwriting existing distance Variable 'distance' already in network\n",
      "2020-09-15 07:17:48, INFO: Overwriting existing distance Variable 'distance' already in network\n",
      "2020-09-15 07:17:52, INFO: Calculating distance for centroid connectors\n",
      "2020-09-15 07:17:52, INFO: Calculating distance for centroid connectors\n",
      "2020-09-15 07:17:52, INFO: Filling nan for network from network wrangler\n",
      "2020-09-15 07:17:52, INFO: Filling nan for network from network wrangler\n",
      "2020-09-15 07:17:55, INFO: Splitting variables by time period and category\n",
      "2020-09-15 07:17:55, INFO: Splitting variables by time period and category\n",
      "2020-09-15 07:17:57, WARNING: Specified variable to split: ML_lanes not in network variables: Index(['model_link_id', 'osm_link_id', 'shstReferenceId', 'shstGeometryId',\n",
      "       'shape_id', 'u', 'v', 'A', 'B', 'locationReferences', 'distance',\n",
      "       'roadway', 'name', 'ref', 'bridge', 'tunnel', 'width', 'max_speed',\n",
      "       'bike_facility', 'drive_access', 'walk_access', 'bike_access',\n",
      "       'truck_access', 'bus_only', 'rail_only', 'lanes', 'access', 'price',\n",
      "       'trn_priority', 'ttime_assert', 'geometry', 'area_type', 'county',\n",
      "       'centroidconnect', 'mpo', 'mrcc_id', 'ROUTE_SYS', 'RDWY_CTGY_',\n",
      "       'assign_group', 'roadway_class', 'AADT', 'count_AM', 'count_MD',\n",
      "       'count_PM', 'count_NT', 'count_daily', 'count_year', 'segment_id',\n",
      "       'managed', 'trn_priority_AM', 'trn_priority_MD', 'trn_priority_PM',\n",
      "       'trn_priority_NT', 'ttime_assert_AM', 'ttime_assert_MD',\n",
      "       'ttime_assert_PM', 'ttime_assert_NT', 'lanes_AM', 'lanes_MD',\n",
      "       'lanes_PM', 'lanes_NT'],\n",
      "      dtype='object'). Returning 0.\n",
      "2020-09-15 07:17:57, WARNING: Specified variable to split: ML_lanes not in network variables: Index(['model_link_id', 'osm_link_id', 'shstReferenceId', 'shstGeometryId',\n",
      "       'shape_id', 'u', 'v', 'A', 'B', 'locationReferences', 'distance',\n",
      "       'roadway', 'name', 'ref', 'bridge', 'tunnel', 'width', 'max_speed',\n",
      "       'bike_facility', 'drive_access', 'walk_access', 'bike_access',\n",
      "       'truck_access', 'bus_only', 'rail_only', 'lanes', 'access', 'price',\n",
      "       'trn_priority', 'ttime_assert', 'geometry', 'area_type', 'county',\n",
      "       'centroidconnect', 'mpo', 'mrcc_id', 'ROUTE_SYS', 'RDWY_CTGY_',\n",
      "       'assign_group', 'roadway_class', 'AADT', 'count_AM', 'count_MD',\n",
      "       'count_PM', 'count_NT', 'count_daily', 'count_year', 'segment_id',\n",
      "       'managed', 'trn_priority_AM', 'trn_priority_MD', 'trn_priority_PM',\n",
      "       'trn_priority_NT', 'ttime_assert_AM', 'ttime_assert_MD',\n",
      "       'ttime_assert_PM', 'ttime_assert_NT', 'lanes_AM', 'lanes_MD',\n",
      "       'lanes_PM', 'lanes_NT'],\n",
      "      dtype='object'). Returning 0.\n",
      "2020-09-15 07:17:58, INFO: Converting variable type to MetCouncil standard\n",
      "2020-09-15 07:17:58, INFO: Converting variable type to MetCouncil standard\n",
      "2020-09-15 07:17:59, INFO: Setting Coordinate Reference System to EPSG 26915\n",
      "2020-09-15 07:17:59, INFO: Setting Coordinate Reference System to EPSG 26915\n"
     ]
    }
   ],
   "source": [
    "model_roadway_net = ModelRoadwayNetwork.from_RoadwayNetwork(roadway_network_object = roadway_net, parameters = parameters)\n",
    "model_roadway_net.roadway_standard_to_met_council_network()"
   ]
  },
  {
   "cell_type": "markdown",
   "metadata": {},
   "source": [
    "## Write to Disk"
   ]
  },
  {
   "cell_type": "code",
   "execution_count": 12,
   "metadata": {},
   "outputs": [
    {
     "name": "stdout",
     "output_type": "stream",
     "text": [
      "2020-09-15 07:21:44, INFO: Writing Network as Shapefile\n",
      "2020-09-15 07:21:44, INFO: Writing Network as Shapefile\n",
      "2020-09-15 07:21:44, INFO: Renaming DBF Node Variables\n",
      "2020-09-15 07:21:44, INFO: Renaming DBF Node Variables\n",
      "2020-09-15 07:21:44, INFO: Renaming variables so that they are DBF-safe\n",
      "2020-09-15 07:21:44, INFO: Renaming variables so that they are DBF-safe\n",
      "2020-09-15 07:21:44, INFO: Renaming DBF Link Variables\n",
      "2020-09-15 07:21:44, INFO: Renaming DBF Link Variables\n",
      "2020-09-15 07:21:44, INFO: Renaming variables so that they are DBF-safe\n",
      "2020-09-15 07:21:44, INFO: Renaming variables so that they are DBF-safe\n",
      "2020-09-15 07:21:45, INFO: Writing Node Shapes:\n",
      " - C:/Users\\david.ory\\Documents\\GitHub\\lasso\\examples\\stpaul\\cube\\nodes.shp\n",
      "2020-09-15 07:21:45, INFO: Writing Node Shapes:\n",
      " - C:/Users\\david.ory\\Documents\\GitHub\\lasso\\examples\\stpaul\\cube\\nodes.shp\n",
      "2020-09-15 07:21:49, INFO: Writing Link Shapes:\n",
      " - C:/Users\\david.ory\\Documents\\GitHub\\lasso\\examples\\stpaul\\cube\\links.shp\n",
      "2020-09-15 07:21:49, INFO: Writing Link Shapes:\n",
      " - C:/Users\\david.ory\\Documents\\GitHub\\lasso\\examples\\stpaul\\cube\\links.shp\n"
     ]
    }
   ],
   "source": [
    "model_roadway_net.write_roadway_as_shp(\n",
    "    output_link_shp = os.path.join(output_dir, 'links.shp'),\n",
    "    output_node_shp = os.path.join(output_dir, 'nodes.shp'),\n",
    "    data_to_csv = False,\n",
    ")"
   ]
  },
  {
   "cell_type": "code",
   "execution_count": 13,
   "metadata": {},
   "outputs": [
    {
     "name": "stdout",
     "output_type": "stream",
     "text": [
      "2020-09-15 07:22:04, INFO: Starting fixed width conversion\n",
      "2020-09-15 07:22:04, INFO: Starting fixed width conversion\n",
      "2020-09-15 07:25:34, INFO: Writing out link database\n",
      "2020-09-15 07:25:34, INFO: Writing out link database\n",
      "2020-09-15 07:25:36, INFO: Writing out link header and width ----\n",
      "2020-09-15 07:25:36, INFO: Writing out link header and width ----\n",
      "2020-09-15 07:25:36, INFO: Starting fixed width conversion\n",
      "2020-09-15 07:25:36, INFO: Starting fixed width conversion\n",
      "2020-09-15 07:25:43, INFO: Writing out node database\n",
      "2020-09-15 07:25:43, INFO: Writing out node database\n",
      "2020-09-15 07:25:43, INFO: Writing out node header and width\n",
      "2020-09-15 07:25:43, INFO: Writing out node header and width\n"
     ]
    }
   ],
   "source": [
    "model_roadway_net.write_roadway_as_fixedwidth(\n",
    "    output_link_txt = os.path.join(output_dir, 'links.txt'),\n",
    "    output_node_txt = os.path.join(output_dir, 'nodes.txt'),\n",
    "    output_link_header_width_txt = os.path.join(output_dir, 'links_header_width.txt'),\n",
    "    output_node_header_width_txt = os.path.join(output_dir, 'nodes_header_width.txt'),\n",
    "    output_cube_network_script = os.path.join(output_dir, 'make_complete_network_from_fixed_width_file.s'),\n",
    ")"
   ]
  },
  {
   "cell_type": "code",
   "execution_count": 17,
   "metadata": {},
   "outputs": [
    {
     "name": "stdout",
     "output_type": "stream",
     "text": [
      "2020-09-15 07:45:25, INFO: Lasso base directory set as: C:\\Users\\david.ory\\Documents\\GitHub\\Lasso\n",
      "2020-09-15 07:45:25, INFO: Lasso base directory set as: C:\\Users\\david.ory\\Documents\\GitHub\\Lasso\n",
      "2020-09-15 07:45:25, INFO: Converting GTFS Standard Properties to MetCouncil's Cube Standard\n",
      "2020-09-15 07:45:25, INFO: Converting GTFS Standard Properties to MetCouncil's Cube Standard\n"
     ]
    }
   ],
   "source": [
    "standard_transit_net = StandardTransit.fromTransitNetwork(transit_net)\n",
    "standard_transit_net.write_as_cube_lin(outpath = os.path.join(output_dir, \"transit.lin\"))"
   ]
  },
  {
   "cell_type": "markdown",
   "metadata": {},
   "source": [
    "## Make Cube Network"
   ]
  },
  {
   "cell_type": "code",
   "execution_count": 16,
   "metadata": {},
   "outputs": [
    {
     "data": {
      "text/plain": [
       "(None, None)"
      ]
     },
     "execution_count": 16,
     "metadata": {},
     "output_type": "execute_result"
    }
   ],
   "source": [
    "os.chdir(output_dir)\n",
    "p = Popen(\"make_cube.bat\")\n",
    "p.communicate()"
   ]
  },
  {
   "cell_type": "code",
   "execution_count": null,
   "metadata": {},
   "outputs": [],
   "source": []
  }
 ],
 "metadata": {
  "kernelspec": {
   "display_name": "Python 3",
   "language": "python",
   "name": "python3"
  },
  "language_info": {
   "codemirror_mode": {
    "name": "ipython",
    "version": 3
   },
   "file_extension": ".py",
   "mimetype": "text/x-python",
   "name": "python",
   "nbconvert_exporter": "python",
   "pygments_lexer": "ipython3",
   "version": "3.7.7"
  }
 },
 "nbformat": 4,
 "nbformat_minor": 4
}