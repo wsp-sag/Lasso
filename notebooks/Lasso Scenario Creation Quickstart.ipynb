{
 "cells": [
  {
   "cell_type": "markdown",
   "metadata": {},
   "source": [
    "# Lasso Scenario Creation Quickstart\n",
    "\n",
    "In this notebook we will run through:\n",
    "\n",
    "1. Using a configuration file to run lasso  \n",
    "2. Setting up a base scenario and applying projects  \n",
    "3. Transforming the standard network format to the MetCouncil expected format    \n",
    "4. Exporting the network to a shapefile and csvs  "
   ]
  },
  {
   "cell_type": "code",
   "execution_count": null,
   "metadata": {},
   "outputs": [],
   "source": [
    "import os\n",
    "import sys\n",
    "import yaml\n",
    "\n",
    "import pandas as pd\n",
    "\n",
    "from network_wrangler import RoadwayNetwork\n",
    "from network_wrangler import TransitNetwork\n",
    "from network_wrangler import ProjectCard\n",
    "from network_wrangler import Scenario\n",
    "from network_wrangler import WranglerLogger\n",
    "\n",
    "from lasso import ModelRoadwayNetwork\n",
    "from lasso import StandardTransit"
   ]
  },
  {
   "cell_type": "code",
   "execution_count": null,
   "metadata": {},
   "outputs": [],
   "source": [
    "%load_ext autoreload\n",
    "%autoreload 2"
   ]
  },
  {
   "cell_type": "code",
   "execution_count": null,
   "metadata": {},
   "outputs": [],
   "source": [
    "import logging\n",
    "logger = logging.getLogger(\"WranglerLogger\")\n",
    "logger.handlers[0].stream = sys.stdout\n",
    "# if you don't want to see so much detail, set to logging.INFO or DEBUG\n",
    "logger.setLevel(logging.DEBUG)"
   ]
  },
  {
   "cell_type": "markdown",
   "metadata": {},
   "source": [
    "# Configuring  a Scenario\n",
    "\n",
    "There are three places where scenario parameters live, each one overriding the previous:\n",
    "### 1. [**Default parameters** as specified in `Parameters.py`](https://wsp-sag.github.io/Lasso/_generated/lasso.Parameters.html#lasso.Parameters).  \n",
    "\n",
    "The defaults are specified here as reasonable assumptions for MetCouncil, but should be examined.\n",
    "\n",
    "```python\n",
    "model_road_net = ModelRoadwayNetwork.from_RoadwayNetwork(\n",
    "    my_scenario.road_net,\n",
    ")\n",
    "```\n",
    "\n",
    "\n",
    "### 2. **Config File** \n",
    "A config file is a yaml-formatted file which provides a separate place (from your code) to document configurations and parameters. Methods which have a parameters option can be fed the config file (i.e. `parameters=my_config.get(\"my_parameters\", {})`) to have all the default parameters updated for the purposes of that method rather than having to specify each of them separately.  \n",
    "\n",
    "**Using the config file to override default parameters in bulk**\n",
    "\n",
    "```python\n",
    "model_road_net = ModelRoadwayNetwork.from_RoadwayNetwork(\n",
    "    my_scenario.road_net, parameters=my_config.get(\"my_parameters\", {})\n",
    ")\n",
    "```\n",
    "\n",
    "**Using the config file to store information outside of code**\n",
    "The config file can also store other file location information (i.e. input network) that you don't want to have in your code itself. \n",
    "\n",
    "```python\n",
    "base_scenario = Scenario.create_base_scenario(\n",
    "        my_config[\"base_scenario\"][\"shape_file_name\"],\n",
    "        my_config[\"base_scenario\"][\"link_file_name\"],\n",
    "        my_config[\"base_scenario\"][\"node_file_name\"],\n",
    "        roadway_dir=os.path.join(base_wrangler_path,my_config[\"base_scenario\"][\"input_dir\"]),\n",
    "        transit_dir=os.path.join(base_wrangler_path,my_config[\"base_scenario\"][\"input_dir\"]),\n",
    "        validate=False\n",
    "    )\n",
    "```\n",
    "\n",
    "###  3. **Method or Function Keyword Arguments** \n",
    "This method will override any default parameters or those fed in with the bulk `parameters =` keyword argument for individual methods. \n",
    "\n",
    "```python\n",
    "model_road_net.write_roadway_as_shp(\n",
    "    output_link_shp = \"my_own_link_shp.shp\",\n",
    "    output_node_shp = \"my_own_link_shp.shp\",\n",
    ")\n",
    "```\n",
    "\n",
    "## Config File\n",
    "\n",
    "Let's examine the configuration file and store it as `my_config` variable.  \n",
    "\n",
    "Configuration files are written in YAML and read in as python dictionaries."
   ]
  },
  {
   "cell_type": "code",
   "execution_count": null,
   "metadata": {},
   "outputs": [],
   "source": [
    "MY_CONFIG_FILE = os.path.join(\n",
    "    os.path.dirname(os.path.abspath('')), \"examples\", \"settings\",\"my_config.yaml\"\n",
    ")\n",
    "\n",
    "with open(MY_CONFIG_FILE) as f:\n",
    "        my_config = yaml.safe_load(f)\n",
    "        \n",
    "import json\n",
    "print(json.dumps(my_config, indent=2))\n",
    "\n",
    "## Alternatively this could be written as a dictionary created in the notebook our selected via a notebook GUI"
   ]
  },
  {
   "cell_type": "markdown",
   "metadata": {},
   "source": [
    "## Create a Base Scenario\n",
    "\n",
    "Base scenarios must at the least specify a highway network but can also specify a directory where transit networks can be found.  \n",
    "\n",
    "In this step the highway and transit networks are read in and validated to each other – making sure that transit nodes exist and the routes can be followed along the roadway network..  \n",
    "\n",
    "Validation can take some time, so if you are already confident that your roadway and transit networks are valid and compatible you may want to override the validation using the flag: `validate = False`."
   ]
  },
  {
   "cell_type": "code",
   "execution_count": null,
   "metadata": {},
   "outputs": [],
   "source": [
    "base_wrangler_path = os.path.join(os.path.dirname((os.path.dirname(os.path.abspath('')))),\"network_wrangler\")\n",
    "WranglerLogger.info(\"Base Wrangler Path: {}\".format(base_wrangler_path))\n",
    "\n",
    "base_scenario = Scenario.create_base_scenario(\n",
    "        my_config[\"base_scenario\"][\"shape_file_name\"],\n",
    "        my_config[\"base_scenario\"][\"link_file_name\"],\n",
    "        my_config[\"base_scenario\"][\"node_file_name\"],\n",
    "        roadway_dir=os.path.join(base_wrangler_path,my_config[\"base_scenario\"][\"input_dir\"]),\n",
    "        transit_dir=os.path.join(base_wrangler_path,my_config[\"base_scenario\"][\"input_dir\"]),\n",
    "        validate=False\n",
    "    )"
   ]
  },
  {
   "cell_type": "markdown",
   "metadata": {},
   "source": [
    "#### Create project cards from projects that are explicitely specified in config\n"
   ]
  },
  {
   "cell_type": "code",
   "execution_count": null,
   "metadata": {},
   "outputs": [],
   "source": [
    "if len(my_config[\"scenario\"][\"project_cards_filenames\"]) > 0:\n",
    "    project_cards_list = [\n",
    "        ProjectCard.read(filename, validate=False)\n",
    "        for filename in my_config[\"scenario\"][\"project_cards_filenames\"]\n",
    "    ]\n",
    "else: \n",
    "    project_cards_list = []\n",
    "project_cards_list"
   ]
  },
  {
   "cell_type": "markdown",
   "metadata": {},
   "source": [
    "## Create Scenario\n",
    "\n",
    "A scenario is constructed with a base scenario and then selecting project cards to be added to that base scenario to create the new scenario using the command `my_scenario = Scenario.create_scenario()`\n",
    "\n",
    "Projects can be added using the following combination of keyword arguments within `Scenario.create_scenario()`:\n",
    "\n",
    " 1. `card_directory` + `tags` will search a directory add project's who's project tags match *at least one of* the tags in the keyword.\n",
    " 2. `card_directory` + `glob_search` will search a directory add project's who's file name matches the [glob search text](https://docs.python.org/3/library/glob.html)\n",
    " 3. `project_cards_list` is a list of ProjectCard objects\n",
    " \n",
    "Be default, project cards added in `Scenario.create_scenario()` are validated to the project card schema when they are  read in.  However, since validation can take some time you may wish to override the validation using the flag `validate_project_cards` if you are already confident that your project cards are valid.\n",
    "\n",
    "   `validate_project_cards = False`\n",
    "   \n",
    "Projects that are not added to the scenario instance (i.e. `my_scenario`) when it is created from `Scenario.create_scenario()` can be added to the scenario instane later by using the following helper methods:  \n",
    "\n",
    " - `my_scenario.add_project_card_from_file()`  \n",
    " - `my_scenario.add_project_cards_from_directory()`  \n",
    " - `my_scenario.add_project_cards_from_tags()`\n",
    " \n",
    "...or by directly adding a ProjectCard intance (i.e. `my_project`) to the scenario instance's `project` attribute:\n",
    "\n",
    "```python\n",
    "my_project = ProjectCard.read(path_to_project_card)\n",
    "my_scenario.projects += my_project\n",
    "\n",
    "```\n"
   ]
  },
  {
   "cell_type": "code",
   "execution_count": null,
   "metadata": {},
   "outputs": [],
   "source": [
    "my_scenario=None\n",
    "\n",
    "my_scenario = Scenario.create_scenario(\n",
    "    base_scenario=base_scenario,\n",
    "    card_directory=os.path.join(base_wrangler_path,my_config[\"scenario\"][\"card_directory\"]),\n",
    "    tags=my_config[\"scenario\"][\"tags\"],\n",
    "    project_cards_list=project_cards_list,\n",
    "    glob_search=my_config[\"scenario\"][\"glob_search\"],\n",
    "    validate_project_cards=False,\n",
    ")"
   ]
  },
  {
   "cell_type": "markdown",
   "metadata": {},
   "source": [
    "### Apply all projects in scenario"
   ]
  },
  {
   "cell_type": "code",
   "execution_count": null,
   "metadata": {},
   "outputs": [],
   "source": [
    "WranglerLogger.info(\"\\nProjects in queue to be applied: \\n - {}\".format(\"\\n - \".join(my_scenario.get_project_names())))\n",
    "WranglerLogger.info(\"\\n[Before] Applied Projects: \\n - {}\".format(\"\\n - \".join(my_scenario.applied_projects)))\n",
    "\n",
    "my_scenario.apply_all_projects()\n",
    "\n",
    "WranglerLogger.info(\"\\n[After] Applied Projects: \\n - {}\".format(\"\\n - \".join(my_scenario.applied_projects)))"
   ]
  },
  {
   "cell_type": "markdown",
   "metadata": {},
   "source": [
    "# Write out as MetCouncil Model Roadway Network\n",
    "Everything above was done in \"pure wrangler\" rather than lasso.  However, we will need Lasso in order to add the MetCouncil specific variables. You can create a lasso ModelRoadwayNetwork object from the roadway network object and feed it any additional parameters from that `my_config` variable.\n",
    "\n",
    "You can see that the link variables for this network are the same as the standard roadway network at this point but that will change.\n",
    "\n",
    "Since this is a GeoDataFrame you can also use build-in Geopandas features to make simple plots based on these variables."
   ]
  },
  {
   "cell_type": "code",
   "execution_count": null,
   "metadata": {},
   "outputs": [],
   "source": [
    "model_road_net = ModelRoadwayNetwork.from_RoadwayNetwork(\n",
    "    my_scenario.road_net, parameters=my_config.get(\"my_parameters\", {})\n",
    ")\n",
    "\n",
    "WranglerLogger.info(\"\\nmodel_road_net columns:\\n - {}\".format(\"\\n - \".join(model_road_net.links_df.columns)))"
   ]
  },
  {
   "cell_type": "code",
   "execution_count": null,
   "metadata": {},
   "outputs": [],
   "source": [
    "model_road_net.links_df.geom_type"
   ]
  },
  {
   "cell_type": "code",
   "execution_count": null,
   "metadata": {},
   "outputs": [],
   "source": [
    "model_road_net.links_df.plot(\"bike_access\")"
   ]
  },
  {
   "cell_type": "markdown",
   "metadata": {},
   "source": [
    "## Add MetCouncil variables\n",
    "At this point, we need to calculate all the variables into what MetCouncil's model is expecting. The method `roadway_standard_to_met_council_network()` broadly does the following:  \n",
    " \n",
    "- creates a parallel managed lane network\n",
    "- calculates additional variables based on geography or other variables (i.e. county, assignment group, area type, etc)\n",
    "- flattens variables stored as continuous time values and determines their value by time period (i.e. lanes_am)   \n",
    "- reprojects into MetCouncil's projection"
   ]
  },
  {
   "cell_type": "code",
   "execution_count": null,
   "metadata": {},
   "outputs": [],
   "source": [
    "model_road_net.roadway_standard_to_met_council_network()"
   ]
  },
  {
   "cell_type": "code",
   "execution_count": null,
   "metadata": {},
   "outputs": [],
   "source": [
    "WranglerLogger.info(\"\\nmodel_road_net **links_metcouncil** columns:\\n - {}\".format(\"\\n - \".join(model_road_net.links_metcouncil_df.columns)))"
   ]
  },
  {
   "cell_type": "code",
   "execution_count": null,
   "metadata": {},
   "outputs": [],
   "source": [
    "model_road_net.links_metcouncil_df.plot(\"lanes_AM\")"
   ]
  },
  {
   "cell_type": "markdown",
   "metadata": {},
   "source": [
    "## Export to shapefile\n",
    "\n",
    "As a last step, the network can be exported to a shapefile and paired CSVs after removing extraneous variables.\n",
    "\n",
    "(note that this step will also run the `roadway_standard_to_met_council_network()` method but I wanted to show it to you piecewise)"
   ]
  },
  {
   "cell_type": "code",
   "execution_count": null,
   "metadata": {},
   "outputs": [],
   "source": [
    "model_road_net.write_roadway_as_shp()"
   ]
  },
  {
   "cell_type": "markdown",
   "metadata": {},
   "source": [
    "# Export to fixed width file"
   ]
  },
  {
   "cell_type": "code",
   "execution_count": null,
   "metadata": {},
   "outputs": [],
   "source": [
    "model_road_net.write_roadway_as_fixedwidth()"
   ]
  },
  {
   "cell_type": "markdown",
   "metadata": {},
   "source": [
    "# Write out as MetCouncil Model Transit Network\n",
    "\n",
    "Similar to the roadway network, the first step is to convert it to a Lasso object, and then write it to a cube line file.  Optionally, you could also export it to a shapefile to inspect using other means. "
   ]
  },
  {
   "cell_type": "code",
   "execution_count": null,
   "metadata": {},
   "outputs": [],
   "source": [
    "standard_transit = StandardTransit.fromTransitNetwork(my_scenario.transit_net)\n",
    "standard_transit.feed"
   ]
  },
  {
   "cell_type": "markdown",
   "metadata": {},
   "source": [
    "Write out the StandardTransit Lasso object to a cube line file:"
   ]
  },
  {
   "cell_type": "code",
   "execution_count": null,
   "metadata": {},
   "outputs": [],
   "source": [
    "standard_transit.write_as_cube_lin()"
   ]
  },
  {
   "cell_type": "code",
   "execution_count": null,
   "metadata": {},
   "outputs": [],
   "source": [
    "BASE_ROADWAY_DIRECTORY = ''\n",
    "BASE_TRANSIT_DIRECTORY = ''"
   ]
  }
 ],
 "metadata": {
  "kernelspec": {
   "display_name": "Python 3",
   "language": "python",
   "name": "python3"
  },
  "language_info": {
   "codemirror_mode": {
    "name": "ipython",
    "version": 3
   },
   "file_extension": ".py",
   "mimetype": "text/x-python",
   "name": "python",
   "nbconvert_exporter": "python",
   "pygments_lexer": "ipython3",
   "version": "3.7.9"
  }
 },
 "nbformat": 4,
 "nbformat_minor": 2
}
